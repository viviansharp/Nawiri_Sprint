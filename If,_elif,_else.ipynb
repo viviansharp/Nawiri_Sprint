{
  "cells": [
    {
      "cell_type": "markdown",
      "metadata": {
        "id": "view-in-github",
        "colab_type": "text"
      },
      "source": [
        "<a href=\"https://colab.research.google.com/github/viviansharp/Nawiri_Sprint/blob/main/If%2C_elif%2C_else.ipynb\" target=\"_parent\"><img src=\"https://colab.research.google.com/assets/colab-badge.svg\" alt=\"Open In Colab\"/></a>"
      ]
    },
    {
      "cell_type": "markdown",
      "metadata": {
        "id": "EsGyXxBtVaVj"
      },
      "source": [
        "<center><img src=\"https://images.squarespace-cdn.com/content/v1/63ad4ba82d1ef311d74b008d/ab1297c0-3227-4ea4-94a3-10fcf4efd0d2/NAWIRIfoo.png?format=300w\" style=\"height:150px\"></center>\n",
        "<center><h2> Problem Solving and Programming </h2></center>\n",
        "<hr style=\"border-width:2px;border-color:#002f70\">\n",
        "<center><h2> Working with Data</h2></center>\n",
        "<center><h3> If, elif else<h3></center>\n",
        "<hr style=\"border-width:2px;border-color:#002f70\">"
      ]
    },
    {
      "cell_type": "code",
      "execution_count": 1,
      "metadata": {
        "id": "0BjYvzA7VaVn"
      },
      "outputs": [],
      "source": [
        "some_countries=['Ethiopia','Madagascar','Senegal','Nigeria','Burundi','Uganda','Rwanda','South Africa','Kenya','Togo','Tunisa','Burundi','Ethiopia','Ghana','Democratic Republic of Congo','Zibabwe','Zambia','Togo','Nigeria','Ethiopia','Togo','Burundi','Madagascar']"
      ]
    },
    {
      "cell_type": "markdown",
      "metadata": {
        "id": "gxICL_3VVaVp"
      },
      "source": [
        "Let's go back to a question we tackled earlier. In the `Lists notebook`, we had a problem of duplicate countries. A classic data problem. What if we could check whether an element appears more than once, and immediately delete it, using a few lines of code!\n",
        "\n",
        "Let's try work on this"
      ]
    },
    {
      "cell_type": "markdown",
      "metadata": {
        "id": "d2GF6BIbVaVq"
      },
      "source": [
        "In programming, we often want to run a specific code, based on whether a certain condition is true. \n",
        "\n",
        ">Consider Mark's choices on investments in real life. If an investment meets a specific set of conditions, he can trust it and he invests a lot of money in it. If it meets only a few conditions, he invests a little money. If no condtions are met, he invests elsewhere.\n",
        "\n",
        "This is the same as programming. We use the key words `if`, `elif`(short for else if), and `else`.\n",
        "\n",
        "> Let's see this in an example, where we want to find high population countries. We will classify any country with population equal or above 90 million as high population."
      ]
    },
    {
      "cell_type": "code",
      "execution_count": 2,
      "metadata": {
        "id": "NaC1hf2tVaVq"
      },
      "outputs": [],
      "source": [
        "population=[122520463,17914954,219711928,49575968,13803365,61291696,56910721,8793585,12146523,12830849,32793809,96781959,15436764,19750494, 29580236]"
      ]
    },
    {
      "cell_type": "code",
      "execution_count": 3,
      "metadata": {
        "id": "QdUTre8rVaVr",
        "outputId": "b955d387-2adb-4431-b1c7-57898e886d7f",
        "colab": {
          "base_uri": "https://localhost:8080/"
        }
      },
      "outputs": [
        {
          "output_type": "stream",
          "name": "stdout",
          "text": [
            "High population\n",
            "High population\n",
            "High population\n"
          ]
        }
      ],
      "source": [
        "for pop in population:\n",
        "    if pop>89999999:\n",
        "        print(\"High population\")"
      ]
    },
    {
      "cell_type": "markdown",
      "metadata": {
        "id": "03N7rDnnVaVs"
      },
      "source": [
        "Now this is good, since we can see our list only contains three high population countries. However, we can make this better by including another print for unincluded countries. If a country is not high population, we can write `Medium population`."
      ]
    },
    {
      "cell_type": "markdown",
      "metadata": {
        "id": "2plb1czBVaVt"
      },
      "source": [
        "> You can note the similarities between a `for loop` and an `if`,`elif`, and `else`. They all have a colon after, and the code underneath comes after an indent. **BE SURE TO INDENT, OTHERWISE YOU'LL RUN INTO ERRORS**"
      ]
    },
    {
      "cell_type": "code",
      "execution_count": 4,
      "metadata": {
        "id": "m_IFxaI4VaVt",
        "outputId": "e421fe0d-faca-484b-ed0e-e6f5547ceb58",
        "colab": {
          "base_uri": "https://localhost:8080/"
        }
      },
      "outputs": [
        {
          "output_type": "stream",
          "name": "stdout",
          "text": [
            "High population\n",
            "Medium population\n",
            "High population\n",
            "Medium population\n",
            "Medium population\n",
            "Medium population\n",
            "Medium population\n",
            "Medium population\n",
            "Medium population\n",
            "Medium population\n",
            "Medium population\n",
            "High population\n",
            "Medium population\n",
            "Medium population\n",
            "Medium population\n"
          ]
        }
      ],
      "source": [
        "for pop in population:\n",
        "    if pop>89999999:\n",
        "        print(\"High population\")\n",
        "    else:\n",
        "        print(\"Medium population\")"
      ]
    },
    {
      "cell_type": "markdown",
      "metadata": {
        "id": "PBumQIwPVaVu"
      },
      "source": [
        "Great! We can see that most countries are `Medium population`. But as you might already be thinking, medium is not the best classification. Some countries have a population of 5 million yet they are classified together with countries with 80 million +. Let's set a threshhold for `Low population` countries. These are countries that have a population of `30 million and below`. We'll use `elif` for this."
      ]
    },
    {
      "cell_type": "markdown",
      "metadata": {
        "id": "U1Lzt0waVaVu"
      },
      "source": [
        "> One thing to note is that `else` does not take any conditions. It's like the last resort. If all the conditions have been tried and none is met, then do this. **Only *if* and *elif* take conditions**\n",
        "\n",
        "> Another thing to see is that when we use `if`, we don't have to use `elif` or `else`. Infact, we can use only `if`. The rule is that both `elif`, and `else` have to be preceded by an `if`, and the rest is up to you. Can you think of how this makes sense in the real world?"
      ]
    },
    {
      "cell_type": "code",
      "execution_count": 5,
      "metadata": {
        "id": "_uz2dNvCVaVu",
        "outputId": "7407614a-30a0-4b06-df91-bc45ffb25127",
        "colab": {
          "base_uri": "https://localhost:8080/"
        }
      },
      "outputs": [
        {
          "output_type": "stream",
          "name": "stdout",
          "text": [
            "High population\n",
            "Low population\n",
            "High population\n",
            "Medium population\n",
            "Low population\n",
            "Medium population\n",
            "Medium population\n",
            "Low population\n",
            "Low population\n",
            "Low population\n",
            "Medium population\n",
            "High population\n",
            "Low population\n",
            "Low population\n",
            "Low population\n"
          ]
        }
      ],
      "source": [
        "for pop in population:\n",
        "    if pop>89999999:\n",
        "        print(\"High population\")\n",
        "    elif pop>29999999:\n",
        "        print(\"Medium population\")\n",
        "    else:\n",
        "        print(\"Low population\")"
      ]
    },
    {
      "cell_type": "markdown",
      "metadata": {
        "id": "NRU10ArxVaVu"
      },
      "source": [
        "Great! But again, our data is not useful at all. We don't know which country specifically is high, medium or low population. Let's print each country alongside their classification. The output should look like this:\n",
        "```\n",
        "Ethiopia : High population country\n",
        "Senegal : Low population country\n",
        "Nigera : High population country\n",
        "Uganda : Medium population country\n",
        "Rwanda : Low population country\n",
        "...\n",
        "Madagascar : Low population country\n",
        "```\n",
        "\n",
        "Use the countries list below. Each population aligns with the respective country."
      ]
    },
    {
      "cell_type": "code",
      "execution_count": 6,
      "metadata": {
        "id": "PM9ws3QGVaVv"
      },
      "outputs": [],
      "source": [
        "countries=['Ethiopia','Senegal','Nigera','Uganda','Rwanda','South Africa','Kenya','Togo','Tunisia','Burundi','Ghana','Democratic Republic of Congo','Zimbabwe','Zambia','Madagascar']"
      ]
    },
    {
      "cell_type": "code",
      "execution_count": 11,
      "metadata": {
        "id": "bvkTvxo9VaVv",
        "colab": {
          "base_uri": "https://localhost:8080/"
        },
        "outputId": "03b6be53-45dd-4b59-f0e6-c89983b974e5"
      },
      "outputs": [
        {
          "output_type": "stream",
          "name": "stdout",
          "text": [
            "High population\n",
            "Low population\n",
            "High population\n",
            "['Ethiopia', 'Senegal', 'Nigera', 'Uganda', 'Rwanda', 'South Africa', 'Kenya', 'Togo', 'Tunisia', 'Burundi', 'Ghana', 'Democratic Republic of Congo', 'Zimbabwe', 'Zambia', 'Madagascar'] Medium population\n",
            "Low population\n",
            "['Ethiopia', 'Senegal', 'Nigera', 'Uganda', 'Rwanda', 'South Africa', 'Kenya', 'Togo', 'Tunisia', 'Burundi', 'Ghana', 'Democratic Republic of Congo', 'Zimbabwe', 'Zambia', 'Madagascar'] Medium population\n",
            "['Ethiopia', 'Senegal', 'Nigera', 'Uganda', 'Rwanda', 'South Africa', 'Kenya', 'Togo', 'Tunisia', 'Burundi', 'Ghana', 'Democratic Republic of Congo', 'Zimbabwe', 'Zambia', 'Madagascar'] Medium population\n",
            "Low population\n",
            "Low population\n",
            "Low population\n",
            "['Ethiopia', 'Senegal', 'Nigera', 'Uganda', 'Rwanda', 'South Africa', 'Kenya', 'Togo', 'Tunisia', 'Burundi', 'Ghana', 'Democratic Republic of Congo', 'Zimbabwe', 'Zambia', 'Madagascar'] Medium population\n",
            "High population\n",
            "Low population\n",
            "Low population\n",
            "Low population\n"
          ]
        }
      ],
      "source": [
        "# \n",
        "for pop in population:\n",
        "    if pop>89999999:\n",
        "        print(\"High population\")\n",
        "    elif pop>29999999:\n",
        "        print(countries,\"Medium population\")\n",
        "    else:\n",
        "        print(\"Low population\")"
      ]
    },
    {
      "cell_type": "markdown",
      "metadata": {
        "id": "TIPxJk05VaVv"
      },
      "source": [
        "Now that's a bit better. It's good for classification, and meets conditions for tidy data, which we'll see in lessons during the program. However, for presentation, it could be better. We'll work on this more a bit later.\n",
        "\n",
        "Let's get back to working on duplicate data"
      ]
    },
    {
      "cell_type": "code",
      "execution_count": 10,
      "metadata": {
        "id": "rTm9puwEVaVv",
        "outputId": "9921d486-2bc7-4f0e-8ccc-beb6a4e1366a",
        "colab": {
          "base_uri": "https://localhost:8080/"
        }
      },
      "outputs": [
        {
          "output_type": "stream",
          "name": "stdout",
          "text": [
            "['Ethiopia', 'Madagascar', 'Senegal', 'Nigeria', 'Burundi', 'Uganda', 'Rwanda', 'South Africa', 'Kenya', 'Togo', 'Tunisa', 'Burundi', 'Ethiopia', 'Ghana', 'Democratic Republic of Congo', 'Zibabwe', 'Zambia', 'Togo', 'Nigeria', 'Ethiopia', 'Togo', 'Burundi', 'Madagascar']\n"
          ]
        }
      ],
      "source": [
        "print(some_countries)"
      ]
    },
    {
      "cell_type": "markdown",
      "metadata": {
        "id": "LFohPxXpVaVw"
      },
      "source": [
        "Let's print all countries that have a `count>1`. Refer to the `lists notebook` if this is unfamiliar."
      ]
    },
    {
      "cell_type": "code",
      "execution_count": null,
      "metadata": {
        "id": "GJbNo5IKVaVw",
        "outputId": "74fb741c-4e69-494b-f047-05bf606098c3"
      },
      "outputs": [
        {
          "name": "stdout",
          "output_type": "stream",
          "text": [
            "Ethiopia 3\n",
            "Madagascar 2\n",
            "Nigeria 2\n",
            "Burundi 3\n",
            "Togo 3\n",
            "Burundi 3\n",
            "Ethiopia 3\n",
            "Togo 3\n",
            "Nigeria 2\n",
            "Ethiopia 3\n",
            "Togo 3\n",
            "Burundi 3\n",
            "Madagascar 2\n"
          ]
        }
      ],
      "source": [
        "# if country appears more than once, print it out\n",
        "for country in some_countries:\n",
        "    if some_countries.count(country)>1:\n",
        "        print(country,some_countries.count(country))"
      ]
    },
    {
      "cell_type": "markdown",
      "metadata": {
        "id": "G-fIVRizVaVx"
      },
      "source": [
        "Nice. Although it's a bit repetitive, we can see that some countries appear 3 times, others twice. Can you think of ways in which we can delete all countries that appear more than once?"
      ]
    },
    {
      "cell_type": "code",
      "execution_count": null,
      "metadata": {
        "id": "VEORwxBHVaVx"
      },
      "outputs": [],
      "source": [
        "# code a solution to remove duplicates\n",
        "# hint: you can store the solutions in another list\n"
      ]
    },
    {
      "cell_type": "markdown",
      "metadata": {
        "id": "lNC8GDqnVaVx"
      },
      "source": [
        "There's a cheatcode when working with duplicates in a list. We can introduce another data structure called a `set`. A set is like a list, only that it *does not allow duplicates*. So turning this list into a set will solve our issue. This does not work all the time, but in this case, it's a good shortcut."
      ]
    },
    {
      "cell_type": "code",
      "execution_count": null,
      "metadata": {
        "id": "ileToqb6VaVy",
        "outputId": "c5a42230-caa3-4fa6-e9e5-afa7fe340f52"
      },
      "outputs": [
        {
          "name": "stdout",
          "output_type": "stream",
          "text": [
            "{'Burundi', 'Nigeria', 'Senegal', 'Zibabwe', 'Zambia', 'Kenya', 'Ethiopia', 'Ghana', 'South Africa', 'Democratic Republic of Congo', 'Togo', 'Tunisa', 'Madagascar', 'Uganda', 'Rwanda'}\n"
          ]
        }
      ],
      "source": [
        "print(set(some_countries))"
      ]
    }
  ],
  "metadata": {
    "anaconda-cloud": {},
    "celltoolbar": "Éditer les Méta-Données",
    "hide_input": false,
    "kernelspec": {
      "display_name": "Python 3",
      "language": "python",
      "name": "python3"
    },
    "language_info": {
      "codemirror_mode": {
        "name": "ipython",
        "version": 3
      },
      "file_extension": ".py",
      "mimetype": "text/x-python",
      "name": "python",
      "nbconvert_exporter": "python",
      "pygments_lexer": "ipython3",
      "version": "3.10.2"
    },
    "latex_envs": {
      "LaTeX_envs_menu_present": true,
      "autoclose": false,
      "autocomplete": true,
      "bibliofile": "biblio.bib",
      "cite_by": "apalike",
      "current_citInitial": 1,
      "eqLabelWithNumbers": true,
      "eqNumInitial": 1,
      "hotkeys": {
        "equation": "Ctrl-E",
        "itemize": "Ctrl-I"
      },
      "labels_anchors": false,
      "latex_user_defs": false,
      "report_style_numbering": false,
      "user_envs_cfg": false
    },
    "n_questions": 1,
    "nbTranslate": {
      "displayLangs": [
        "*"
      ],
      "hotkey": "alt-t",
      "langInMainMenu": true,
      "sourceLang": "fr",
      "targetLang": "en",
      "useGoogleTranslate": true
    },
    "owner": "DataScientest",
    "vscode": {
      "interpreter": {
        "hash": "a0329d1e859fdaae7091121e22fb799195311d986a530316c2954a05cd641814"
      }
    },
    "colab": {
      "provenance": [],
      "include_colab_link": true
    }
  },
  "nbformat": 4,
  "nbformat_minor": 0
}