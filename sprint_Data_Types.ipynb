{
  "cells": [
    {
      "cell_type": "markdown",
      "metadata": {
        "id": "view-in-github",
        "colab_type": "text"
      },
      "source": [
        "<a href=\"https://colab.research.google.com/github/viviansharp/Nawiri_Sprint/blob/main/sprint_Data_Types.ipynb\" target=\"_parent\"><img src=\"https://colab.research.google.com/assets/colab-badge.svg\" alt=\"Open In Colab\"/></a>"
      ]
    },
    {
      "cell_type": "markdown",
      "metadata": {
        "id": "wuagRFu9BcNB"
      },
      "source": [
        "<center><img src=\"https://images.squarespace-cdn.com/content/v1/63ad4ba82d1ef311d74b008d/ab1297c0-3227-4ea4-94a3-10fcf4efd0d2/NAWIRIfoo.png?format=300w\" style=\"height:150px\"></center>\n",
        "<center><h2> Problem Solving and Programming </h2></center>\n",
        "<hr style=\"border-width:2px;border-color:#002f70\">\n",
        "<center><h2> Introduction to Python</h2></center>\n",
        "<center><h3> Data Types and Variables<h3></center>\n",
        "<hr style=\"border-width:2px;border-color:#002f70\">"
      ]
    },
    {
      "cell_type": "markdown",
      "metadata": {
        "id": "GI8SKQcqBcNE"
      },
      "source": [
        "As we have seen in the last notebook, there are different data types. In this notebook, we'll dive into understanding some basic data types: \n",
        "* int\n",
        "* float\n",
        "* str "
      ]
    },
    {
      "cell_type": "markdown",
      "metadata": {
        "id": "nF8bvpK7BcNF"
      },
      "source": [
        "### Integers"
      ]
    },
    {
      "cell_type": "markdown",
      "metadata": {
        "id": "cSwzYttXBcNG"
      },
      "source": [
        "We've worked with integers in the previous notebooks. These are generally all the positive or negative whole numbers. Let's use examples from the previous notebook."
      ]
    },
    {
      "cell_type": "code",
      "execution_count": 2,
      "metadata": {
        "id": "NWxlORxHBcNG"
      },
      "outputs": [],
      "source": [
        "bank_money = 500\n",
        "cash_money = 600\n",
        "x=1042003543"
      ]
    },
    {
      "cell_type": "code",
      "execution_count": 3,
      "metadata": {
        "id": "zmVdMG9_BcNI",
        "colab": {
          "base_uri": "https://localhost:8080/"
        },
        "outputId": "9019ffe1-1228-4d72-e199-60a4c1844755"
      },
      "outputs": [
        {
          "output_type": "stream",
          "name": "stdout",
          "text": [
            "<class 'int'>\n",
            "<class 'int'>\n",
            "<class 'int'>\n"
          ]
        }
      ],
      "source": [
        "# Run this cell to see the respective types\n",
        "print(type(bank_money))\n",
        "print(type(cash_money))\n",
        "print(type(x))"
      ]
    },
    {
      "cell_type": "markdown",
      "metadata": {
        "id": "hYSJxZ60BcNJ"
      },
      "source": [
        "The output, `<class 'int'>` means that the variable is of type `int`.  `bank_money`, `cash_money` and `x` are all integers."
      ]
    },
    {
      "cell_type": "markdown",
      "metadata": {
        "id": "uNUGGZBYBcNK"
      },
      "source": [
        "### Float"
      ]
    },
    {
      "cell_type": "markdown",
      "metadata": {
        "id": "l9NpTku3BcNK"
      },
      "source": [
        "If a number has a decimal/floating point, then it's not an integer type, but a float. Hence, all numbers with a decimal/floating point are classified as `float`. The reason there is a difference in categorizing this two, is because a computer has to keep track of numbers before, and after the floating point."
      ]
    },
    {
      "cell_type": "code",
      "execution_count": null,
      "metadata": {
        "id": "JpJO-tlkBcNL"
      },
      "outputs": [],
      "source": [
        "pi=3.142\n",
        "ghana_rate=12.82 # This is the exchange rate for usd to ghanian ced\n",
        "bank_money = 600.0"
      ]
    },
    {
      "cell_type": "code",
      "execution_count": null,
      "metadata": {
        "id": "HajJID9zBcNM"
      },
      "outputs": [],
      "source": [
        "print(type(pi))\n",
        "print(type(ghana_rate))\n",
        "print(type(bank_money))"
      ]
    },
    {
      "cell_type": "markdown",
      "metadata": {
        "id": "WfpyqusrBcNM"
      },
      "source": [
        "Even though `bank_money` is `600.0`, it still has a floating point, which makes it type `float`."
      ]
    },
    {
      "cell_type": "markdown",
      "metadata": {
        "id": "qZ_glZ_wBcNM"
      },
      "source": [
        "We can convert numbers from integers to float, and vice versa. This is done by `casting`. Let's see examples."
      ]
    },
    {
      "cell_type": "code",
      "execution_count": null,
      "metadata": {
        "id": "tCcICDX_BcNM",
        "outputId": "9be7e126-62d3-4dcf-db2e-361f5d7d11b3"
      },
      "outputs": [
        {
          "name": "stdout",
          "output_type": "stream",
          "text": [
            "600.0\n"
          ]
        }
      ],
      "source": [
        "# convert cash money to float\n",
        "cash_moneyfloat=float(cash_money)\n",
        "print(cash_moneyfloat)"
      ]
    },
    {
      "cell_type": "markdown",
      "metadata": {
        "id": "FeexdNVwBcNN"
      },
      "source": [
        "To convert from one data type to another, eg. `int` to `float`, enclose the variable you want in brackets of the new data type ie. `float(..)`"
      ]
    },
    {
      "cell_type": "code",
      "execution_count": null,
      "metadata": {
        "id": "XNNuqxhmBcNN"
      },
      "outputs": [],
      "source": [
        "print(type(cash_money))\n",
        "print(type(cash_moneyfloat))"
      ]
    },
    {
      "cell_type": "markdown",
      "metadata": {
        "id": "VRCpdChQBcNN"
      },
      "source": [
        "Converting from float to int causes rounding down of your number."
      ]
    },
    {
      "cell_type": "code",
      "execution_count": null,
      "metadata": {
        "id": "BpauE8ooBcNO"
      },
      "outputs": [],
      "source": [
        "ghana_rateint=int(ghana_rate)\n",
        "ghana_rateint"
      ]
    },
    {
      "cell_type": "markdown",
      "metadata": {
        "id": "NaDNqMgnBcNP"
      },
      "source": [
        "Although `ghana_rate` was 12.82, `ghana_rateint` becomes 12.\n",
        "\n",
        "In real data sets, applications like this become important where you only want to work with a certain type, or for consistency eg `int` or `float`."
      ]
    },
    {
      "cell_type": "markdown",
      "metadata": {
        "id": "KDiN2U1OBcNP"
      },
      "source": [
        "### Exercise"
      ]
    },
    {
      "cell_type": "markdown",
      "metadata": {
        "id": "QgMVsK1mBcNP"
      },
      "source": [
        "To build a bit of intuition, let's think of exchange rate. In the previous notebook, we specified that our money was in US Dollars. What if we wanted to know what that figure was in Ghanian Cedi, or Kenyan Shilling. For this, we'll use the exchange rates from google."
      ]
    },
    {
      "cell_type": "code",
      "execution_count": 4,
      "metadata": {
        "id": "dfLJIEKDBcNQ"
      },
      "outputs": [],
      "source": [
        "# We already have the Ghanian cedi exchange rate above as 'ghana_rate'\n",
        "# Similarly, find the USD to Kenyan Shilling on google and store it in another variable 'ke_rate'\n",
        "ke_rate= 127.90"
      ]
    },
    {
      "cell_type": "markdown",
      "metadata": {
        "id": "J5SgoRmfBcNR"
      },
      "source": [
        "Now, we'll do a bit of arithmetic to see what our bank money equals in Kenyan Shilling, and Ghanian Cedi. Like we did addition in the previous notebook, Python allows us to do some basic arithmetic function like a calculator. In this case, we'll use the `*` sign as multiplication"
      ]
    },
    {
      "cell_type": "code",
      "execution_count": null,
      "metadata": {
        "id": "UPXrKdKkBcNS",
        "outputId": "f9479fd9-d036-4a87-db45-ae3932c74651"
      },
      "outputs": [
        {
          "name": "stdout",
          "output_type": "stream",
          "text": [
            "7692.0 Cedi\n"
          ]
        }
      ],
      "source": [
        "ghana_money=bank_money*ghana_rate\n",
        "print(ghana_money,\"Cedi\")"
      ]
    },
    {
      "cell_type": "markdown",
      "metadata": {
        "id": "Z5YcZwcmBcNT"
      },
      "source": [
        "Can you calculate for Kenyan money and print it as well?"
      ]
    },
    {
      "cell_type": "code",
      "execution_count": 6,
      "metadata": {
        "id": "7Fi3J6C_BcNT",
        "colab": {
          "base_uri": "https://localhost:8080/"
        },
        "outputId": "681e32ef-f7d1-4e92-a3e6-b3bc5fb29ce6"
      },
      "outputs": [
        {
          "output_type": "stream",
          "name": "stdout",
          "text": [
            "63950.0 shillings\n"
          ]
        }
      ],
      "source": [
        "kenyan_money = bank_money * ke_rate\n",
        "print(kenyan_money, 'shillings')"
      ]
    },
    {
      "cell_type": "markdown",
      "metadata": {
        "id": "-M3j-vSCBcNT"
      },
      "source": [
        ">One thing to note is that multiplying a float by an integer will always return a `type float`"
      ]
    },
    {
      "cell_type": "markdown",
      "metadata": {
        "id": "yUImuYeNBcNT"
      },
      "source": [
        "### String"
      ]
    },
    {
      "cell_type": "markdown",
      "metadata": {
        "id": "nucrEBafBcNU"
      },
      "source": [
        "A string is any text, number or symbol, enclosed in quotation marks. It's written as *str* in short. You can use triple qoutation marks for strings that span multiple lines."
      ]
    },
    {
      "cell_type": "code",
      "execution_count": 8,
      "metadata": {
        "id": "-r2EBZfuBcNU"
      },
      "outputs": [],
      "source": [
        "language = 'Bemba'\n",
        "code = \"3447\" # even though it's a number, because it's enclosed in quotation marks, it becomes a string\n",
        "paragraph = '''This is a string \n",
        "                that spans multiple lines\n",
        "                and can go on to all the lines you want'''"
      ]
    },
    {
      "cell_type": "code",
      "execution_count": null,
      "metadata": {
        "id": "PVgaQxL3BcNU"
      },
      "outputs": [],
      "source": [
        "print(type(language))\n",
        "print(type(code))\n",
        "print(type(paragraph))"
      ]
    },
    {
      "cell_type": "markdown",
      "metadata": {
        "id": "SqASuBJpBcNU"
      },
      "source": [
        "Strings are some of the most interesting data types in python. We can get the length of a string using the len() function."
      ]
    },
    {
      "cell_type": "code",
      "execution_count": 9,
      "metadata": {
        "id": "5w6DS3TOBcNU",
        "outputId": "8c16ad58-8c08-4edf-cbac-d31984fa6462",
        "colab": {
          "base_uri": "https://localhost:8080/"
        }
      },
      "outputs": [
        {
          "output_type": "execute_result",
          "data": {
            "text/plain": [
              "5"
            ]
          },
          "metadata": {},
          "execution_count": 9
        }
      ],
      "source": [
        "len(language)"
      ]
    },
    {
      "cell_type": "markdown",
      "metadata": {
        "id": "-mzw7IcwBcNV"
      },
      "source": [
        "This means that it has five characters. Let's use our cities for this next part"
      ]
    },
    {
      "cell_type": "code",
      "execution_count": 10,
      "metadata": {
        "id": "mJAG55d2BcNV"
      },
      "outputs": [],
      "source": [
        "# replace this with the name of your city\n",
        "my_city=\"Abuja\""
      ]
    },
    {
      "cell_type": "code",
      "execution_count": 11,
      "metadata": {
        "id": "8kl7ARtYBcNV",
        "colab": {
          "base_uri": "https://localhost:8080/"
        },
        "outputId": "b7f3dc73-0d20-465e-ae43-c6921449e627"
      },
      "outputs": [
        {
          "output_type": "execute_result",
          "data": {
            "text/plain": [
              "5"
            ]
          },
          "metadata": {},
          "execution_count": 11
        }
      ],
      "source": [
        "len(my_city)"
      ]
    },
    {
      "cell_type": "markdown",
      "metadata": {
        "id": "V-B_lEhyBcNV"
      },
      "source": [
        "As we have seen above, a string can be just numbers, enclosed within quotation marks. This is common with real data, where numbers can be interpreted as strings, and this is not ideal. However, just as we were able to turn `floats` to `ints` and vice versa, we can do the same for strings, by using `int()` or `float()`"
      ]
    },
    {
      "cell_type": "code",
      "execution_count": 12,
      "metadata": {
        "id": "NXfJO6J3BcNV",
        "outputId": "51664fa7-3aca-471b-bb86-fb850f0ea92f",
        "colab": {
          "base_uri": "https://localhost:8080/"
        }
      },
      "outputs": [
        {
          "output_type": "stream",
          "name": "stdout",
          "text": [
            "3447\n"
          ]
        },
        {
          "output_type": "execute_result",
          "data": {
            "text/plain": [
              "str"
            ]
          },
          "metadata": {},
          "execution_count": 12
        }
      ],
      "source": [
        "print(code) # from the first cell in string\n",
        "type(code)"
      ]
    },
    {
      "cell_type": "code",
      "execution_count": null,
      "metadata": {
        "id": "iDdGltQHBcNW",
        "outputId": "b65c42b5-bc5c-4149-80bd-b72be5cbde1b"
      },
      "outputs": [
        {
          "data": {
            "text/plain": [
              "int"
            ]
          },
          "execution_count": 55,
          "metadata": {},
          "output_type": "execute_result"
        }
      ],
      "source": [
        "coden=int(code)\n",
        "type(coden)"
      ]
    },
    {
      "cell_type": "markdown",
      "metadata": {
        "id": "b6xMD4XXBcNW"
      },
      "source": [
        "However, you have to be careful, as not all strings can be converted to ints or floats. What happens when you try to convert the `my_city` string? Run the cell below to find out"
      ]
    },
    {
      "cell_type": "code",
      "execution_count": 13,
      "metadata": {
        "id": "yz9dx5rsBcNW",
        "colab": {
          "base_uri": "https://localhost:8080/",
          "height": 165
        },
        "outputId": "6d831949-45c9-468b-d75d-42017e25a655"
      },
      "outputs": [
        {
          "output_type": "error",
          "ename": "ValueError",
          "evalue": "ignored",
          "traceback": [
            "\u001b[0;31m---------------------------------------------------------------------------\u001b[0m",
            "\u001b[0;31mValueError\u001b[0m                                Traceback (most recent call last)",
            "\u001b[0;32m<ipython-input-13-163d57f90274>\u001b[0m in \u001b[0;36m<module>\u001b[0;34m\u001b[0m\n\u001b[0;32m----> 1\u001b[0;31m \u001b[0mint\u001b[0m\u001b[0;34m(\u001b[0m\u001b[0mmy_city\u001b[0m\u001b[0;34m)\u001b[0m\u001b[0;34m\u001b[0m\u001b[0;34m\u001b[0m\u001b[0m\n\u001b[0m",
            "\u001b[0;31mValueError\u001b[0m: invalid literal for int() with base 10: 'Abuja'"
          ]
        }
      ],
      "source": [
        "int(my_city)"
      ]
    },
    {
      "cell_type": "markdown",
      "metadata": {
        "id": "ppUpUY6jBcNW"
      },
      "source": [
        "This is because Python doesn't know how to intepret words to numbers. We can only convert strings that contain **only numerical digits**"
      ]
    },
    {
      "cell_type": "markdown",
      "metadata": {
        "id": "z-_UTjMXBcNX"
      },
      "source": [
        "Another thing we can do with strings is *indexing*. This means accessing certain elements in the string. For example, if we wanted to access the third letter of your city, we can use `my_city[2]`."
      ]
    },
    {
      "cell_type": "markdown",
      "metadata": {
        "id": "LfMVA8KUBcNX"
      },
      "source": [
        "> **NOTE** \n",
        ">In programming, *computers start counting from 0, not 1.* Therefore, to get the third character, a computer will start at 0, and not 1, and will therefore end up at 2, and not 3. This is why we are using `my_city[2]` instead of `my_city[3]`. \n",
        "*This is a very important caveat that you will notice even with your data.*\n",
        "\n",
        ">Also, you can note that although this is the third notebook you're working on, it's named 02. Hopefully this serves as a good reminder of indexing"
      ]
    },
    {
      "cell_type": "code",
      "execution_count": 14,
      "metadata": {
        "id": "yNyhTY7WBcNX",
        "outputId": "d8643cf3-896d-49ea-b322-3ab8fb29959c",
        "colab": {
          "base_uri": "https://localhost:8080/",
          "height": 35
        }
      },
      "outputs": [
        {
          "output_type": "execute_result",
          "data": {
            "text/plain": [
              "'u'"
            ],
            "application/vnd.google.colaboratory.intrinsic+json": {
              "type": "string"
            }
          },
          "metadata": {},
          "execution_count": 14
        }
      ],
      "source": [
        "my_city[2]"
      ]
    },
    {
      "cell_type": "markdown",
      "metadata": {
        "id": "YMm9Aa7MBcNX"
      },
      "source": [
        "When indexing, we can use multiple numbers between our square brackets. To get letters in `my_city` from the beginning upto the third letter, we use the following syntax: `my_city[0:3]`. Here, the first number represents the index where you want to *start*, and the second number represents where you want to *stop*. However, the final index is not included."
      ]
    },
    {
      "cell_type": "code",
      "execution_count": 15,
      "metadata": {
        "id": "kBRQr1YHBcNX",
        "outputId": "6eb54343-6398-45c6-e275-7f7cb88d217f",
        "colab": {
          "base_uri": "https://localhost:8080/",
          "height": 35
        }
      },
      "outputs": [
        {
          "output_type": "execute_result",
          "data": {
            "text/plain": [
              "'Abu'"
            ],
            "application/vnd.google.colaboratory.intrinsic+json": {
              "type": "string"
            }
          },
          "metadata": {},
          "execution_count": 15
        }
      ],
      "source": [
        "my_city[0:3]"
      ]
    },
    {
      "cell_type": "code",
      "execution_count": 16,
      "metadata": {
        "id": "ehhTgVhIBcNY",
        "outputId": "c53d7ffd-af1b-4063-f7b8-753c2ac7345d",
        "colab": {
          "base_uri": "https://localhost:8080/",
          "height": 35
        }
      },
      "outputs": [
        {
          "output_type": "execute_result",
          "data": {
            "text/plain": [
              "'ja'"
            ],
            "application/vnd.google.colaboratory.intrinsic+json": {
              "type": "string"
            }
          },
          "metadata": {},
          "execution_count": 16
        }
      ],
      "source": [
        "my_city[3:5]"
      ]
    },
    {
      "cell_type": "markdown",
      "metadata": {
        "id": "jPu6CuXLBcNY"
      },
      "source": [
        "This is called *slicing*, and we'll apply it when getting specific portions of our data."
      ]
    },
    {
      "cell_type": "markdown",
      "metadata": {
        "id": "kNqKU-o_BcNY"
      },
      "source": [
        "> Slicing can take 3 parameters(3 numbers in between the square brackets). If we have 3 numbers, the first is the *starting* point, the second is the *stopping* point, and the third can be referred to as *step*. For example, `my_city[1:10:2]` means that start from index 1, stop at index 10, but skip two indices every time. This will only take index 1,3,5,7, and 9, skipping two indices every time. We'll see this in action better when working with lists, but we will practise in the exercise at the end of this notebook."
      ]
    },
    {
      "cell_type": "markdown",
      "metadata": {
        "id": "xaLV1L2wBcNY"
      },
      "source": [
        "Almost like numbers, we can concatenate strings using the `+` sign. "
      ]
    },
    {
      "cell_type": "code",
      "execution_count": 17,
      "metadata": {
        "id": "N1S2SsA_BcNZ",
        "outputId": "7393e443-ffcc-4c27-8b2b-dba21dbf0971",
        "colab": {
          "base_uri": "https://localhost:8080/"
        }
      },
      "outputs": [
        {
          "output_type": "stream",
          "name": "stdout",
          "text": [
            "AbujaBemba\n"
          ]
        }
      ],
      "source": [
        "city_language=my_city+language\n",
        "print(city_language)"
      ]
    },
    {
      "cell_type": "markdown",
      "metadata": {
        "id": "ZOSG6bcMBcNZ"
      },
      "source": [
        "These are just a few examples, and we'll go deeper into strings in future notebooks. However, this is a solid start."
      ]
    },
    {
      "cell_type": "markdown",
      "metadata": {
        "id": "jUVnEv5dBcNZ"
      },
      "source": [
        "### Exercise"
      ]
    },
    {
      "cell_type": "markdown",
      "metadata": {
        "id": "6d5vuQ2uBcNZ"
      },
      "source": [
        "We'll use the string below to practice what we've learned"
      ]
    },
    {
      "cell_type": "code",
      "execution_count": 18,
      "metadata": {
        "id": "6xy6IM9BBcNa"
      },
      "outputs": [],
      "source": [
        "example=\"This is a practice string\""
      ]
    },
    {
      "cell_type": "markdown",
      "metadata": {
        "id": "9gVwsKdmBcNa"
      },
      "source": [
        "Find the length of the `example` string?"
      ]
    },
    {
      "cell_type": "code",
      "execution_count": 19,
      "metadata": {
        "id": "YKFvzSosBcNa",
        "colab": {
          "base_uri": "https://localhost:8080/"
        },
        "outputId": "5b674596-2f93-4e47-faa3-4af03e828143"
      },
      "outputs": [
        {
          "output_type": "execute_result",
          "data": {
            "text/plain": [
              "25"
            ]
          },
          "metadata": {},
          "execution_count": 19
        }
      ],
      "source": [
        "len(example)"
      ]
    },
    {
      "cell_type": "markdown",
      "metadata": {
        "id": "hKDIVtpdBcNa"
      },
      "source": [
        "Using slicing, extract the word `practice` from this string?"
      ]
    },
    {
      "cell_type": "code",
      "execution_count": 21,
      "metadata": {
        "id": "JNVTS-1HBcNb",
        "colab": {
          "base_uri": "https://localhost:8080/",
          "height": 35
        },
        "outputId": "ba538bf3-34c1-4fda-c586-043cd1e4ec4d"
      },
      "outputs": [
        {
          "output_type": "execute_result",
          "data": {
            "text/plain": [
              "'practice'"
            ],
            "application/vnd.google.colaboratory.intrinsic+json": {
              "type": "string"
            }
          },
          "metadata": {},
          "execution_count": 21
        }
      ],
      "source": [
        "example[10:18]"
      ]
    },
    {
      "cell_type": "markdown",
      "metadata": {
        "id": "5p_Q_heVBcNb"
      },
      "source": [
        "Using slicing, extract only characters at odd number positions(1,3,5,7..) from the string"
      ]
    },
    {
      "cell_type": "code",
      "execution_count": 24,
      "metadata": {
        "id": "L9SGeDaeBcNb",
        "colab": {
          "base_uri": "https://localhost:8080/",
          "height": 35
        },
        "outputId": "33b95f8f-cff9-4be0-dbbb-4b50ede779b3"
      },
      "outputs": [
        {
          "output_type": "execute_result",
          "data": {
            "text/plain": [
              "'hsi  rciesrn'"
            ],
            "application/vnd.google.colaboratory.intrinsic+json": {
              "type": "string"
            }
          },
          "metadata": {},
          "execution_count": 24
        }
      ],
      "source": [
        "example[1::2]"
      ]
    },
    {
      "cell_type": "markdown",
      "source": [
        "If you are still struggling with the concept of slicing, you can watch this [video](https://youtu.be/eH6GCyHnWTA) where it's explained really well. You can also practice more on [w3schools](https://www.w3schools.com/python/python_strings_slicing.asp)."
      ],
      "metadata": {
        "id": "ReOjH4_9IHt8"
      }
    },
    {
      "cell_type": "markdown",
      "metadata": {
        "id": "-UO-GVOMBcNb"
      },
      "source": [
        "Concatenate the example string, with another string of your choosing"
      ]
    },
    {
      "cell_type": "code",
      "execution_count": 29,
      "metadata": {
        "id": "f3iKPkNrBcNb",
        "colab": {
          "base_uri": "https://localhost:8080/"
        },
        "outputId": "8ed1e9ca-d5c0-46a1-a96a-b5bd646e159c"
      },
      "outputs": [
        {
          "output_type": "stream",
          "name": "stdout",
          "text": [
            "This is a practice string and I love this course\n"
          ]
        }
      ],
      "source": [
        "comment = \"and I love this course\"\n",
        "print(example+ \" \" +comment)"
      ]
    },
    {
      "cell_type": "code",
      "source": [],
      "metadata": {
        "id": "6eAuQdp82dkK"
      },
      "execution_count": null,
      "outputs": []
    }
  ],
  "metadata": {
    "anaconda-cloud": {},
    "celltoolbar": "Éditer les Méta-Données",
    "hide_input": false,
    "kernelspec": {
      "display_name": "Python 3",
      "language": "python",
      "name": "python3"
    },
    "language_info": {
      "codemirror_mode": {
        "name": "ipython",
        "version": 3
      },
      "file_extension": ".py",
      "mimetype": "text/x-python",
      "name": "python",
      "nbconvert_exporter": "python",
      "pygments_lexer": "ipython3",
      "version": "3.10.2"
    },
    "latex_envs": {
      "LaTeX_envs_menu_present": true,
      "autoclose": false,
      "autocomplete": true,
      "bibliofile": "biblio.bib",
      "cite_by": "apalike",
      "current_citInitial": 1,
      "eqLabelWithNumbers": true,
      "eqNumInitial": 1,
      "hotkeys": {
        "equation": "Ctrl-E",
        "itemize": "Ctrl-I"
      },
      "labels_anchors": false,
      "latex_user_defs": false,
      "report_style_numbering": false,
      "user_envs_cfg": false
    },
    "n_questions": 1,
    "nbTranslate": {
      "displayLangs": [
        "*"
      ],
      "hotkey": "alt-t",
      "langInMainMenu": true,
      "sourceLang": "fr",
      "targetLang": "en",
      "useGoogleTranslate": true
    },
    "owner": "DataScientest",
    "vscode": {
      "interpreter": {
        "hash": "a0329d1e859fdaae7091121e22fb799195311d986a530316c2954a05cd641814"
      }
    },
    "colab": {
      "provenance": [],
      "include_colab_link": true
    }
  },
  "nbformat": 4,
  "nbformat_minor": 0
}