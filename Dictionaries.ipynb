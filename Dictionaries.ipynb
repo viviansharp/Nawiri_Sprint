{
  "cells": [
    {
      "cell_type": "markdown",
      "metadata": {
        "id": "view-in-github",
        "colab_type": "text"
      },
      "source": [
        "<a href=\"https://colab.research.google.com/github/viviansharp/Nawiri_Sprint/blob/main/Dictionaries.ipynb\" target=\"_parent\"><img src=\"https://colab.research.google.com/assets/colab-badge.svg\" alt=\"Open In Colab\"/></a>"
      ]
    },
    {
      "cell_type": "markdown",
      "metadata": {
        "id": "ll33XuzUgXTe"
      },
      "source": [
        "<center><img src=\"https://images.squarespace-cdn.com/content/v1/63ad4ba82d1ef311d74b008d/ab1297c0-3227-4ea4-94a3-10fcf4efd0d2/NAWIRIfoo.png?format=300w\" style=\"height:150px\"></center>\n",
        "<center><h2> Problem Solving and Programming </h2></center>\n",
        "<hr style=\"border-width:2px;border-color:#002f70\">\n",
        "<center><h2> Working with Data</h2></center>\n",
        "<center><h3> Dictionaries<h3></center>\n",
        "<hr style=\"border-width:2px;border-color:#002f70\">"
      ]
    },
    {
      "cell_type": "markdown",
      "metadata": {
        "id": "1kqWf6IWgXTm"
      },
      "source": [
        "We have looked at a few data structures now. `Tupples`, `Lists` and `Sets`. `Dictionaries` are another type of data structure. Like the name, you might want to think of them as an element, and it's definition. Let's look at an example."
      ]
    },
    {
      "cell_type": "markdown",
      "metadata": {
        "id": "YF8hEU81gXTo"
      },
      "source": [
        "Consider you are in working in a law firm. You have collected a client's data, including their name, id number, charges against, and lawyer representing them. This is oversimplification, but bear with the idea. The firm typically collects this kind of data from every client. Let's see how we can use a dictionary to store it."
      ]
    },
    {
      "cell_type": "code",
      "execution_count": null,
      "metadata": {
        "id": "xXjsKDJwgXTp"
      },
      "outputs": [],
      "source": [
        "client1={\n",
        "    'name':'Uche Matenjwa',\n",
        "    'id_no':577438,\n",
        "    'charges':'Environmental crimes',\n",
        "    'lawyer':'Dan Mutembei'\n",
        "}"
      ]
    },
    {
      "cell_type": "markdown",
      "metadata": {
        "id": "y6ywpNf9gXTu"
      },
      "source": [
        "The above data structure is called a `dictionary`. The sense in which an element defines another is that `name` can be defined as `Uche Matenjwa`, `id` as `577438`, and so on. Note the use of curly braces when defining the dictionary."
      ]
    },
    {
      "cell_type": "code",
      "execution_count": null,
      "metadata": {
        "id": "g6P2xu9EgXTv",
        "outputId": "bff17172-3dbe-4b5a-ba27-990721bfaf63"
      },
      "outputs": [
        {
          "data": {
            "text/plain": [
              "{'name': 'Uche Matenjwa',\n",
              " 'id_no': 577438,\n",
              " 'charges': 'Environmental crimes',\n",
              " 'lawyer': 'Dan Mutembei'}"
            ]
          },
          "execution_count": 2,
          "metadata": {},
          "output_type": "execute_result"
        }
      ],
      "source": [
        "client1"
      ]
    },
    {
      "cell_type": "markdown",
      "metadata": {
        "id": "plOwS50CgXTx"
      },
      "source": [
        "In the case of dictionaries in python, we have key words to describe the elements within. Each pair, such as `name` : `Uche..`, and `lawyer` : `Dan..`, have a defined syntax of `key` : `value`. In this case, `name` is `key`, and `Uche..` is value. This applies for every pair. \n",
        "\n",
        "We can access the values of a dictionary through the keys. For example, to access the value at `name`, we use the syntax `dictionary[key]` .ie. `client1['name']`"
      ]
    },
    {
      "cell_type": "code",
      "execution_count": null,
      "metadata": {
        "id": "HveXmd6ggXTy",
        "outputId": "5e327eab-4c6e-4509-8cdf-292f9009f7af"
      },
      "outputs": [
        {
          "data": {
            "text/plain": [
              "'Uche Matenjwa'"
            ]
          },
          "execution_count": 3,
          "metadata": {},
          "output_type": "execute_result"
        }
      ],
      "source": [
        "client1['name']"
      ]
    },
    {
      "cell_type": "code",
      "execution_count": null,
      "metadata": {
        "id": "b0BKOu_wgXTz",
        "outputId": "641621e0-3c10-4c36-f341-d7dda3dcfbb7"
      },
      "outputs": [
        {
          "data": {
            "text/plain": [
              "'Dan Mutembei'"
            ]
          },
          "execution_count": 4,
          "metadata": {},
          "output_type": "execute_result"
        }
      ],
      "source": [
        "client1['lawyer']"
      ]
    },
    {
      "cell_type": "markdown",
      "metadata": {
        "id": "Eq3bXY6-gXT1"
      },
      "source": [
        "You get a `Key error` if you look up a key that doesn't exist eg. `client1['dob']`\n",
        "\n",
        "We can add data. Imagine the client takes a plea, and we want to record this data."
      ]
    },
    {
      "cell_type": "code",
      "execution_count": null,
      "metadata": {
        "id": "fCBHqerzgXT2"
      },
      "outputs": [],
      "source": [
        "client1['plea']=\"not guilty\""
      ]
    },
    {
      "cell_type": "code",
      "execution_count": null,
      "metadata": {
        "id": "oMR1PmfggXT3",
        "outputId": "071bcfee-874d-454a-f146-fd7e84b3b723"
      },
      "outputs": [
        {
          "data": {
            "text/plain": [
              "{'name': 'Uche Matenjwa',\n",
              " 'id_no': 577438,\n",
              " 'charges': 'Environmental crimes',\n",
              " 'lawyer': 'Dan Mutembei',\n",
              " 'plea': 'not guilty'}"
            ]
          },
          "execution_count": 6,
          "metadata": {},
          "output_type": "execute_result"
        }
      ],
      "source": [
        "client1"
      ]
    },
    {
      "cell_type": "markdown",
      "metadata": {
        "id": "9nQzkKWegXT4"
      },
      "source": [
        "As one would expect with such kind of data, the key must be unique. We can't have two `id_no`s or `name`s. Every time we try to add data with a key that's already present, the value to that key changes to the new value."
      ]
    },
    {
      "cell_type": "code",
      "execution_count": null,
      "metadata": {
        "id": "hUbQmYI6gXT5"
      },
      "outputs": [],
      "source": [
        "client1['charges']='ocean pollution'"
      ]
    },
    {
      "cell_type": "code",
      "execution_count": null,
      "metadata": {
        "id": "MK2brLEugXT5",
        "outputId": "f8d9a363-1dd8-46e2-8fab-85eeb44ffc37"
      },
      "outputs": [
        {
          "data": {
            "text/plain": [
              "{'name': 'Uche Matenjwa',\n",
              " 'id_no': 577438,\n",
              " 'charges': 'ocean pollution',\n",
              " 'lawyer': 'Dan Mutembei',\n",
              " 'plea': 'not guilty'}"
            ]
          },
          "execution_count": 8,
          "metadata": {},
          "output_type": "execute_result"
        }
      ],
      "source": [
        "client1"
      ]
    },
    {
      "cell_type": "markdown",
      "metadata": {
        "id": "RtPk4Cv5gXT6"
      },
      "source": [
        "We can also remove data from the dictionary. Say all charges are dropped, and we want to remove intial charges. We can do this using pop"
      ]
    },
    {
      "cell_type": "code",
      "execution_count": null,
      "metadata": {
        "id": "3cWfFlVxgXT7",
        "outputId": "3f10e367-05bf-4a2e-8c95-8046ca37177b"
      },
      "outputs": [
        {
          "data": {
            "text/plain": [
              "'ocean pollution'"
            ]
          },
          "execution_count": 12,
          "metadata": {},
          "output_type": "execute_result"
        }
      ],
      "source": [
        "client1.pop('charges')"
      ]
    },
    {
      "cell_type": "code",
      "execution_count": null,
      "metadata": {
        "id": "-3tINzPigXT8",
        "outputId": "4c527a14-9e1b-4eff-9467-90e1d9a4b169"
      },
      "outputs": [
        {
          "data": {
            "text/plain": [
              "{'name': 'Uche Matenjwa',\n",
              " 'id_no': 577438,\n",
              " 'lawyer': 'Dan Mutembei',\n",
              " 'plea': 'not guilty'}"
            ]
          },
          "execution_count": 13,
          "metadata": {},
          "output_type": "execute_result"
        }
      ],
      "source": [
        "client1"
      ]
    },
    {
      "cell_type": "markdown",
      "metadata": {
        "id": "Ez0OxV9ggXT9"
      },
      "source": [
        "Perharps you come across the data detailing why the charges were dropped. "
      ]
    },
    {
      "cell_type": "code",
      "execution_count": null,
      "metadata": {
        "id": "LWXp84FUgXT9"
      },
      "outputs": [],
      "source": [
        "decision={'evidence':'none',\n",
        "          'witnesses':'unreliable'}"
      ]
    },
    {
      "cell_type": "markdown",
      "metadata": {
        "id": "j_9YN-4qgXT-"
      },
      "source": [
        "We can add this data to our current version using the function `update`"
      ]
    },
    {
      "cell_type": "code",
      "execution_count": null,
      "metadata": {
        "id": "roQquqRygXT_"
      },
      "outputs": [],
      "source": [
        "client1.update(decision)"
      ]
    },
    {
      "cell_type": "code",
      "execution_count": null,
      "metadata": {
        "id": "Pz10j_1ngXT_",
        "outputId": "19f82bde-a23f-4310-aa51-83164fe5ed06"
      },
      "outputs": [
        {
          "data": {
            "text/plain": [
              "{'name': 'Uche Matenjwa',\n",
              " 'id_no': 577438,\n",
              " 'lawyer': 'Dan Mutembei',\n",
              " 'plea': 'not guilty',\n",
              " 'evidence': 'none',\n",
              " 'witnesses': 'unreliable'}"
            ]
          },
          "execution_count": 16,
          "metadata": {},
          "output_type": "execute_result"
        }
      ],
      "source": [
        "client1"
      ]
    },
    {
      "cell_type": "markdown",
      "metadata": {
        "id": "Y2fewT5qgXUA"
      },
      "source": [
        "Since the charges have been cleared, we can clear the dictionary, using the function `clear()`"
      ]
    },
    {
      "cell_type": "code",
      "execution_count": null,
      "metadata": {
        "id": "5YKPu_DHgXUA",
        "outputId": "aacbcf0a-fc5f-42ff-cfd7-c6ace136087c"
      },
      "outputs": [
        {
          "name": "stdout",
          "output_type": "stream",
          "text": [
            "{}\n"
          ]
        }
      ],
      "source": [
        "client1.clear()\n",
        "print(client1)"
      ]
    },
    {
      "cell_type": "markdown",
      "metadata": {
        "id": "tyklKPkLgXUB"
      },
      "source": [
        "Another way to create dictionaries would be passing a list of tupples, with each tupple containing two values"
      ]
    },
    {
      "cell_type": "code",
      "execution_count": null,
      "metadata": {
        "id": "CUCZj2I5gXUC"
      },
      "outputs": [],
      "source": [
        "client1=dict([('name', 'Uche Matenjwa'),\n",
        " ('id_no', 577438),\n",
        " ('lawyer', 'Dan Mutembei'),\n",
        " ('plea', 'not guilty'),\n",
        " ('evidence', 'none'),\n",
        " ('witnesses', 'unreliable')])"
      ]
    },
    {
      "cell_type": "code",
      "execution_count": null,
      "metadata": {
        "id": "IfLLMQVOgXUC",
        "outputId": "0a069653-e9e1-4be9-a8ed-9922f284ceda"
      },
      "outputs": [
        {
          "data": {
            "text/plain": [
              "{'name': 'Uche Matenjwa',\n",
              " 'id_no': 577438,\n",
              " 'lawyer': 'Dan Mutembei',\n",
              " 'plea': 'not guilty',\n",
              " 'evidence': 'none',\n",
              " 'witnesses': 'unreliable'}"
            ]
          },
          "execution_count": 26,
          "metadata": {},
          "output_type": "execute_result"
        }
      ],
      "source": [
        "client1"
      ]
    },
    {
      "cell_type": "markdown",
      "metadata": {
        "id": "hjjHozhhgXUD"
      },
      "source": [
        "We can iterate over keys and values in dictionaries\n",
        "\n",
        "For keys:"
      ]
    },
    {
      "cell_type": "code",
      "execution_count": null,
      "metadata": {
        "id": "Znr3gmwCgXUD",
        "outputId": "df862463-d118-4572-e245-839ddc40e347"
      },
      "outputs": [
        {
          "name": "stdout",
          "output_type": "stream",
          "text": [
            "name\n",
            "id_no\n",
            "lawyer\n",
            "plea\n",
            "evidence\n",
            "witnesses\n"
          ]
        }
      ],
      "source": [
        "for k in client1.keys():\n",
        "    print(k)"
      ]
    },
    {
      "cell_type": "markdown",
      "metadata": {
        "id": "Ti6avuQxgXUE"
      },
      "source": [
        "For values: "
      ]
    },
    {
      "cell_type": "code",
      "execution_count": null,
      "metadata": {
        "id": "ZW2Ll-awgXUG",
        "outputId": "cb933448-8bfd-4a15-8890-303451208a72"
      },
      "outputs": [
        {
          "name": "stdout",
          "output_type": "stream",
          "text": [
            "Uche Matenjwa\n",
            "577438\n",
            "Dan Mutembei\n",
            "not guilty\n",
            "none\n",
            "unreliable\n"
          ]
        }
      ],
      "source": [
        "for v in client1.values():\n",
        "    print(v)"
      ]
    },
    {
      "cell_type": "markdown",
      "metadata": {
        "id": "UP8-lKDCgXUH"
      },
      "source": [
        "items() represents both keys and values"
      ]
    },
    {
      "cell_type": "code",
      "execution_count": null,
      "metadata": {
        "id": "jz8rJXhDgXUI",
        "outputId": "821f85a4-9cef-4f87-f8ed-3b5c277fd6eb"
      },
      "outputs": [
        {
          "name": "stdout",
          "output_type": "stream",
          "text": [
            "name is Uche Matenjwa\n",
            "id_no is 577438\n",
            "lawyer is Dan Mutembei\n",
            "plea is not guilty\n",
            "evidence is none\n",
            "witnesses is unreliable\n"
          ]
        }
      ],
      "source": [
        "for k,v in client1.items():\n",
        "    print(k,\"is\",v)"
      ]
    },
    {
      "cell_type": "markdown",
      "metadata": {
        "id": "kxM-HLkHgXUJ"
      },
      "source": [
        "In the above syntax, k represents the key, and v represents the value"
      ]
    },
    {
      "cell_type": "markdown",
      "metadata": {
        "id": "PWVjKEOwgXUJ"
      },
      "source": [
        "### Exercise"
      ]
    },
    {
      "cell_type": "markdown",
      "metadata": {
        "id": "4E3uyTW6gXUK"
      },
      "source": [
        "Let's go back to our countries and populations data"
      ]
    },
    {
      "cell_type": "code",
      "execution_count": 4,
      "metadata": {
        "id": "_mu2UAv1gXUK"
      },
      "outputs": [],
      "source": [
        "countries=['Ethiopia','Senegal','Nigera','Uganda','Rwanda','South Africa','Kenya','Togo','Tunisia','Burundi','Ghana','Democratic Republic of Congo','Zimbabwe','Zambia','Madagascar']"
      ]
    },
    {
      "cell_type": "code",
      "execution_count": 2,
      "metadata": {
        "id": "JU6S0QV7gXUK"
      },
      "outputs": [],
      "source": [
        "population=[122520463,17914954,219711928,49575968,13803365,61291696,56910721,8793585,12146523,12830849,32793809,96781959,15436764,19750494, 29580236]"
      ]
    },
    {
      "cell_type": "markdown",
      "metadata": {
        "id": "zTzI0lDpgXUL"
      },
      "source": [
        "Create a dictionary, using for loops that contains the country, beside the respective population. The output should look like this:\n",
        "```\n",
        "{'Ethiopia': 122520463,\n",
        " 'Senegal': 17914954,\n",
        " 'Nigera': 219711928,\n",
        " ...\n",
        " 'Zambia': 19750494,\n",
        " 'Madagascar': 29580236}\n",
        " ```"
      ]
    },
    {
      "cell_type": "code",
      "execution_count": 6,
      "metadata": {
        "id": "7f-3180rgXUL",
        "colab": {
          "base_uri": "https://localhost:8080/"
        },
        "outputId": "872fc988-c983-4120-9c66-7d8ec64ad7bf"
      },
      "outputs": [
        {
          "output_type": "stream",
          "name": "stdout",
          "text": [
            "{'Ethiopia': 122520463, 'Senegal': 17914954, 'Nigera': 219711928, 'Uganda': 49575968, 'Rwanda': 13803365, 'South Africa': 61291696, 'Kenya': 56910721, 'Togo': 8793585, 'Tunisia': 12146523, 'Burundi': 12830849, 'Ghana': 32793809, 'Democratic Republic of Congo': 96781959, 'Zimbabwe': 15436764, 'Zambia': 19750494, 'Madagascar': 29580236}\n"
          ]
        }
      ],
      "source": [
        "country_dict = dict(zip(countries, population))\n",
        "print(country_dict)"
      ]
    },
    {
      "cell_type": "code",
      "source": [
        "for k in country_dict:\n",
        "  print(k)"
      ],
      "metadata": {
        "colab": {
          "base_uri": "https://localhost:8080/"
        },
        "id": "pNVpok14zEsU",
        "outputId": "6067e2a2-0f83-4659-a41d-3dcdde546458"
      },
      "execution_count": 13,
      "outputs": [
        {
          "output_type": "stream",
          "name": "stdout",
          "text": [
            "Ethiopia\n",
            "Senegal\n",
            "Nigera\n",
            "Uganda\n",
            "Rwanda\n",
            "South Africa\n",
            "Kenya\n",
            "Togo\n",
            "Tunisia\n",
            "Burundi\n",
            "Ghana\n",
            "Democratic Republic of Congo\n",
            "Zimbabwe\n",
            "Zambia\n",
            "Madagascar\n"
          ]
        }
      ]
    },
    {
      "cell_type": "code",
      "source": [],
      "metadata": {
        "id": "LOIfHaLdzLC-"
      },
      "execution_count": null,
      "outputs": []
    }
  ],
  "metadata": {
    "anaconda-cloud": {},
    "celltoolbar": "Éditer les Méta-Données",
    "hide_input": false,
    "kernelspec": {
      "display_name": "Python 3",
      "language": "python",
      "name": "python3"
    },
    "language_info": {
      "codemirror_mode": {
        "name": "ipython",
        "version": 3
      },
      "file_extension": ".py",
      "mimetype": "text/x-python",
      "name": "python",
      "nbconvert_exporter": "python",
      "pygments_lexer": "ipython3",
      "version": "3.10.2"
    },
    "latex_envs": {
      "LaTeX_envs_menu_present": true,
      "autoclose": false,
      "autocomplete": true,
      "bibliofile": "biblio.bib",
      "cite_by": "apalike",
      "current_citInitial": 1,
      "eqLabelWithNumbers": true,
      "eqNumInitial": 1,
      "hotkeys": {
        "equation": "Ctrl-E",
        "itemize": "Ctrl-I"
      },
      "labels_anchors": false,
      "latex_user_defs": false,
      "report_style_numbering": false,
      "user_envs_cfg": false
    },
    "n_questions": 1,
    "nbTranslate": {
      "displayLangs": [
        "*"
      ],
      "hotkey": "alt-t",
      "langInMainMenu": true,
      "sourceLang": "fr",
      "targetLang": "en",
      "useGoogleTranslate": true
    },
    "owner": "DataScientest",
    "vscode": {
      "interpreter": {
        "hash": "a0329d1e859fdaae7091121e22fb799195311d986a530316c2954a05cd641814"
      }
    },
    "colab": {
      "provenance": [],
      "include_colab_link": true
    }
  },
  "nbformat": 4,
  "nbformat_minor": 0
}