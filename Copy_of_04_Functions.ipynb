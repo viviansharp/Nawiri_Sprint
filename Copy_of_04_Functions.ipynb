{
  "cells": [
    {
      "cell_type": "markdown",
      "metadata": {
        "id": "view-in-github",
        "colab_type": "text"
      },
      "source": [
        "<a href=\"https://colab.research.google.com/github/viviansharp/Nawiri_Sprint/blob/main/Copy_of_04_Functions.ipynb\" target=\"_parent\"><img src=\"https://colab.research.google.com/assets/colab-badge.svg\" alt=\"Open In Colab\"/></a>"
      ]
    },
    {
      "cell_type": "markdown",
      "metadata": {
        "id": "O-SS4psqmZSX"
      },
      "source": [
        "<center><img src=\"https://images.squarespace-cdn.com/content/v1/63ad4ba82d1ef311d74b008d/ab1297c0-3227-4ea4-94a3-10fcf4efd0d2/NAWIRIfoo.png?format=300w\" style=\"height:150px\"></center>\n",
        "<center><h2> Problem Solving and Programming </h2></center>\n",
        "<hr style=\"border-width:2px;border-color:#002f70\">\n",
        "<center><h2> Introduction to Python</h2></center>\n",
        "<center><h3> Functions<h3></center>\n",
        "<hr style=\"border-width:2px;border-color:#002f70\">"
      ]
    },
    {
      "cell_type": "markdown",
      "metadata": {
        "id": "zLe0jPdomZSk"
      },
      "source": [
        "Functions in programming maybe thought of some code that may be used multiple times without writing it over and over again. We have already encountered some functions along the way such as `print`,`ceil`, and others. Let's learn more about functions."
      ]
    },
    {
      "cell_type": "markdown",
      "source": [
        ">Think of functions like this: when you run the function `math.ceil`, a number is returned to you. This number has to be calculated, and there is some code behind that. If we wanted to round up a number, we would have to write a bunch of code to do that, but thanks to `math.ceil`, the code has already been written, and all we have to do is run it. \n",
        "Amazing, right! This is power of functions. So, in this case, `math.ceil` is a function.\n",
        "\n",
        "Before we get to creating our own functions, let's think of what is happening when we use a function. This can also be defined as `call a function`. When we write `math.ceil(2.7)`, there is some code running, but this code is hidden behind the function `ceil`. The work this code does is to round up every number it's given."
      ],
      "metadata": {
        "id": "ph5DWpa_m7N6"
      }
    },
    {
      "cell_type": "code",
      "execution_count": null,
      "metadata": {
        "id": "cxnMo5G3mZSn"
      },
      "outputs": [],
      "source": [
        "import math"
      ]
    },
    {
      "cell_type": "code",
      "execution_count": null,
      "metadata": {
        "id": "4FBqAraemZSq",
        "outputId": "11a8545d-432a-41ca-ef25-3315aa4a30cd"
      },
      "outputs": [
        {
          "data": {
            "text/plain": [
              "10"
            ]
          },
          "execution_count": 2,
          "metadata": {},
          "output_type": "execute_result"
        }
      ],
      "source": [
        "math.ceil(9.2)"
      ]
    },
    {
      "cell_type": "markdown",
      "metadata": {
        "id": "DNm0vExbmZSs"
      },
      "source": [
        "The code for `ceil` was written so we don't have to do the math ourselves everytime. This is exactly what a function does. Everytime we write `math.ceil()`, we are `calling the function`. This just means that we want to use the function. Python has many built in functions. Think of `print`, whose work is to receive an input and show it as output. A fairly straightforward task, but a very useful one. \n",
        "\n",
        "All this is made more useful by the fact that we can create our own functions. Let's get to it"
      ]
    },
    {
      "cell_type": "markdown",
      "metadata": {
        "id": "V96_xNApmZSu"
      },
      "source": [
        "Imagine a scenerio where you want to create a program that greets your fellow learners. The work of this program is to receive the name of the learner as input, and output the greetings. For example, we can write `greetings('Vivian')` and it outputs `Hello Vivian! Hope you're well!`."
      ]
    },
    {
      "cell_type": "code",
      "execution_count": 1,
      "metadata": {
        "id": "qtd_yHzOmZSx"
      },
      "outputs": [],
      "source": [
        "# run this cell\n",
        "def greetings(name):\n",
        "    print(\"Hello \"+name+\"! Hope you're well!\")"
      ]
    },
    {
      "cell_type": "code",
      "execution_count": 2,
      "metadata": {
        "colab": {
          "base_uri": "https://localhost:8080/"
        },
        "id": "_ZkiKTPqmZSz",
        "outputId": "356f9f7e-1f9a-45e8-84ce-ef62dc435bef"
      },
      "outputs": [
        {
          "output_type": "stream",
          "name": "stdout",
          "text": [
            "Hello Vivian! Hope you're well!\n"
          ]
        }
      ],
      "source": [
        "# Try running the code below with some different names\n",
        "greetings(\"Vivian\")"
      ]
    },
    {
      "cell_type": "markdown",
      "metadata": {
        "id": "DgWWfOPpmZS1"
      },
      "source": [
        "Fantastic! It prints out a greeting, no matter the name you provide it with. Let's break down what's happening\n",
        "```\n",
        "def greetings(name):\n",
        "    print(\"Hello \"+name+\"! Hope you're well!\")\n",
        "```\n",
        "\n",
        "The first section of the code includes `def greetings(name):`\n",
        "\n",
        "This follows the syntax `def function_name(argument)`\n",
        "\n",
        ">`def` is  short for define. It is the keyword that notifies python that we want to define a function. Everytime you write `def`, python knows that you want to create your own function. \n",
        "\n",
        ">`function_name` is what you want to call the function. Function names follow the rules of variable names and ideally, like variable names, function names should be descriptive. Just like `sum` does addition, `ceil` is short for ceiling, which rounds up, `print` returns inputs, `greetings` shows a greeting to a given name.\n",
        "\n",
        ">`argument` comes in between the brackets. Some functions don't have arguments, while some functions have multiple arguments. For functions that have arguments, the arguments provided within the brackets tells python how many arguments to expect. For example, one of the functions we will look at below is called friends, and will receive two arguments. We will write it as `friends(name1, name2)`. We will then use `name1` and `name2` within the function body.When writing a function that doesn't have an argument, the brackets will contain nothing ie. `()`. \n",
        "\n",
        "\n",
        "---\n",
        "\n",
        "\n",
        "When a function receives an argument, the argument influences the output. For example, `print` will show the argument as output. `ceil` will round up the argument. `greetings` will add a greeting to the name provided as input.\n",
        "\n",
        "```\n",
        "def function_name(argument):\n",
        "    function_body\n",
        "```\n",
        "\n",
        "`function_body` contains what will be run when the function is called. It is indented below the function\n",
        "\n",
        "Once we've defined the function, we don't use `def` again when calling it. We just use the `function_name()`, and provide an `argument` between the brackets. After we defined `greetings`, we just needed to call it, and provide a name as the argument.\n",
        "\n",
        "Does all this make sense? Try to think of other functions we've used such as `floor` and `help`. What do you think they do? What inputs do they receive?\n"
      ]
    },
    {
      "cell_type": "markdown",
      "metadata": {
        "id": "VK0tOwuEmZS4"
      },
      "source": [
        "Let's see another example of a function that prints out the square of any number provided."
      ]
    },
    {
      "cell_type": "code",
      "execution_count": 3,
      "metadata": {
        "id": "IBGVABcSmZS5"
      },
      "outputs": [],
      "source": [
        "# run this cell\n",
        "def square(x):\n",
        "    print(x**2)"
      ]
    },
    {
      "cell_type": "code",
      "execution_count": 4,
      "metadata": {
        "id": "cyTpsOnImZS6",
        "colab": {
          "base_uri": "https://localhost:8080/"
        },
        "outputId": "a5c01018-39bd-4410-8919-2adc053f99cb"
      },
      "outputs": [
        {
          "output_type": "stream",
          "name": "stdout",
          "text": [
            "9\n"
          ]
        }
      ],
      "source": [
        "square(3)"
      ]
    },
    {
      "cell_type": "markdown",
      "metadata": {
        "id": "lXRp1MPqmZS7"
      },
      "source": [
        "That's pretty good. Note the colon that comes after the argument, and the indent(space) that is below the function name and syntax. These are all necessary when writing a function. The indent tells Python that this is where the function starts. Once we're done with writing the function body, we stop indenting."
      ]
    },
    {
      "cell_type": "code",
      "execution_count": 5,
      "metadata": {
        "id": "thQKQvZvmZS8"
      },
      "outputs": [],
      "source": [
        "# before function\n",
        "def square(x):\n",
        "    print(x**2)\n",
        "    # end of function body\n",
        "# after function"
      ]
    },
    {
      "cell_type": "markdown",
      "metadata": {
        "id": "jBDtidfXmZS9"
      },
      "source": [
        "Consider the following function that takes two arguments that are names of friends, and prints out that they are friends."
      ]
    },
    {
      "cell_type": "code",
      "execution_count": 6,
      "metadata": {
        "id": "-VHOFd-amZS9"
      },
      "outputs": [],
      "source": [
        "def friends(name1,name2):\n",
        "    print(name1+\" and \"+name2+\" are friends\")"
      ]
    },
    {
      "cell_type": "code",
      "execution_count": 7,
      "metadata": {
        "id": "0MOUmh60mZS-",
        "outputId": "ebdd09e1-e751-4acc-a2c5-2f6f2f25c7f4",
        "colab": {
          "base_uri": "https://localhost:8080/"
        }
      },
      "outputs": [
        {
          "output_type": "stream",
          "name": "stdout",
          "text": [
            "Mark and Success are friends\n"
          ]
        }
      ],
      "source": [
        "# You can try to run this with different names\n",
        "friends(\"Mark\",\"Success\")"
      ]
    },
    {
      "cell_type": "markdown",
      "metadata": {
        "id": "CrsHXFZxmZS_"
      },
      "source": [
        "Let's try an example. \n",
        "\n",
        "Create a function that prints out your name, and your favorite color. The output should be sth like:\n",
        "```\n",
        "My name is Obi and my favorite color is red\n",
        "```"
      ]
    },
    {
      "cell_type": "code",
      "execution_count": 17,
      "metadata": {
        "id": "QU-4EF9JmZTA"
      },
      "outputs": [],
      "source": [
        "# write the code to your function here\n",
        "\n",
        "def favorite_color(name,color):\n",
        "    print('My name is'+ \" \" + name +\"  \" + 'and my favorite color is'+\" \" + color)"
      ]
    },
    {
      "cell_type": "code",
      "source": [
        "favorite_color('vivian','black')\n"
      ],
      "metadata": {
        "colab": {
          "base_uri": "https://localhost:8080/"
        },
        "id": "j8d7HrIZGizN",
        "outputId": "cbf97366-fff5-4a1f-b835-4a1017da6302"
      },
      "execution_count": 18,
      "outputs": [
        {
          "output_type": "stream",
          "name": "stdout",
          "text": [
            "My name is vivian  and my favorite color is black\n"
          ]
        }
      ]
    },
    {
      "cell_type": "markdown",
      "metadata": {
        "id": "eBiRbxhimZTA"
      },
      "source": [
        "Let's try understand functions on a deeper level by looking at the print function."
      ]
    },
    {
      "cell_type": "code",
      "execution_count": null,
      "metadata": {
        "id": "YJ6-0LEfmZTA",
        "outputId": "37fd5a64-b7f8-4023-c964-b4cfaed4ba29"
      },
      "outputs": [
        {
          "name": "stdout",
          "output_type": "stream",
          "text": [
            "Help on built-in function print in module builtins:\n",
            "\n",
            "print(...)\n",
            "    print(value, ..., sep=' ', end='\\n', file=sys.stdout, flush=False)\n",
            "    \n",
            "    Prints the values to a stream, or to sys.stdout by default.\n",
            "    Optional keyword arguments:\n",
            "    file:  a file-like object (stream); defaults to the current sys.stdout.\n",
            "    sep:   string inserted between values, default a space.\n",
            "    end:   string appended after the last value, default a newline.\n",
            "    flush: whether to forcibly flush the stream.\n",
            "\n"
          ]
        }
      ],
      "source": [
        "help(print)"
      ]
    },
    {
      "cell_type": "markdown",
      "metadata": {
        "id": "7yQtCI7jmZTB"
      },
      "source": [
        "The ... shows that print takes an infinite amount of arguments. This just means that you can print anything you want! Let's compare this with ceil from math"
      ]
    },
    {
      "cell_type": "code",
      "execution_count": null,
      "metadata": {
        "id": "6OC3KqiBmZTC",
        "outputId": "7e6655bd-2c66-4464-a46b-5b3347bbfe3f"
      },
      "outputs": [
        {
          "name": "stdout",
          "output_type": "stream",
          "text": [
            "Help on built-in function ceil in module math:\n",
            "\n",
            "ceil(x, /)\n",
            "    Return the ceiling of x as an Integral.\n",
            "    \n",
            "    This is the smallest integer >= x.\n",
            "\n"
          ]
        }
      ],
      "source": [
        "help(math.ceil)"
      ]
    },
    {
      "cell_type": "markdown",
      "metadata": {
        "id": "D2jaw3V-mZTC"
      },
      "source": [
        "ceil only takes one argument shown by the (x)"
      ]
    },
    {
      "cell_type": "markdown",
      "metadata": {
        "id": "RdwoxHoomZTC"
      },
      "source": [
        "The print function has `optional keyword arguments`. These are arguments that are optional, but ones we can use. Let's see some."
      ]
    },
    {
      "cell_type": "code",
      "execution_count": null,
      "metadata": {
        "id": "kj_oxotJmZTD",
        "outputId": "69d243eb-d8d6-44ad-a261-474d955e35a6"
      },
      "outputs": [
        {
          "name": "stdout",
          "output_type": "stream",
          "text": [
            "Jane--Brian--Dorothy\n"
          ]
        }
      ],
      "source": [
        "print(\"Jane\",\"Brian\",\"Dorothy\",sep=\"--\")"
      ]
    },
    {
      "cell_type": "markdown",
      "metadata": {
        "id": "tVDhT4kimZTD"
      },
      "source": [
        "Do you notice what is happening? Try change the value for `sep` to `::` or sth else"
      ]
    },
    {
      "cell_type": "markdown",
      "metadata": {
        "id": "jsy3VLcHmZTE"
      },
      "source": [
        "*How* about `end`?"
      ]
    },
    {
      "cell_type": "code",
      "execution_count": 35,
      "metadata": {
        "id": "tlnbksw1mZTE",
        "outputId": "fd4e5611-5c0b-47d4-d5b7-6bf9f3b0e1aa",
        "colab": {
          "base_uri": "https://localhost:8080/"
        }
      },
      "outputs": [
        {
          "output_type": "stream",
          "name": "stdout",
          "text": [
            "Coding is fun, but challenging!!"
          ]
        }
      ],
      "source": [
        "print(\"Coding is fun, but challenging\" ,end=\"!!\")"
      ]
    },
    {
      "cell_type": "markdown",
      "metadata": {
        "id": "ETC4wR3ymZTE"
      },
      "source": [
        "Hmm\n",
        "\n",
        "You can try using different characters for `end`"
      ]
    },
    {
      "cell_type": "markdown",
      "metadata": {
        "id": "fjSlCUncmZTF"
      },
      "source": [
        "Do you think we can add optional arguments when creating our own functions. Let's go back to the friends function."
      ]
    },
    {
      "cell_type": "code",
      "execution_count": null,
      "metadata": {
        "id": "ycIB16p4mZTF"
      },
      "outputs": [],
      "source": [
        "def friends(name1,name2):\n",
        "    print(name1+\" and \"+name2+\" are friends\")"
      ]
    },
    {
      "cell_type": "markdown",
      "metadata": {
        "id": "rmVqwtpQmZTF"
      },
      "source": [
        "if we try to call the function without two arguments, we get an error"
      ]
    },
    {
      "cell_type": "code",
      "execution_count": null,
      "metadata": {
        "id": "-8icOxoumZTG",
        "outputId": "370f015f-e22c-4327-dca5-673400e2e17b"
      },
      "outputs": [
        {
          "ename": "TypeError",
          "evalue": "friends() missing 1 required positional argument: 'name2'",
          "output_type": "error",
          "traceback": [
            "\u001b[1;31m---------------------------------------------------------------------------\u001b[0m",
            "\u001b[1;31mTypeError\u001b[0m                                 Traceback (most recent call last)",
            "\u001b[1;32mc:\\Users\\swift\\Downloads\\PSP Ret 2\\DataScientest\\Introduction\\04- Functions.ipynb Cell 35\u001b[0m in \u001b[0;36m<cell line: 1>\u001b[1;34m()\u001b[0m\n\u001b[1;32m----> <a href='vscode-notebook-cell:/c%3A/Users/swift/Downloads/PSP%20Ret%202/DataScientest/Introduction/04-%20Functions.ipynb#Y113sZmlsZQ%3D%3D?line=0'>1</a>\u001b[0m friends(\u001b[39m\"\u001b[39;49m\u001b[39mJohn\u001b[39;49m\u001b[39m\"\u001b[39;49m)\n",
            "\u001b[1;31mTypeError\u001b[0m: friends() missing 1 required positional argument: 'name2'"
          ]
        }
      ],
      "source": [
        "friends(\"John\")"
      ]
    },
    {
      "cell_type": "markdown",
      "metadata": {
        "id": "DOu3GP_ymZTG"
      },
      "source": [
        "If you think about the `optional keyword arguments` in print, they are optional because a default value is placed when none is provided. `sep` is used to separate arguments when multiple arguments are passed. Let's see what happens when we don't pass a sep argument."
      ]
    },
    {
      "cell_type": "code",
      "execution_count": null,
      "metadata": {
        "id": "4nf9P49NmZTH",
        "outputId": "c80c925f-fa6b-49b6-bfdc-08233800c890"
      },
      "outputs": [
        {
          "name": "stdout",
          "output_type": "stream",
          "text": [
            "Jane Brian Dorothy\n"
          ]
        }
      ],
      "source": [
        "print(\"Jane\",\"Brian\",\"Dorothy\")"
      ]
    },
    {
      "cell_type": "markdown",
      "metadata": {
        "id": "eHxlfSrnmZTI"
      },
      "source": [
        "The arguments are still separated! This time with a space. This must mean that the default is a space. If we look at how print was created, the default argument for `sep` was specifically specified to be a space. Can you guess what the default argument for `end` is?\n",
        "\n",
        "You can try printing out some statements with and without the `end` argument to understand what the default for `end` is."
      ]
    },
    {
      "cell_type": "code",
      "source": [],
      "metadata": {
        "id": "J4EkwAdDro2q"
      },
      "execution_count": null,
      "outputs": []
    },
    {
      "cell_type": "markdown",
      "metadata": {
        "id": "3QbZjht8mZTJ"
      },
      "source": [
        "Let's create a default argument for `name2` in `friends`, meaning that when no `name2` is provided, it defaults to sth else."
      ]
    },
    {
      "cell_type": "code",
      "execution_count": null,
      "metadata": {
        "id": "y3Z3UyaNmZTJ"
      },
      "outputs": [],
      "source": [
        "def friends(name1,name2='Maria'):\n",
        "    print(name1+\" and \"+name2+\" are friends\")"
      ]
    },
    {
      "cell_type": "code",
      "execution_count": null,
      "metadata": {
        "id": "N8X9EcVymZTJ",
        "outputId": "6242d64d-cef0-4567-af76-2a256e8a9c90"
      },
      "outputs": [
        {
          "name": "stdout",
          "output_type": "stream",
          "text": [
            "John and Maria are friends\n"
          ]
        }
      ],
      "source": [
        "friends('John')"
      ]
    },
    {
      "cell_type": "markdown",
      "metadata": {
        "id": "RGknwYtRmZTK"
      },
      "source": [
        "Amazing! Although we don't provide two arguments, no error is thrown out."
      ]
    },
    {
      "cell_type": "markdown",
      "metadata": {
        "id": "nbKQfndDmZTK"
      },
      "source": [
        "#### Let's finish up by looking at some areas of potential confusion."
      ]
    },
    {
      "cell_type": "markdown",
      "metadata": {
        "id": "s_U3k3wjmZTK"
      },
      "source": [
        ">What's the difference between returning from a function and printing in a function."
      ]
    },
    {
      "cell_type": "markdown",
      "metadata": {
        "id": "P1E-ewComZTL"
      },
      "source": [
        "Most functions **return** values. eg. the ceil,floor,sqrt,etc. Functions we've created such as `friends` print output. But what's the difference? "
      ]
    },
    {
      "cell_type": "markdown",
      "metadata": {
        "id": "FEEhfETBmZTL"
      },
      "source": [
        "Consider again the function to find the square of a number"
      ]
    },
    {
      "cell_type": "code",
      "execution_count": 19,
      "metadata": {
        "id": "ypApibrGmZTL"
      },
      "outputs": [],
      "source": [
        "# This function prints\n",
        "def square(x):\n",
        "    print(x**2)"
      ]
    },
    {
      "cell_type": "code",
      "execution_count": 20,
      "metadata": {
        "id": "lVewCq1FmZTM"
      },
      "outputs": [],
      "source": [
        "# This one returns\n",
        "def square2(x):\n",
        "    return x**2"
      ]
    },
    {
      "cell_type": "code",
      "execution_count": 21,
      "metadata": {
        "id": "Xl1wfDsNmZTM",
        "outputId": "76c82b7f-ed1d-4dc5-e3f0-448e8fb17136",
        "colab": {
          "base_uri": "https://localhost:8080/"
        }
      },
      "outputs": [
        {
          "output_type": "stream",
          "name": "stdout",
          "text": [
            "9\n"
          ]
        }
      ],
      "source": [
        "square(3)"
      ]
    },
    {
      "cell_type": "code",
      "execution_count": 22,
      "metadata": {
        "id": "lpiNKVe3mZTM",
        "outputId": "d006b244-c3cd-44fd-82c2-6543e63a48a7",
        "colab": {
          "base_uri": "https://localhost:8080/"
        }
      },
      "outputs": [
        {
          "output_type": "execute_result",
          "data": {
            "text/plain": [
              "9"
            ]
          },
          "metadata": {},
          "execution_count": 22
        }
      ],
      "source": [
        "square2(3)"
      ]
    },
    {
      "cell_type": "markdown",
      "metadata": {
        "id": "eU0w8uqLmZTN"
      },
      "source": [
        "The output from the two is similiar. However, one has an output, and the other doesn't. Can you guess the difference? To verify this, let's try store the output from both."
      ]
    },
    {
      "cell_type": "code",
      "execution_count": null,
      "metadata": {
        "id": "CVNG_O2SmZTN",
        "outputId": "cb50968b-34ba-4f8e-f8e5-68fb6249a234"
      },
      "outputs": [
        {
          "name": "stdout",
          "output_type": "stream",
          "text": [
            "9\n"
          ]
        }
      ],
      "source": [
        "sq=square(3)\n",
        "sq2=square2(3)"
      ]
    },
    {
      "cell_type": "code",
      "execution_count": null,
      "metadata": {
        "id": "nkARUTO1mZTO",
        "outputId": "e1867f77-f0ed-4abc-ac8c-0f95d65a51c4"
      },
      "outputs": [
        {
          "name": "stdout",
          "output_type": "stream",
          "text": [
            "None\n",
            "9\n"
          ]
        }
      ],
      "source": [
        "print(sq)\n",
        "print(sq2)"
      ]
    },
    {
      "cell_type": "markdown",
      "metadata": {
        "id": "mMjELOIcmZTO"
      },
      "source": [
        "Nice! We can see that we receive a `None` from the output of the function that prints. Therefore, we can conclude that **returning from a function has an output, while printing does not have an output, it only prints.** \n",
        "\n",
        "Generally, it's good practice to return values from your functions, to be able to use them afterwards"
      ]
    },
    {
      "cell_type": "markdown",
      "metadata": {
        "id": "MScUytFGmZTO"
      },
      "source": [
        "### Exercise"
      ]
    },
    {
      "cell_type": "markdown",
      "metadata": {
        "id": "t5bRsqXNmZTP"
      },
      "source": [
        "1.  You love to cook and bake, but you find it very frustrating when recipes from the US quote quantities in fluid ounces (fl oz) instead of mililiters (ml), like the rest of the world. \n",
        "\n",
        "  Write a function that takes as its argument a volume in fluid ounces, and returns the equivalent volume in mililiters. Remember to test your function by running some values through it after creating it and comparing your values to google.\n",
        "    \n",
        "  **Hint**: Use google to find the conversion!"
      ]
    },
    {
      "cell_type": "code",
      "execution_count": 27,
      "metadata": {
        "id": "oR5kC31amZTP"
      },
      "outputs": [],
      "source": [
        "def volume_converter(x):\n",
        "  return x*29.6"
      ]
    },
    {
      "cell_type": "code",
      "source": [
        "# test whether your function works as desired\n",
        "volume_converter(10)"
      ],
      "metadata": {
        "id": "8HDPdsUwtRsZ",
        "colab": {
          "base_uri": "https://localhost:8080/"
        },
        "outputId": "873d34b6-c735-4231-cade-fd6f6a62fb12"
      },
      "execution_count": 28,
      "outputs": [
        {
          "output_type": "execute_result",
          "data": {
            "text/plain": [
              "296.0"
            ]
          },
          "metadata": {},
          "execution_count": 28
        }
      ]
    },
    {
      "cell_type": "markdown",
      "source": [
        "2. Remember our earlier example of `bank_money` and `cash_money` from notebook 01. Say you want to create a function that receives amount in US Dollars, but converts the currency to your local currency. You can use the conversion rates from google. Use the cell below to do that. \n",
        "\n",
        "You can leave a `comment` on what your local currency is. Remember to test your function by running some values through it after creating it and comparing your values to google."
      ],
      "metadata": {
        "id": "koTMznNTsdGp"
      }
    },
    {
      "cell_type": "code",
      "source": [
        "def exchange_rate(y):\n",
        "  return y*460"
      ],
      "metadata": {
        "id": "EQtwYoenscz0"
      },
      "execution_count": 32,
      "outputs": []
    },
    {
      "cell_type": "code",
      "source": [
        "# test whether your function works as desired\n",
        "exchange_rate(5000)"
      ],
      "metadata": {
        "id": "96KNL-kGtQuL",
        "colab": {
          "base_uri": "https://localhost:8080/"
        },
        "outputId": "55151255-acd6-4bbc-ffe5-858bc1c676d4"
      },
      "execution_count": 33,
      "outputs": [
        {
          "output_type": "execute_result",
          "data": {
            "text/plain": [
              "2300000"
            ]
          },
          "metadata": {},
          "execution_count": 33
        }
      ]
    },
    {
      "cell_type": "code",
      "source": [],
      "metadata": {
        "id": "oByUfJVeMYgk"
      },
      "execution_count": null,
      "outputs": []
    }
  ],
  "metadata": {
    "anaconda-cloud": {},
    "celltoolbar": "Éditer les Méta-Données",
    "hide_input": false,
    "kernelspec": {
      "display_name": "Python 3",
      "language": "python",
      "name": "python3"
    },
    "language_info": {
      "codemirror_mode": {
        "name": "ipython",
        "version": 3
      },
      "file_extension": ".py",
      "mimetype": "text/x-python",
      "name": "python",
      "nbconvert_exporter": "python",
      "pygments_lexer": "ipython3",
      "version": "3.10.2"
    },
    "latex_envs": {
      "LaTeX_envs_menu_present": true,
      "autoclose": false,
      "autocomplete": true,
      "bibliofile": "biblio.bib",
      "cite_by": "apalike",
      "current_citInitial": 1,
      "eqLabelWithNumbers": true,
      "eqNumInitial": 1,
      "hotkeys": {
        "equation": "Ctrl-E",
        "itemize": "Ctrl-I"
      },
      "labels_anchors": false,
      "latex_user_defs": false,
      "report_style_numbering": false,
      "user_envs_cfg": false
    },
    "n_questions": 1,
    "nbTranslate": {
      "displayLangs": [
        "*"
      ],
      "hotkey": "alt-t",
      "langInMainMenu": true,
      "sourceLang": "fr",
      "targetLang": "en",
      "useGoogleTranslate": true
    },
    "owner": "DataScientest",
    "vscode": {
      "interpreter": {
        "hash": "a0329d1e859fdaae7091121e22fb799195311d986a530316c2954a05cd641814"
      }
    },
    "colab": {
      "provenance": [],
      "include_colab_link": true
    }
  },
  "nbformat": 4,
  "nbformat_minor": 0
}