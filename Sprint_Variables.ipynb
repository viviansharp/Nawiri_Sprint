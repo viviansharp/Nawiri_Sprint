{
  "cells": [
    {
      "cell_type": "markdown",
      "metadata": {
        "id": "view-in-github",
        "colab_type": "text"
      },
      "source": [
        "<a href=\"https://colab.research.google.com/github/viviansharp/Nawiri_Sprint/blob/main/Sprint_Variables.ipynb\" target=\"_parent\"><img src=\"https://colab.research.google.com/assets/colab-badge.svg\" alt=\"Open In Colab\"/></a>"
      ]
    },
    {
      "cell_type": "markdown",
      "metadata": {
        "deletable": false,
        "dst-cell-id": "235df8f3-23d8-4bd3-bdeb-52aed8292f7d",
        "editable": false,
        "run_control": {
          "frozen": true
        },
        "id": "lsWt6Pdz9mmQ"
      },
      "source": [
        "<center><img src=\"https://images.squarespace-cdn.com/content/v1/63ad4ba82d1ef311d74b008d/ab1297c0-3227-4ea4-94a3-10fcf4efd0d2/NAWIRIfoo.png?format=300w\" style=\"height:150px\"></center>\n",
        "<center><h2> Problem Solving and Programming </h2></center>\n",
        "<hr style=\"border-width:2px;border-color:#002f70\">\n",
        "<center><h2> Introduction to Python</h2></center>\n",
        "<center><h3> Data Types and Variables<h3></center>\n",
        "<hr style=\"border-width:2px;border-color:#002f70\">"
      ]
    },
    {
      "cell_type": "markdown",
      "metadata": {
        "id": "LdWkDbim9mmS"
      },
      "source": [
        "After learning about printing, our next stepping point will be to learn about data types and variables. These two work together, and understanding them is very important in programming.\n",
        "\n",
        "In the programming definitions, a variable is memory in the computer that holds a specific value. \n",
        "\n",
        "This sounds complex, and we can simplify it by saying that a variable is a symbolic name with an associated value, and whose associated value may change. Let's build on this idea."
      ]
    },
    {
      "cell_type": "markdown",
      "source": [
        "### Variables"
      ],
      "metadata": {
        "id": "khIIeJFm-ePK"
      }
    },
    {
      "cell_type": "markdown",
      "metadata": {
        "id": "Hdk3jvKF9mmT"
      },
      "source": [
        "Let's say you have some money in the bank, whose value you want to store. Say this money is 500 USD. We can asign this value to a variable using the `=` sign."
      ]
    },
    {
      "cell_type": "code",
      "execution_count": null,
      "metadata": {
        "id": "U9dZ-vn89mmT"
      },
      "outputs": [],
      "source": [
        "bank_money = 500"
      ]
    },
    {
      "cell_type": "markdown",
      "metadata": {
        "id": "P5K7k6pL9mmU"
      },
      "source": [
        "In the above code, `bank_money` is a variable, and 500 is the value attached to it. \n",
        "\n",
        "Say we forget how much money we have in the bank, but we do remember the name of the variable. We can just print and see the value"
      ]
    },
    {
      "cell_type": "code",
      "execution_count": null,
      "metadata": {
        "id": "5SZplJDu9mmV"
      },
      "outputs": [],
      "source": [
        "print(bank_money)\n",
        "# Notice that in this case, we don't use quotation marks when printing"
      ]
    },
    {
      "cell_type": "markdown",
      "metadata": {
        "id": "Az9H6TWV9mmV"
      },
      "source": [
        "Great! Now this may also seem a bit simple, but you can imagine how complex this would get if the value was sth really complex, and how just knowing the name of the variable would be helpful!\n",
        "\n",
        "Now, say we had 400 USD in cash, and wanted to store this value in a variable called `cash_money`. How can you do this? Use the cell below to store this in a variable."
      ]
    },
    {
      "cell_type": "code",
      "execution_count": 1,
      "metadata": {
        "id": "wuk7q_Cr9mmW"
      },
      "outputs": [],
      "source": [
        "# Write your code here\n",
        "cash_money= 400"
      ]
    },
    {
      "cell_type": "code",
      "execution_count": 2,
      "metadata": {
        "id": "amxhq96Z9mmW",
        "outputId": "d97822c9-5416-4877-fc3f-2eea4985bd96",
        "colab": {
          "base_uri": "https://localhost:8080/"
        }
      },
      "outputs": [
        {
          "output_type": "stream",
          "name": "stdout",
          "text": [
            "400\n"
          ]
        }
      ],
      "source": [
        "print(cash_money)"
      ]
    },
    {
      "cell_type": "markdown",
      "metadata": {
        "id": "tUhmjvtZ9mmX"
      },
      "source": [
        "To build on the idea of the values associated with variables changing, we can imagine a scenerio where we did some work and we were paid 500 USD in the bank.\n",
        "\n",
        "This would require us to change the value we initially had from 500 to 1000. We can do this easily by just giving `bank_money` the value 1000"
      ]
    },
    {
      "cell_type": "code",
      "execution_count": 14,
      "metadata": {
        "id": "d5K2j38C9mmX",
        "colab": {
          "base_uri": "https://localhost:8080/"
        },
        "outputId": "e82075d8-21be-4180-c0f5-5dd9578b733c"
      },
      "outputs": [
        {
          "output_type": "stream",
          "name": "stdout",
          "text": [
            "1000\n"
          ]
        }
      ],
      "source": [
        "bank_money=1000\n",
        "print(bank_money)"
      ]
    },
    {
      "cell_type": "markdown",
      "metadata": {
        "id": "EEO29iJv9mmY"
      },
      "source": [
        "An even better way to do this, is have python do the math for us and just giving it the extra amount to add. We first have to return the value of `bank_money` to 500 because in the above cell, we set it to 1000."
      ]
    },
    {
      "cell_type": "code",
      "execution_count": null,
      "metadata": {
        "id": "B3teNN889mmY",
        "outputId": "2c074ec1-c2ba-4b9a-cd2b-4c4f6a13e4c1"
      },
      "outputs": [
        {
          "name": "stdout",
          "output_type": "stream",
          "text": [
            "1000\n"
          ]
        }
      ],
      "source": [
        "bank_money=500 # return the value of bank_money to 500\n",
        "bank_money+=500 # this is the same as saying, whatever bank_money is, add 500 to it\n",
        "print(bank_money)"
      ]
    },
    {
      "cell_type": "markdown",
      "metadata": {
        "id": "45NIqb909mmY"
      },
      "source": [
        "The syntax may seem a little overwhelming at first, but what we're basically doing is adding 500 to the figure we had as `bank_money`. The syntax `bank_money+=500` is the same as `bank_money=bank_money+500`. "
      ]
    },
    {
      "cell_type": "markdown",
      "metadata": {
        "id": "3PxNPB-c9mmZ"
      },
      "source": [
        "Now, one cool way to think about things is that every time you write a variable, say `cash_money`, remember that the name is just a way to represent the underlying associated value. The value that is stored in `cash_money` is what is important. With this in mind, we can do a lot! \n",
        "\n",
        "Say we wanted to find out the total amount of money we had, by adding `cash_money` and `bank_money`. We could do this just by using variables."
      ]
    },
    {
      "cell_type": "code",
      "execution_count": 18,
      "metadata": {
        "id": "V5PR2klP9mmZ"
      },
      "outputs": [],
      "source": [
        "cash_money=400"
      ]
    },
    {
      "cell_type": "code",
      "execution_count": null,
      "metadata": {
        "id": "ZKoNmQNo9mmZ"
      },
      "outputs": [],
      "source": [
        "print(cash_money+bank_money)"
      ]
    },
    {
      "cell_type": "markdown",
      "metadata": {
        "id": "gnVyj3nj9mmZ"
      },
      "source": [
        "An even better way to do things is to have a new variable, `total_money` where we will store the addition of `bank_money` and `cash_money`."
      ]
    },
    {
      "cell_type": "code",
      "execution_count": 17,
      "metadata": {
        "id": "MuFnJ9tw9mmZ",
        "colab": {
          "base_uri": "https://localhost:8080/"
        },
        "outputId": "593b3ebf-ebba-4ef7-98f0-4b5ce8fa4bca"
      },
      "outputs": [
        {
          "output_type": "stream",
          "name": "stdout",
          "text": [
            "1400\n"
          ]
        }
      ],
      "source": [
        "total_money=bank_money+cash_money\n",
        "print(total_money)"
      ]
    },
    {
      "cell_type": "markdown",
      "metadata": {
        "id": "YHWcCMwn9mma"
      },
      "source": [
        "Isn't this great!\n",
        "\n",
        ">A good question to have at this point is whether variables are just numbers, seeing as we have just been working with numbers. The answer to this is **no**. \n",
        "**Variables could be a lot of things**. As we'll see in the next notebook, there are different data types in programming. These range from *int- short for integer*, *str- short for string*(these could be a bunch of text/sequence of characters), and many others that we'll look at. These are similar to the different kinds of data we deal with daily. Some are integers, others are dates, booleans, and so many more. We can use a function, `type` to see what kind of data type we are dealing with. For this notebook we'll only look at *str* and *int*.\n",
        "\n",
        "Let's have other variables that don't store just numbers"
      ]
    },
    {
      "cell_type": "markdown",
      "metadata": {
        "id": "zOczU8ay9mma"
      },
      "source": [
        "In this case, say you're a doctor, and you want to store the name of your patient, `Blessing`, who came in in the morning. You decide to use a variable to store their name."
      ]
    },
    {
      "cell_type": "code",
      "execution_count": 7,
      "metadata": {
        "id": "Ej8oe-RH9mma",
        "colab": {
          "base_uri": "https://localhost:8080/"
        },
        "outputId": "5eeba248-e5e9-4712-b2a9-54fe6e52deee"
      },
      "outputs": [
        {
          "output_type": "stream",
          "name": "stdout",
          "text": [
            "The name of my patient today was Blessing\n"
          ]
        }
      ],
      "source": [
        "patient='Blessing'\n",
        "print(\"The name of my patient today was \"+patient)"
      ]
    },
    {
      "cell_type": "markdown",
      "metadata": {
        "id": "wxPkMrxL9mmb"
      },
      "source": [
        ">Notice that in this case, we have to add quotation marks when typing the name, ie. we did not just type `patient=Blessing`, but `patient='Blessing'`. This is similar to when we had to add quotation marks when printing in the first notebook. Can you guess why this is the case? \n",
        "\n",
        "Meanwhile, say you had two other patients before afternoon hours, and you also wanted the help of variables to store their names. You decide to use the variables `patient2` whose name was `Osman` and `patient3`, whose name was `Emeka` to store their names."
      ]
    },
    {
      "cell_type": "code",
      "execution_count": 5,
      "metadata": {
        "id": "K-klNs9e9mmb"
      },
      "outputs": [],
      "source": [
        "# use this cell to add the two variables- patient2, and patient3\n",
        "\n",
        "patient2 = \"Osman\"\n",
        "patient3 = \"Emeka\""
      ]
    },
    {
      "cell_type": "code",
      "execution_count": 8,
      "metadata": {
        "id": "xaDokO5g9mmb",
        "outputId": "7a50f27b-bb9d-468f-9c96-406c7d2361af",
        "colab": {
          "base_uri": "https://localhost:8080/"
        }
      },
      "outputs": [
        {
          "output_type": "stream",
          "name": "stdout",
          "text": [
            "The names of my patients for today were Blessing, Osman, and Emeka\n"
          ]
        }
      ],
      "source": [
        "print(\"The names of my patients for today were \"+patient+\", \"+patient2+\", and \"+patient3)"
      ]
    },
    {
      "cell_type": "markdown",
      "metadata": {
        "id": "NpTzIaIi9mmb"
      },
      "source": [
        "Notice also how, when we use the `+` sign, we can print out the variables alongside another bunch of text. This is pretty useful, and we'll continue to explore on this idea a bit more.\n",
        "\n",
        "To answer our initial question, why we need quotation marks when writing out text, we need to remember that we're working with a computer, and that the computer treats text and numbers very differently during memory allocation. That is, a computer needs to know that this is a number, hence it allocates memory only adequate for a number. When it's text, it allocates memory sufficient for text. In fact, it even names the different data types, as we had seen earlier,*str* and *int*. \n",
        "\n",
        "Hence, by adding quotation marks, we are notifying the computer that this is a *str* and it will treat it as such. Let's see this practically."
      ]
    },
    {
      "cell_type": "code",
      "execution_count": 9,
      "metadata": {
        "id": "GNp2JP7j9mmc",
        "colab": {
          "base_uri": "https://localhost:8080/",
          "height": 183
        },
        "outputId": "829c4d1c-9727-4f8f-9121-efa0894ff1ed"
      },
      "outputs": [
        {
          "output_type": "error",
          "ename": "NameError",
          "evalue": "ignored",
          "traceback": [
            "\u001b[0;31m---------------------------------------------------------------------------\u001b[0m",
            "\u001b[0;31mNameError\u001b[0m                                 Traceback (most recent call last)",
            "\u001b[0;32m<ipython-input-9-ada5766859ee>\u001b[0m in \u001b[0;36m<module>\u001b[0;34m\u001b[0m\n\u001b[1;32m      1\u001b[0m \u001b[0;31m# What happens when you run the cell below?\u001b[0m\u001b[0;34m\u001b[0m\u001b[0;34m\u001b[0m\u001b[0;34m\u001b[0m\u001b[0m\n\u001b[0;32m----> 2\u001b[0;31m \u001b[0mhospital_location\u001b[0m\u001b[0;34m=\u001b[0m\u001b[0mLusaka\u001b[0m\u001b[0;34m\u001b[0m\u001b[0;34m\u001b[0m\u001b[0m\n\u001b[0m",
            "\u001b[0;31mNameError\u001b[0m: name 'Lusaka' is not defined"
          ]
        }
      ],
      "source": [
        "# What happens when you run the cell below?\n",
        "hospital_location=Lusaka"
      ]
    },
    {
      "cell_type": "markdown",
      "metadata": {
        "id": "EMhRcR6e9mmc"
      },
      "source": [
        "A `NameError`, similar to the one we experienced when printing without quotation marks appears. The computer doesn't know what `Lusaka` is, and how to treat it. However, when we add quotation marks, the error doesn't occur, as it now knows the kind of data it's dealing with. Let's use the `type` function to find the kind of data types we are dealing with."
      ]
    },
    {
      "cell_type": "code",
      "execution_count": null,
      "metadata": {
        "id": "NFfbLfqi9mmc",
        "outputId": "95e84882-d826-4193-f965-d3ba782c9afd"
      },
      "outputs": [
        {
          "data": {
            "text/plain": [
              "str"
            ]
          },
          "execution_count": 29,
          "metadata": {},
          "output_type": "execute_result"
        }
      ],
      "source": [
        "# We just need to type the function 'type()' and add a variable in between the brackets, which will output the data type for the variable\n",
        "hospital_location=\"Lusaka\"\n",
        "type(hospital_location)"
      ]
    },
    {
      "cell_type": "markdown",
      "source": [
        "> The `type` function returns what kind of data type a variable is. As you can see, `hospital_location` is a `str`."
      ],
      "metadata": {
        "id": "BG8DnuDuA0kZ"
      }
    },
    {
      "cell_type": "markdown",
      "metadata": {
        "id": "5CqGdNqi9mmc"
      },
      "source": [
        "Similarly, we can get the type for every variable we have used in this notebook."
      ]
    },
    {
      "cell_type": "code",
      "execution_count": null,
      "metadata": {
        "id": "YPa_DxC_9mmd",
        "outputId": "49cec679-33db-41bb-b1a2-17c31eb8a174"
      },
      "outputs": [
        {
          "data": {
            "text/plain": [
              "int"
            ]
          },
          "execution_count": 30,
          "metadata": {},
          "output_type": "execute_result"
        }
      ],
      "source": [
        "type(cash_money)"
      ]
    },
    {
      "cell_type": "markdown",
      "metadata": {
        "id": "VUR6Oxfy9mmd"
      },
      "source": [
        "This is because `cash_money` is, indeed, an integer."
      ]
    },
    {
      "cell_type": "code",
      "execution_count": 19,
      "metadata": {
        "id": "nGujIxIt9mmd",
        "colab": {
          "base_uri": "https://localhost:8080/"
        },
        "outputId": "a18c0bb5-7308-4646-8cd9-0c6d12f35a30"
      },
      "outputs": [
        {
          "output_type": "execute_result",
          "data": {
            "text/plain": [
              "str"
            ]
          },
          "metadata": {},
          "execution_count": 19
        }
      ],
      "source": [
        "# Use this cell to get the type for variables 'bank_money','total_money','patient2' and 'patient3'\n",
        "type(bank_money)\n",
        "\n",
        "\n",
        "\n"
      ]
    },
    {
      "cell_type": "code",
      "source": [
        "type(total_money) "
      ],
      "metadata": {
        "colab": {
          "base_uri": "https://localhost:8080/"
        },
        "id": "Kv2Ln7ToRkPa",
        "outputId": "0a7418dd-b5be-45a1-d085-6b9e1d2f777c"
      },
      "execution_count": 20,
      "outputs": [
        {
          "output_type": "execute_result",
          "data": {
            "text/plain": [
              "int"
            ]
          },
          "metadata": {},
          "execution_count": 20
        }
      ]
    },
    {
      "cell_type": "code",
      "source": [
        "type(patient2)"
      ],
      "metadata": {
        "colab": {
          "base_uri": "https://localhost:8080/"
        },
        "id": "lNBgN7D_RpEJ",
        "outputId": "98644ec2-3de7-48bf-df67-46c12825d537"
      },
      "execution_count": 21,
      "outputs": [
        {
          "output_type": "execute_result",
          "data": {
            "text/plain": [
              "str"
            ]
          },
          "metadata": {},
          "execution_count": 21
        }
      ]
    },
    {
      "cell_type": "code",
      "source": [
        "\n",
        "type(patient3)"
      ],
      "metadata": {
        "colab": {
          "base_uri": "https://localhost:8080/"
        },
        "id": "5ZwScerhRs1A",
        "outputId": "e79cb10e-73ec-49aa-9696-de06393577bd"
      },
      "execution_count": 22,
      "outputs": [
        {
          "output_type": "execute_result",
          "data": {
            "text/plain": [
              "str"
            ]
          },
          "metadata": {},
          "execution_count": 22
        }
      ]
    },
    {
      "cell_type": "code",
      "source": [],
      "metadata": {
        "id": "hRQwfqFbRkdg"
      },
      "execution_count": null,
      "outputs": []
    },
    {
      "cell_type": "markdown",
      "metadata": {
        "id": "h_C4Qxxk9mmd"
      },
      "source": [
        "## Note\n",
        "\n",
        "When creating variables, there are a few rules to follow:\n",
        "* The name of a variable must **start** with a **letter** or an **underscore** (`_`); it **cannot start** with a **number**.\n",
        "* The name of a variable can only contain **letters, numbers, and underscores**. Other symbols are not allowed.\n",
        "* Variable names are **case sensitive**. `my_name`, `My_name` and `MY_NAME` are three **different** variables.\n",
        "\n",
        "Variables can have simple names such as x or y, but the above rules must be followed"
      ]
    },
    {
      "cell_type": "markdown",
      "metadata": {
        "id": "1g4tJc1B9mme"
      },
      "source": [
        "## Exercise"
      ]
    },
    {
      "cell_type": "markdown",
      "metadata": {
        "id": "6wlR-FJz9mme"
      },
      "source": [
        "In the last exercise, we printed some interesting facts about ourselves. We will redo this exercise, but using variables now. For example, an interesting fact one would have is that they love basketball. For this exercise, we can use variables to store the name, and favorite sport. "
      ]
    },
    {
      "cell_type": "code",
      "execution_count": null,
      "metadata": {
        "id": "8grxiXVS9mme",
        "outputId": "e3bf8e9f-3f53-455e-d0de-a81364386cf2"
      },
      "outputs": [
        {
          "name": "stdout",
          "output_type": "stream",
          "text": [
            "Hi! My name is Emeka.\n",
            "I am  24 years old.\n",
            "I love playing basketball\n"
          ]
        }
      ],
      "source": [
        "my_name=\"Emeka\"\n",
        "favorite_sport=\"basketball\"\n",
        "age=24\n",
        "print(\"Hi! My name is \"+my_name+\".\")\n",
        "print(\"I am \",age,\"years old.\")\n",
        "print(\"I love playing \"+favorite_sport)"
      ]
    },
    {
      "cell_type": "code",
      "execution_count": 23,
      "metadata": {
        "id": "FuZdk7s29mmf",
        "colab": {
          "base_uri": "https://localhost:8080/"
        },
        "outputId": "dc9e15ba-69dc-41c5-900b-82d3e2054622"
      },
      "outputs": [
        {
          "output_type": "stream",
          "name": "stdout",
          "text": [
            "Hi! My name is Vivian.\n",
            "I am  24 years old.\n",
            "I love playing handball\n"
          ]
        }
      ],
      "source": [
        "# Write your code in this cell\n",
        "my_name=\"Vivian\"\n",
        "favorite_sport=\"handball\"\n",
        "age=24\n",
        "print(\"Hi! My name is \"+my_name+\".\")\n",
        "print(\"I am \",age,\"years old.\")\n",
        "print(\"I love playing \"+favorite_sport)\n",
        "\n"
      ]
    }
  ],
  "metadata": {
    "anaconda-cloud": {},
    "celltoolbar": "Éditer les Méta-Données",
    "hide_input": false,
    "kernelspec": {
      "display_name": "Python 3",
      "language": "python",
      "name": "python3"
    },
    "language_info": {
      "codemirror_mode": {
        "name": "ipython",
        "version": 3
      },
      "file_extension": ".py",
      "mimetype": "text/x-python",
      "name": "python",
      "nbconvert_exporter": "python",
      "pygments_lexer": "ipython3",
      "version": "3.10.2"
    },
    "latex_envs": {
      "LaTeX_envs_menu_present": true,
      "autoclose": false,
      "autocomplete": true,
      "bibliofile": "biblio.bib",
      "cite_by": "apalike",
      "current_citInitial": 1,
      "eqLabelWithNumbers": true,
      "eqNumInitial": 1,
      "hotkeys": {
        "equation": "Ctrl-E",
        "itemize": "Ctrl-I"
      },
      "labels_anchors": false,
      "latex_user_defs": false,
      "report_style_numbering": false,
      "user_envs_cfg": false
    },
    "n_questions": 1,
    "nbTranslate": {
      "displayLangs": [
        "*"
      ],
      "hotkey": "alt-t",
      "langInMainMenu": true,
      "sourceLang": "fr",
      "targetLang": "en",
      "useGoogleTranslate": true
    },
    "owner": "DataScientest",
    "vscode": {
      "interpreter": {
        "hash": "a0329d1e859fdaae7091121e22fb799195311d986a530316c2954a05cd641814"
      }
    },
    "colab": {
      "provenance": [],
      "include_colab_link": true
    }
  },
  "nbformat": 4,
  "nbformat_minor": 0
}