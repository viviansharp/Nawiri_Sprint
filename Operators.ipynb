{
  "cells": [
    {
      "cell_type": "markdown",
      "metadata": {
        "id": "view-in-github",
        "colab_type": "text"
      },
      "source": [
        "<a href=\"https://colab.research.google.com/github/viviansharp/Nawiri_Sprint/blob/main/Operators.ipynb\" target=\"_parent\"><img src=\"https://colab.research.google.com/assets/colab-badge.svg\" alt=\"Open In Colab\"/></a>"
      ]
    },
    {
      "cell_type": "markdown",
      "metadata": {
        "id": "nd1hpckduF4I"
      },
      "source": [
        "<center><img src=\"https://images.squarespace-cdn.com/content/v1/63ad4ba82d1ef311d74b008d/ab1297c0-3227-4ea4-94a3-10fcf4efd0d2/NAWIRIfoo.png?format=300w\" style=\"height:150px\"></center>\n",
        "<center><h2> Problem Solving and Programming </h2></center>\n",
        "<hr style=\"border-width:2px;border-color:#002f70\">\n",
        "<center><h2> Introduction to Python</h2></center>\n",
        "<center><h3> Operators<h3></center>\n",
        "<hr style=\"border-width:2px;border-color:#002f70\">"
      ]
    },
    {
      "cell_type": "markdown",
      "metadata": {
        "id": "GL-6sUXIuF4M"
      },
      "source": [
        "Operators are signs used in programming to achieve a desired output. These include `=`,`+`,`>`, `<`, among many others. We've looked at some operators before, so let's run through a few, and introduce some others. We will look at:\n",
        "1. Assignment operators such as `=`,`+=`..\n",
        "2. Comparison operators such as `<`,`==`..\n",
        "3. Membership operators such as `in`,`not in`\n",
        "4. Logical operators such as `and`,`or`,`not`\n"
      ]
    },
    {
      "cell_type": "markdown",
      "metadata": {
        "id": "EJ5Yn3PjuF4M"
      },
      "source": [
        "### 1. Assignment operators"
      ]
    },
    {
      "cell_type": "markdown",
      "metadata": {
        "id": "xq9kYf2iuF4N"
      },
      "source": [
        "These are operators that are used to help assign values or expressions to the left-hand-side variable.\n",
        "They include:"
      ]
    },
    {
      "cell_type": "code",
      "execution_count": 10,
      "metadata": {
        "colab": {
          "base_uri": "https://localhost:8080/"
        },
        "id": "T-r2jsdeuF4N",
        "outputId": "4ce03ae2-fca2-4d66-ecc3-e6536c0b8904"
      },
      "outputs": [
        {
          "output_type": "execute_result",
          "data": {
            "text/plain": [
              "5"
            ]
          },
          "metadata": {},
          "execution_count": 10
        }
      ],
      "source": [
        "# Run this cell\n",
        "# Simple assignment operator(=)\n",
        "x=5\n",
        "x"
      ]
    },
    {
      "cell_type": "markdown",
      "source": [
        "In the above example, the assignment operator `=` just assigns the value `5` to `x`."
      ],
      "metadata": {
        "id": "_UBMJvGbxrb3"
      }
    },
    {
      "cell_type": "markdown",
      "metadata": {
        "id": "Qo8u3n_cuF4Q"
      },
      "source": [
        "The other assignment operators build on the arithmetic we learned in the previous notebook. +,-,/,*,//,%.\n",
        "\n",
        "They work as a shortform to writing repetitive mathematical expressions. For example, `x=x+3` can be written as `x+=3`. This applies for all the operators below:\n",
        "\n",
        "\n",
        "| Symbol | Operation      |\n",
        "|:------:|:--------------:|\n",
        "| `+=`   | Addition       |\n",
        "| `-=`   | Subtraction    |\n",
        "| `*=`   | Multiplication |\n",
        "| `/=`   | Real division  |\n",
        "| `//=`  | Floor division |\n",
        "| `**=`  | Exponentiation |\n",
        "| `%=`   | Modulus        |"
      ]
    },
    {
      "cell_type": "code",
      "execution_count": 11,
      "metadata": {
        "id": "JmV2prLAuF4Q",
        "outputId": "04962880-fac8-4e80-a724-79c9479b9a9a",
        "colab": {
          "base_uri": "https://localhost:8080/"
        }
      },
      "outputs": [
        {
          "output_type": "execute_result",
          "data": {
            "text/plain": [
              "15"
            ]
          },
          "metadata": {},
          "execution_count": 11
        }
      ],
      "source": [
        "# Addition assignment\n",
        "x+=10\n",
        "x"
      ]
    },
    {
      "cell_type": "markdown",
      "source": [
        "The above code is the same as writing `x=x+10`, but more concise"
      ],
      "metadata": {
        "id": "ysR0pYOsyJrz"
      }
    },
    {
      "cell_type": "code",
      "execution_count": 12,
      "metadata": {
        "id": "qm3eAJ4kuF4R",
        "outputId": "0d7f33d3-6177-4f3a-e199-4afa7919fcac",
        "colab": {
          "base_uri": "https://localhost:8080/"
        }
      },
      "outputs": [
        {
          "output_type": "execute_result",
          "data": {
            "text/plain": [
              "8"
            ]
          },
          "metadata": {},
          "execution_count": 12
        }
      ],
      "source": [
        "# Subtraction assignment\n",
        "x-=7\n",
        "x"
      ]
    },
    {
      "cell_type": "markdown",
      "source": [
        "The above is like `x=x-7`"
      ],
      "metadata": {
        "id": "g9XrCyTeyU1s"
      }
    },
    {
      "cell_type": "code",
      "execution_count": 13,
      "metadata": {
        "id": "rXyBvimZuF4R",
        "outputId": "f0857757-2105-4f5a-93a8-fda524b2a317",
        "colab": {
          "base_uri": "https://localhost:8080/"
        }
      },
      "outputs": [
        {
          "output_type": "execute_result",
          "data": {
            "text/plain": [
              "4.0"
            ]
          },
          "metadata": {},
          "execution_count": 13
        }
      ],
      "source": [
        "# Division assignment\n",
        "x/=2\n",
        "x"
      ]
    },
    {
      "cell_type": "markdown",
      "source": [
        "Perform the assignment operations below"
      ],
      "metadata": {
        "id": "5U-f5yBhy6so"
      }
    },
    {
      "cell_type": "code",
      "execution_count": 14,
      "metadata": {
        "id": "y_xogzsKuF4S",
        "colab": {
          "base_uri": "https://localhost:8080/"
        },
        "outputId": "65bb1d5b-844c-4755-a8b8-076897985d94"
      },
      "outputs": [
        {
          "output_type": "execute_result",
          "data": {
            "text/plain": [
              "8.0"
            ]
          },
          "metadata": {},
          "execution_count": 14
        }
      ],
      "source": [
        "# Multiplication assignment\n",
        "x*=2\n",
        "x"
      ]
    },
    {
      "cell_type": "code",
      "execution_count": 16,
      "metadata": {
        "id": "PSaVwKCeuF4S",
        "colab": {
          "base_uri": "https://localhost:8080/"
        },
        "outputId": "e3083414-10db-4c9f-968e-ecb287704c76"
      },
      "outputs": [
        {
          "output_type": "execute_result",
          "data": {
            "text/plain": [
              "64.0"
            ]
          },
          "metadata": {},
          "execution_count": 16
        }
      ],
      "source": [
        "# Exponentiation assignment\n",
        "x**=2\n",
        "x"
      ]
    },
    {
      "cell_type": "markdown",
      "metadata": {
        "id": "RzcTmp62uF4S"
      },
      "source": [
        "### 2. Comparison operators"
      ]
    },
    {
      "cell_type": "markdown",
      "metadata": {
        "id": "WvFNedkZuF4T"
      },
      "source": [
        "The comparison operators allow you to compare the values of two variables. Comparison operations return a data type called a `bool`. This is like the other data types we've gone through, only that a `bool` only has two values. `True` and `False`.\n",
        "\n",
        "> Think about it this way. `int` could be all numbers from negative infinity to positive infinity. `float` could be any number, just like `int`, but has a decimal point. Now, `bool` is limited to only two values. `True` or `False`.\n",
        "\n",
        "The Boolean value is `True` if an expression is true, or `False` if it turns out to be false. This sounds like a lot, but let's break it down."
      ]
    },
    {
      "cell_type": "code",
      "execution_count": 17,
      "metadata": {
        "id": "juVjA5leuF4T"
      },
      "outputs": [],
      "source": [
        "x=3\n",
        "y=6"
      ]
    },
    {
      "cell_type": "markdown",
      "metadata": {
        "id": "P-MJOhuMuF4T"
      },
      "source": [
        "Comparison operators allow comparison of these two variables. We can know whether x is greater than y, less than, equal to etc. For example, when we run `x>y` and the value returns `True`, then x is greater than y."
      ]
    },
    {
      "cell_type": "code",
      "execution_count": 18,
      "metadata": {
        "id": "I0ou8AWduF4T",
        "outputId": "431d4c5f-9b45-4b34-f7e0-8be9ef6cf15a",
        "colab": {
          "base_uri": "https://localhost:8080/"
        }
      },
      "outputs": [
        {
          "output_type": "execute_result",
          "data": {
            "text/plain": [
              "False"
            ]
          },
          "metadata": {},
          "execution_count": 18
        }
      ],
      "source": [
        "x>y"
      ]
    },
    {
      "cell_type": "markdown",
      "metadata": {
        "id": "-k7JSO8nuF4U"
      },
      "source": [
        "Since `False` is returned, then x is not greater than y. Another check would be to see whether x is equal to y. We can run `x==y` to see the output. \n",
        "\n",
        ">Do you understand why the operator we're using in this case is `==` and not `=`?"
      ]
    },
    {
      "cell_type": "code",
      "execution_count": 19,
      "metadata": {
        "id": "Bnw58n5wuF4U",
        "outputId": "0826b38d-a7f1-46b5-e372-eb16fe7a83a1",
        "colab": {
          "base_uri": "https://localhost:8080/"
        }
      },
      "outputs": [
        {
          "output_type": "execute_result",
          "data": {
            "text/plain": [
              "False"
            ]
          },
          "metadata": {},
          "execution_count": 19
        }
      ],
      "source": [
        "x==y"
      ]
    },
    {
      "cell_type": "markdown",
      "source": [
        "`False` is returned, meaning that `x is not equal to y`. The only other possibility is that x is less than y. Let's check for this using the operator `<`."
      ],
      "metadata": {
        "id": "LZmRlWIU10_l"
      }
    },
    {
      "cell_type": "code",
      "execution_count": 20,
      "metadata": {
        "id": "QhUSSGTxuF4U",
        "outputId": "ddab5e04-d8cf-4a76-801d-d65357879932",
        "colab": {
          "base_uri": "https://localhost:8080/"
        }
      },
      "outputs": [
        {
          "output_type": "execute_result",
          "data": {
            "text/plain": [
              "True"
            ]
          },
          "metadata": {},
          "execution_count": 20
        }
      ],
      "source": [
        "x<y"
      ]
    },
    {
      "cell_type": "markdown",
      "metadata": {
        "id": "z4FBohwYuF4V"
      },
      "source": [
        "Great! And this makes sense, since `x is 3` and `y is 6`. Everytime we run a comparison operator, we receive a `True` or `False` value. This is the data type`bool`"
      ]
    },
    {
      "cell_type": "code",
      "execution_count": 21,
      "metadata": {
        "id": "uSRvbfrKuF4V",
        "outputId": "61cea390-3f13-4044-ada7-10523b3d9582",
        "colab": {
          "base_uri": "https://localhost:8080/"
        }
      },
      "outputs": [
        {
          "output_type": "execute_result",
          "data": {
            "text/plain": [
              "bool"
            ]
          },
          "metadata": {},
          "execution_count": 21
        }
      ],
      "source": [
        "type(x>y)"
      ]
    },
    {
      "cell_type": "code",
      "source": [
        "type(True)"
      ],
      "metadata": {
        "colab": {
          "base_uri": "https://localhost:8080/"
        },
        "id": "r7HF05ts20tp",
        "outputId": "7f3bcf18-ad95-4c97-c4fe-9f34dcaeb97e"
      },
      "execution_count": 22,
      "outputs": [
        {
          "output_type": "execute_result",
          "data": {
            "text/plain": [
              "bool"
            ]
          },
          "metadata": {},
          "execution_count": 22
        }
      ]
    },
    {
      "cell_type": "markdown",
      "metadata": {
        "id": "dkcwz79euF4V"
      },
      "source": [
        "`bools` only have two values: True and False. And these are the outputs of comparison operators. Programming with such simple figures may make this seem a bit simple and uninteresting. However, imagine using comparison operators in a large dataset. Filtering out where values are greater than a certain number, where gender equals something specific, and so on. This is where we're heading in the next few notebooks!"
      ]
    },
    {
      "cell_type": "markdown",
      "metadata": {
        "id": "z65xcXfnuF4V"
      },
      "source": [
        "| Expression | Example  | Meaning |\n",
        "|:-----------|:--------:|:-----------------------------------------|\n",
        "| `<`        | `x < y`  | Is `x` **less than** `y`?                |\n",
        "| `<=`       | `x <= y` | Is `x` **lesser or equal** to `y`?       |\n",
        "| `>`        | `x > y`  | Is `x` **greater** than `y`?             |\n",
        "| `>=`       | `x >= y` | Is `x` **greater or equal** to `y`?      |\n",
        "| `==`       | `x == y` | Is `x` **equal** to `y`?                 |\n",
        "| `!=`       | `x != y` | Is `x` **different** from `y`?           |"
      ]
    },
    {
      "cell_type": "markdown",
      "metadata": {
        "id": "PQchXmz4uF4W"
      },
      "source": [
        "**YOU MUST NOT CONFUSE `x == y` with` x = y`**. The first instruction is a **comparison** operation while the second one is an **assignment**.\n",
        "\n",
        "In programming, `!` is the same as `NOT`. "
      ]
    },
    {
      "cell_type": "markdown",
      "metadata": {
        "id": "6nQF_SMquF4W"
      },
      "source": [
        "### 3. Membership operators"
      ]
    },
    {
      "cell_type": "markdown",
      "metadata": {
        "id": "Yf7rAlgRuF4W"
      },
      "source": [
        "These are used to test whether a value is **absent or present** in data. These will particularly come in handy when working with other data types such as lists and tuples, which we will cover in the next notebook. However, we will explore their applications in strings. \n",
        "\n",
        "There are only two membership operators, `in` and `not in`. They also return `bool` values."
      ]
    },
    {
      "cell_type": "code",
      "execution_count": null,
      "metadata": {
        "id": "Q_WGmJ4VuF4X"
      },
      "outputs": [],
      "source": [
        "string1=\"Mozambique is a beautiful country\""
      ]
    },
    {
      "cell_type": "markdown",
      "metadata": {
        "id": "xvxInhGTuF4X"
      },
      "source": [
        "We can try to determine whether certain words appear in our string."
      ]
    },
    {
      "cell_type": "code",
      "execution_count": null,
      "metadata": {
        "id": "Ezii3jR4uF4X",
        "outputId": "d76e428c-542a-4df9-9cdd-8904d2b2014a"
      },
      "outputs": [
        {
          "data": {
            "text/plain": [
              "True"
            ]
          },
          "execution_count": 20,
          "metadata": {},
          "output_type": "execute_result"
        }
      ],
      "source": [
        "'Mozambique' in string1"
      ]
    },
    {
      "cell_type": "markdown",
      "source": [
        "`True` is returned because `Mozambique` is, indeed in `string1`"
      ],
      "metadata": {
        "id": "GlkGMk2bQEpQ"
      }
    },
    {
      "cell_type": "code",
      "execution_count": null,
      "metadata": {
        "id": "iz5c_CDauF4Y",
        "outputId": "95391053-bb48-42be-c502-511d4653e75c"
      },
      "outputs": [
        {
          "data": {
            "text/plain": [
              "False"
            ]
          },
          "execution_count": 22,
          "metadata": {},
          "output_type": "execute_result"
        }
      ],
      "source": [
        "'Accra' in string1"
      ]
    },
    {
      "cell_type": "code",
      "execution_count": null,
      "metadata": {
        "id": "thj5XhpNuF4Z",
        "outputId": "d309ff5c-0cc2-4f08-c14f-e20a2619b778"
      },
      "outputs": [
        {
          "data": {
            "text/plain": [
              "True"
            ]
          },
          "execution_count": 23,
          "metadata": {},
          "output_type": "execute_result"
        }
      ],
      "source": [
        "'beautiful' in string1"
      ]
    },
    {
      "cell_type": "code",
      "execution_count": null,
      "metadata": {
        "id": "hM45SI51uF4Z",
        "outputId": "890fdd48-16be-4980-e79a-6f43d27f2e0c"
      },
      "outputs": [
        {
          "data": {
            "text/plain": [
              "True"
            ]
          },
          "execution_count": 25,
          "metadata": {},
          "output_type": "execute_result"
        }
      ],
      "source": [
        "'city' not in string1"
      ]
    },
    {
      "cell_type": "markdown",
      "metadata": {
        "id": "JtoJj_inuF4a"
      },
      "source": [
        "This will again be appreciated more in bigger datasets."
      ]
    },
    {
      "cell_type": "code",
      "execution_count": 24,
      "metadata": {
        "id": "EHozyuJluF4a"
      },
      "outputs": [],
      "source": [
        "world_cup='''\n",
        "    The 22 World Cup tournaments have been won by eight national teams. Brazil have won five times , and they are the only team to have played in every tournament . \n",
        "    The other World Cup winners are Germany and Italy , with four titles each ; Argentina with three titles; France , and inaugural winner Uruguay, with two titles each; \n",
        "    and England and Spain , with one title each .\n",
        "    '''"
      ]
    },
    {
      "cell_type": "code",
      "execution_count": 25,
      "metadata": {
        "id": "gZEVVmfFuF4a",
        "colab": {
          "base_uri": "https://localhost:8080/"
        },
        "outputId": "f4d19bfd-a961-4162-9ed6-c417156e2261"
      },
      "outputs": [
        {
          "output_type": "execute_result",
          "data": {
            "text/plain": [
              "False"
            ]
          },
          "metadata": {},
          "execution_count": 25
        }
      ],
      "source": [
        "# with a single line of code, confirm whether 'Croatia' is mentioned in the world_cup excerpt\n",
        "'Croatia' in world_cup"
      ]
    },
    {
      "cell_type": "code",
      "execution_count": 26,
      "metadata": {
        "id": "1ptcTrZyuF4b",
        "colab": {
          "base_uri": "https://localhost:8080/"
        },
        "outputId": "3b5f398e-2a01-4ac3-dede-0e6595a8856f"
      },
      "outputs": [
        {
          "output_type": "execute_result",
          "data": {
            "text/plain": [
              "True"
            ]
          },
          "metadata": {},
          "execution_count": 26
        }
      ],
      "source": [
        "# Confirm whether Spain is mentioned in the world_cup excerpt\n",
        "'Spain' in world_cup"
      ]
    },
    {
      "cell_type": "markdown",
      "metadata": {
        "id": "ZHeEpjGRuF4b"
      },
      "source": [
        "### 4. Logical Operators"
      ]
    },
    {
      "cell_type": "markdown",
      "metadata": {
        "id": "jOOVHCRguF4b"
      },
      "source": [
        "Logical operators include `and`,`or`, and `not`. They allow you to perform what is called **Boolean arithmetic**. Typically, when we have multiple Boolean expressions, logical operators are used to determine whether:\n",
        "* **All** expressions are true.\n",
        "* **At least one** of the expressions is true.\n",
        "\n",
        "| Operator | Example   | Meaning                          |\n",
        "|:--------:|:---------:| ---------------------------------|\n",
        "| `and`    | `P and Q` | Are P and Q **both** true?       |\n",
        "| `or`     | `P or Q`  | Is **at least one** of the expressions among P and Q true? |\n",
        "| `not`    | `not P`   | The **negation** of the expression P |\n"
      ]
    },
    {
      "cell_type": "markdown",
      "metadata": {
        "id": "rlqQeP3puF4c"
      },
      "source": [
        "Let's see this in code"
      ]
    },
    {
      "cell_type": "code",
      "execution_count": 27,
      "metadata": {
        "id": "XsDvYp8nuF4c"
      },
      "outputs": [],
      "source": [
        "x=5\n",
        "y=2"
      ]
    },
    {
      "cell_type": "code",
      "execution_count": 28,
      "metadata": {
        "colab": {
          "base_uri": "https://localhost:8080/"
        },
        "id": "0PEYZNmtuF4c",
        "outputId": "8ba3694f-59a4-415f-8f1b-5cb7aa8b98a9"
      },
      "outputs": [
        {
          "output_type": "execute_result",
          "data": {
            "text/plain": [
              "False"
            ]
          },
          "metadata": {},
          "execution_count": 28
        }
      ],
      "source": [
        "# Evaluating with or will return true, if any of the conditions are true\n",
        "(x==5) and (y==1)"
      ]
    },
    {
      "cell_type": "markdown",
      "metadata": {
        "id": "r7C8_I7suF4c"
      },
      "source": [
        "False is returned because `x is equal to 5` but `y is not equal to 1`. That is: `x==5` but `y!=1`. Let's run these two independently to understand them better"
      ]
    },
    {
      "cell_type": "code",
      "source": [
        "x==5"
      ],
      "metadata": {
        "colab": {
          "base_uri": "https://localhost:8080/"
        },
        "id": "SiRch0pc4L9p",
        "outputId": "17e8e769-c921-48fc-f5c4-dbddaff5c516"
      },
      "execution_count": null,
      "outputs": [
        {
          "output_type": "execute_result",
          "data": {
            "text/plain": [
              "True"
            ]
          },
          "metadata": {},
          "execution_count": 2
        }
      ]
    },
    {
      "cell_type": "code",
      "source": [
        "y==1"
      ],
      "metadata": {
        "colab": {
          "base_uri": "https://localhost:8080/"
        },
        "id": "oprmmBidQnuB",
        "outputId": "98489c7b-6000-416b-d073-d579480a1d2a"
      },
      "execution_count": 29,
      "outputs": [
        {
          "output_type": "execute_result",
          "data": {
            "text/plain": [
              "False"
            ]
          },
          "metadata": {},
          "execution_count": 29
        }
      ]
    },
    {
      "cell_type": "markdown",
      "source": [
        "We can see that the output is `True` and `False`."
      ],
      "metadata": {
        "id": "Z7YREYYJQpsU"
      }
    },
    {
      "cell_type": "markdown",
      "source": [
        "For the `and` operator to return `True`, both expressions must return `True`. Else, if even one of them is `False`, it will return `False`. This will particularly be useful when we are assigning conditions and filters to data."
      ],
      "metadata": {
        "id": "nn8tC3l1Q77j"
      }
    },
    {
      "cell_type": "markdown",
      "source": [
        "Based on the table provided above under the heading `Logical operators`, can you guess what will happen when we use `or` instead of `and` in the same expression?\n",
        "```\n",
        "(x==5) or (y==1)\n",
        "```"
      ],
      "metadata": {
        "id": "wubmKRnRRd1G"
      }
    },
    {
      "cell_type": "code",
      "source": [
        "# Run the cell below to find out what happens\n",
        "(x==5) or (y==1)"
      ],
      "metadata": {
        "id": "AP44VtuIRYnA",
        "colab": {
          "base_uri": "https://localhost:8080/"
        },
        "outputId": "f2112e67-bc62-4b67-c1e9-866d16113918"
      },
      "execution_count": 30,
      "outputs": [
        {
          "output_type": "execute_result",
          "data": {
            "text/plain": [
              "True"
            ]
          },
          "metadata": {},
          "execution_count": 30
        }
      ]
    },
    {
      "cell_type": "markdown",
      "source": [
        "Unlike `and`, `or` returns `True` as long as at least 1 of the operations is `True`. Because the first operation is `True`, we get that as our result."
      ],
      "metadata": {
        "id": "222G7WfuR46B"
      }
    },
    {
      "cell_type": "markdown",
      "source": [
        "The final logical operator is the `not` operator. This is a negation operator. This means that when an operation is `True`, it turns it to `False`, and when an operation is `False`, it will return `True`."
      ],
      "metadata": {
        "id": "wzVT6DufSO8F"
      }
    },
    {
      "cell_type": "code",
      "source": [
        "not(x==5)"
      ],
      "metadata": {
        "colab": {
          "base_uri": "https://localhost:8080/"
        },
        "id": "wegkrde0SMZS",
        "outputId": "15fbec9d-e1de-4288-ce6a-a6b700688bd3"
      },
      "execution_count": 31,
      "outputs": [
        {
          "output_type": "execute_result",
          "data": {
            "text/plain": [
              "False"
            ]
          },
          "metadata": {},
          "execution_count": 31
        }
      ]
    },
    {
      "cell_type": "code",
      "source": [
        "not((x==5) and (y==1))"
      ],
      "metadata": {
        "colab": {
          "base_uri": "https://localhost:8080/"
        },
        "id": "ttXodbUyTYHB",
        "outputId": "0ead1b1c-d95e-49de-d3b6-80b063fdc213"
      },
      "execution_count": 32,
      "outputs": [
        {
          "output_type": "execute_result",
          "data": {
            "text/plain": [
              "True"
            ]
          },
          "metadata": {},
          "execution_count": 32
        }
      ]
    },
    {
      "cell_type": "markdown",
      "metadata": {
        "id": "nyV1_AUmuF4c"
      },
      "source": [
        "Let's consider a situation where you decide to buy your younger brother ice cream if he behaves throughout the week, scores 9 in his language test, or scores at least an 8 in his math test. By the end of the week, you decide to evaluate and store your evaluation in variables. He does not behave, scores 10 in his language test, and scores 7 in his math test. Using logical operators, do you owe him ice cream?"
      ]
    },
    {
      "cell_type": "code",
      "execution_count": 33,
      "metadata": {
        "id": "aHhx1m21uF4d",
        "outputId": "ea83da47-baf8-4044-d819-5b3c21e45eae",
        "colab": {
          "base_uri": "https://localhost:8080/"
        }
      },
      "outputs": [
        {
          "output_type": "stream",
          "name": "stdout",
          "text": [
            "Do I owe my younger brother ice cream? True\n"
          ]
        }
      ],
      "source": [
        "Behaves=False\n",
        "language_test=10\n",
        "math_test=7\n",
        "criteria1=(Behaves==True)\n",
        "criteria2=(language_test>=9)\n",
        "criteria3=(math_test>=8)\n",
        "\n",
        "result=criteria1 or criteria2 or criteria3\n",
        "\n",
        "print(\"Do I owe my younger brother ice cream?\",result)"
      ]
    },
    {
      "cell_type": "code",
      "source": [],
      "metadata": {
        "id": "mzfd_asRZ3JB"
      },
      "execution_count": null,
      "outputs": []
    },
    {
      "cell_type": "markdown",
      "source": [
        "You decide to reevaluate your conditions. This time, he must behave, score at least an 8 in his math test, and a 9 in languages in order to get an ice cream. Write code using logical operators to evaluate whether he gets ice cream when he `behaves`, scores a `9` in math, and an `8` in languages."
      ],
      "metadata": {
        "id": "V9ZQTKzKTjAw"
      }
    },
    {
      "cell_type": "code",
      "source": [],
      "metadata": {
        "id": "4Au_Y5AYVDZG"
      },
      "execution_count": null,
      "outputs": []
    },
    {
      "cell_type": "code",
      "execution_count": 34,
      "metadata": {
        "outputId": "d4873377-5035-4dc5-bb3c-e28cd6d51bea",
        "colab": {
          "base_uri": "https://localhost:8080/"
        },
        "id": "HxN_MWVOZ5VV"
      },
      "outputs": [
        {
          "output_type": "stream",
          "name": "stdout",
          "text": [
            "Do I owe my younger brother ice cream? True\n"
          ]
        }
      ],
      "source": [
        "Behaves=True\n",
        "language_test=8\n",
        "math_test=9\n",
        "criteria1=(Behaves==True)\n",
        "criteria2=(language_test>=9)\n",
        "criteria3=(math_test>=8)\n",
        "\n",
        "result=criteria1 or criteria2 or criteria3\n",
        "\n",
        "print(\"Do I owe my younger brother ice cream?\",result)"
      ]
    },
    {
      "cell_type": "markdown",
      "metadata": {
        "id": "imYo5UI1uF4d"
      },
      "source": [
        "### Question"
      ]
    },
    {
      "cell_type": "markdown",
      "metadata": {
        "id": "PLsVcazHuF4d"
      },
      "source": [
        "The South African government has decided to offer a bonus of 30000 Rand to some civil servants according to their salary and seniority. Like all other measures taken by the government, it is difficult to understand to whom it applies.\n",
        "From what you understand, a person can receive the bonus if:\n",
        "* Criterion 1: They have **less than 5 years** of seniority **and** their salary is **less than 150000 Rand**.\n",
        "\n",
        "\n",
        "* Criterion 2: They have **between 5 and 10 years** of seniority **and** their salary is **between 150000 Rand and 230000 Rand**.\n",
        "\n",
        "\n",
        "* Criterion 3: They have **more than 10 years** of seniority **and** their salary is **less than 150000 Rand or greater than 230000 Rand**. That is to say that a person with more than 10 years of seniority and a salary between 150000 and 230000 Rand cannot receive the bonus.\n",
        "   \n",
        "Bernadette has **12 years** of seniority and a salary of **240000** Rand.\n",
        "\n",
        "Lone has **6 years** of seniority and a salary of **149000 Rand**.\n",
        "\n",
        "Using comparison operators like we did in the question above, determine whether Lone and Bernadette will receive a bonus. Your output should be \n",
        "```\n",
        "Bernadette will receive a bonus? True\n",
        "Lone will receive a bonus? False\n",
        "```"
      ]
    },
    {
      "cell_type": "code",
      "execution_count": 42,
      "metadata": {
        "id": "ICiOVBwouF4d",
        "colab": {
          "base_uri": "https://localhost:8080/"
        },
        "outputId": "613274c6-a031-4872-b190-34a757c2bd64"
      },
      "outputs": [
        {
          "output_type": "stream",
          "name": "stdout",
          "text": [
            "Bernadette will receive a bonus? True\n"
          ]
        }
      ],
      "source": [
        " #for Bernadette\n",
        "year= 12\n",
        "salary = 240000\n",
        "\n",
        "\n",
        "criteria1=(year>5 and salary>15000)\n",
        "criteria2=(year>5<10 and salary>150000<230000 )\n",
        "criteria3=(year>=10 and salary<150000>=230000)\n",
        "\n",
        "\n",
        "result=criteria1 or criteria2 or criteria3\n",
        "\n",
        "print(\"Bernadette will receive a bonus?\",result)\n"
      ]
    },
    {
      "cell_type": "code",
      "source": [
        "\n",
        "#for lone\n",
        "year = 6\n",
        "salary= 149000\n",
        "\n",
        "\n",
        "criteria1=(year>5 and salary>15000)\n",
        "criteria2=(year>5<10 and salary>150000<230000 )\n",
        "criteria3=(year>=10 and salary<150000>=230000)\n",
        "\n",
        "\n",
        "result=criteria1 or criteria2 or criteria3\n",
        "\n",
        "print(\"lone will receive a bonus?\",result)\n"
      ],
      "metadata": {
        "colab": {
          "base_uri": "https://localhost:8080/"
        },
        "id": "j-bjXYpJf91l",
        "outputId": "88475fae-d0a0-4a0b-f741-c46d17f1fd09"
      },
      "execution_count": 43,
      "outputs": [
        {
          "output_type": "stream",
          "name": "stdout",
          "text": [
            "lone will receive a bonus? True\n"
          ]
        }
      ]
    }
  ],
  "metadata": {
    "anaconda-cloud": {},
    "hide_input": false,
    "kernelspec": {
      "display_name": "Python 3",
      "language": "python",
      "name": "python3"
    },
    "language_info": {
      "codemirror_mode": {
        "name": "ipython",
        "version": 3
      },
      "file_extension": ".py",
      "mimetype": "text/x-python",
      "name": "python",
      "nbconvert_exporter": "python",
      "pygments_lexer": "ipython3",
      "version": "3.10.2"
    },
    "latex_envs": {
      "LaTeX_envs_menu_present": true,
      "autoclose": false,
      "autocomplete": true,
      "bibliofile": "biblio.bib",
      "cite_by": "apalike",
      "current_citInitial": 1,
      "eqLabelWithNumbers": true,
      "eqNumInitial": 1,
      "hotkeys": {
        "equation": "Ctrl-E",
        "itemize": "Ctrl-I"
      },
      "labels_anchors": false,
      "latex_user_defs": false,
      "report_style_numbering": false,
      "user_envs_cfg": false
    },
    "n_questions": 1,
    "nbTranslate": {
      "displayLangs": [
        "*"
      ],
      "hotkey": "alt-t",
      "langInMainMenu": true,
      "sourceLang": "fr",
      "targetLang": "en",
      "useGoogleTranslate": true
    },
    "owner": "DataScientest",
    "vscode": {
      "interpreter": {
        "hash": "a0329d1e859fdaae7091121e22fb799195311d986a530316c2954a05cd641814"
      }
    },
    "colab": {
      "provenance": [],
      "include_colab_link": true
    }
  },
  "nbformat": 4,
  "nbformat_minor": 0
}