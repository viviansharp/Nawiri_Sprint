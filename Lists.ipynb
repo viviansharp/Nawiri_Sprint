{
  "cells": [
    {
      "cell_type": "markdown",
      "metadata": {
        "id": "view-in-github",
        "colab_type": "text"
      },
      "source": [
        "<a href=\"https://colab.research.google.com/github/viviansharp/Nawiri_Sprint/blob/main/Lists.ipynb\" target=\"_parent\"><img src=\"https://colab.research.google.com/assets/colab-badge.svg\" alt=\"Open In Colab\"/></a>"
      ]
    },
    {
      "cell_type": "markdown",
      "metadata": {
        "id": "UrRee1m5kh6Q"
      },
      "source": [
        "<center><img src=\"https://images.squarespace-cdn.com/content/v1/63ad4ba82d1ef311d74b008d/ab1297c0-3227-4ea4-94a3-10fcf4efd0d2/NAWIRIfoo.png?format=300w\" style=\"height:150px\"></center>\n",
        "<center><h2> Problem Solving and Programming </h2></center>\n",
        "<hr style=\"border-width:2px;border-color:#002f70\">\n",
        "<center><h2> Working with Data</h2></center>\n",
        "<center><h3> Lists<h3></center>\n",
        "<hr style=\"border-width:2px;border-color:#002f70\">"
      ]
    },
    {
      "cell_type": "markdown",
      "metadata": {
        "id": "6YNt5FqNkh6Y"
      },
      "source": [
        "Great! We've built a good foundation to start looking at data structures in python! Data structures are just ways to store data efficiently in programming. There are many types of data structures, and for this notebook, we'll look at *lists*."
      ]
    },
    {
      "cell_type": "markdown",
      "metadata": {
        "id": "EHmHl89Xkh6Z"
      },
      "source": [
        "## Lists"
      ]
    },
    {
      "cell_type": "markdown",
      "metadata": {
        "id": "Yfk7q8lkkh6a"
      },
      "source": [
        "Lists are data structures that hold data of pretty much any kind. They're pretty self-explanatory. Let's see an example."
      ]
    },
    {
      "cell_type": "code",
      "execution_count": 37,
      "metadata": {
        "id": "47OrEkCTkh6b"
      },
      "outputs": [],
      "source": [
        "some_countries=['Ethiopia','Senegal','Nigera','Uganda','Ruanda','South Africa','Kenya','Togo','Tunisa','Burundi','Ghana','Democratic Republic of Congo','Zibabwe','Zambia','Nigeria','Ethiopia','Togo','Madagascar']"
      ]
    },
    {
      "cell_type": "code",
      "execution_count": 38,
      "metadata": {
        "id": "NfHhP_ARkh6d",
        "outputId": "5959d803-d3c7-4a7c-ab67-d1b8f7f59a0b",
        "colab": {
          "base_uri": "https://localhost:8080/"
        }
      },
      "outputs": [
        {
          "output_type": "execute_result",
          "data": {
            "text/plain": [
              "list"
            ]
          },
          "metadata": {},
          "execution_count": 38
        }
      ],
      "source": [
        "type(some_countries)"
      ]
    },
    {
      "cell_type": "markdown",
      "metadata": {
        "id": "cN5pnmpRkh6f"
      },
      "source": [
        "Above is a list of some countries in Africa. Do you see how we created the list? It's so simple. Just square brackets, and commas. The elements in the list are all strings, but if we wanted, we could have integers, floats, bools, other lists, and so on.."
      ]
    },
    {
      "cell_type": "markdown",
      "metadata": {
        "id": "8sbq4hBYkh6g"
      },
      "source": [
        "Let's find the length of the list using the function len()"
      ]
    },
    {
      "cell_type": "code",
      "execution_count": 39,
      "metadata": {
        "id": "KqcaXgsikh6h",
        "outputId": "9863bb9e-b6d5-4cd1-9d19-d938c02cddc1",
        "colab": {
          "base_uri": "https://localhost:8080/"
        }
      },
      "outputs": [
        {
          "output_type": "execute_result",
          "data": {
            "text/plain": [
              "18"
            ]
          },
          "metadata": {},
          "execution_count": 39
        }
      ],
      "source": [
        "len(some_countries)"
      ]
    },
    {
      "cell_type": "markdown",
      "metadata": {
        "id": "M5I7YfUjkh6k"
      },
      "source": [
        "Let's retrieve some countries by index"
      ]
    },
    {
      "cell_type": "code",
      "execution_count": 40,
      "metadata": {
        "id": "rN0cKLsCkh6l",
        "outputId": "90267e9c-a77a-4158-ee36-03cbeff18eb3",
        "colab": {
          "base_uri": "https://localhost:8080/",
          "height": 36
        }
      },
      "outputs": [
        {
          "output_type": "execute_result",
          "data": {
            "text/plain": [
              "'Ethiopia'"
            ],
            "application/vnd.google.colaboratory.intrinsic+json": {
              "type": "string"
            }
          },
          "metadata": {},
          "execution_count": 40
        }
      ],
      "source": [
        "# Retrieve index 0\n",
        "some_countries[0]"
      ]
    },
    {
      "cell_type": "markdown",
      "metadata": {
        "id": "_cxLCrkYkh6m"
      },
      "source": [
        "> You will probably encounter some text referring to the 0th index. This is just the same as index 0!"
      ]
    },
    {
      "cell_type": "code",
      "execution_count": 41,
      "metadata": {
        "id": "up0hF0pfkh6n",
        "colab": {
          "base_uri": "https://localhost:8080/",
          "height": 36
        },
        "outputId": "2ef46fce-336b-4f36-d75f-2fb487a4cfe1"
      },
      "outputs": [
        {
          "output_type": "execute_result",
          "data": {
            "text/plain": [
              "'South Africa'"
            ],
            "application/vnd.google.colaboratory.intrinsic+json": {
              "type": "string"
            }
          },
          "metadata": {},
          "execution_count": 41
        }
      ],
      "source": [
        "# Retrieve index 5\n",
        "some_countries[5]"
      ]
    },
    {
      "cell_type": "code",
      "execution_count": 42,
      "metadata": {
        "id": "ZfA1Tjhfkh6n",
        "colab": {
          "base_uri": "https://localhost:8080/",
          "height": 36
        },
        "outputId": "7eafdd8b-0204-4f37-f245-10b12c74e6d6"
      },
      "outputs": [
        {
          "output_type": "execute_result",
          "data": {
            "text/plain": [
              "'Madagascar'"
            ],
            "application/vnd.google.colaboratory.intrinsic+json": {
              "type": "string"
            }
          },
          "metadata": {},
          "execution_count": 42
        }
      ],
      "source": [
        "# Retrieve the country in the last index\n",
        "some_countries[-1]"
      ]
    },
    {
      "cell_type": "markdown",
      "metadata": {
        "id": "6L1Ebx0Rkh6o"
      },
      "source": [
        "Another remarkable thing about Python is we can retrieve elements backwards. What this means is that we can start from the final position, going to the beginning. We just need to use a negative number. In this case, there is no negative zero, so the final element in our list is at index `-1`"
      ]
    },
    {
      "cell_type": "code",
      "execution_count": 43,
      "metadata": {
        "id": "eIyV8YUokh6p",
        "outputId": "9e430c20-b75d-439f-8b5b-56bbce0aca93",
        "colab": {
          "base_uri": "https://localhost:8080/",
          "height": 36
        }
      },
      "outputs": [
        {
          "output_type": "execute_result",
          "data": {
            "text/plain": [
              "'Madagascar'"
            ],
            "application/vnd.google.colaboratory.intrinsic+json": {
              "type": "string"
            }
          },
          "metadata": {},
          "execution_count": 43
        }
      ],
      "source": [
        "some_countries[-1]"
      ]
    },
    {
      "cell_type": "markdown",
      "metadata": {
        "id": "zRbpNT0zkh6p"
      },
      "source": [
        "Another cool thing we can do is slice through the list. Like we did with strings. Let's get the first five countries"
      ]
    },
    {
      "cell_type": "code",
      "execution_count": 44,
      "metadata": {
        "id": "KzHzr2Mxkh6q",
        "outputId": "6ee1d28f-d97f-46a9-af60-24c7c449669d",
        "colab": {
          "base_uri": "https://localhost:8080/"
        }
      },
      "outputs": [
        {
          "output_type": "execute_result",
          "data": {
            "text/plain": [
              "['Ethiopia', 'Senegal', 'Nigera', 'Uganda', 'Ruanda']"
            ]
          },
          "metadata": {},
          "execution_count": 44
        }
      ],
      "source": [
        "some_countries[0:5]"
      ]
    },
    {
      "cell_type": "markdown",
      "metadata": {
        "id": "Uwja68hpkh6r"
      },
      "source": [
        "A better way to do this is to exclude the zero. By default, if a `start` point is excluded, the slicing will start from the very beginning, at 0. So it's not necessary to have it there. "
      ]
    },
    {
      "cell_type": "code",
      "execution_count": 45,
      "metadata": {
        "id": "64aK0d21kh6r",
        "outputId": "f157ae0b-8de4-4653-c7f9-82bae8e9fbe8",
        "colab": {
          "base_uri": "https://localhost:8080/"
        }
      },
      "outputs": [
        {
          "output_type": "execute_result",
          "data": {
            "text/plain": [
              "['Ethiopia', 'Senegal', 'Nigera', 'Uganda', 'Ruanda']"
            ]
          },
          "metadata": {},
          "execution_count": 45
        }
      ],
      "source": [
        "some_countries[:5]"
      ]
    },
    {
      "cell_type": "markdown",
      "metadata": {
        "id": "wY2WGYT9kh6s"
      },
      "source": [
        "The same applies for `stop point` and `step`. If no stop point is included, the slicing will stop at the very end. If no step is included, the step will be 1 by default."
      ]
    },
    {
      "cell_type": "code",
      "execution_count": 46,
      "metadata": {
        "id": "4w1iwtw4kh6t",
        "colab": {
          "base_uri": "https://localhost:8080/"
        },
        "outputId": "526b0b23-f227-4cc0-d5ed-c5d05c397499"
      },
      "outputs": [
        {
          "output_type": "execute_result",
          "data": {
            "text/plain": [
              "['Togo',\n",
              " 'Tunisa',\n",
              " 'Burundi',\n",
              " 'Ghana',\n",
              " 'Democratic Republic of Congo',\n",
              " 'Zibabwe',\n",
              " 'Zambia',\n",
              " 'Nigeria',\n",
              " 'Ethiopia',\n",
              " 'Togo',\n",
              " 'Madagascar']"
            ]
          },
          "metadata": {},
          "execution_count": 46
        }
      ],
      "source": [
        "# Slice countries from the 7th element to the end\n",
        "some_countries[7:]"
      ]
    },
    {
      "cell_type": "markdown",
      "metadata": {
        "id": "Rw8_rxF9kh6t"
      },
      "source": [
        "Can you figure out what the slicing below does?"
      ]
    },
    {
      "cell_type": "code",
      "execution_count": 47,
      "metadata": {
        "id": "hKfvhs-Lkh6u",
        "outputId": "a07bdd54-8a46-40ec-f1e1-abc1860acc6a",
        "colab": {
          "base_uri": "https://localhost:8080/"
        }
      },
      "outputs": [
        {
          "output_type": "execute_result",
          "data": {
            "text/plain": [
              "['South Africa',\n",
              " 'Togo',\n",
              " 'Burundi',\n",
              " 'Democratic Republic of Congo',\n",
              " 'Zambia',\n",
              " 'Ethiopia',\n",
              " 'Madagascar']"
            ]
          },
          "metadata": {},
          "execution_count": 47
        }
      ],
      "source": [
        "some_countries[5::2]\n",
        "#it starts from the fifth country then takes two step "
      ]
    },
    {
      "cell_type": "markdown",
      "metadata": {
        "id": "LhQqTw7zkh6u"
      },
      "source": [
        "There are some pretty cool functions we can do with lists. For example, max and min."
      ]
    },
    {
      "cell_type": "code",
      "execution_count": 48,
      "metadata": {
        "id": "2ABx9t5Ikh6v",
        "outputId": "db6ef209-86e3-484b-f9ad-1d71ede2d941",
        "colab": {
          "base_uri": "https://localhost:8080/",
          "height": 36
        }
      },
      "outputs": [
        {
          "output_type": "execute_result",
          "data": {
            "text/plain": [
              "'Zibabwe'"
            ],
            "application/vnd.google.colaboratory.intrinsic+json": {
              "type": "string"
            }
          },
          "metadata": {},
          "execution_count": 48
        }
      ],
      "source": [
        "max(some_countries)"
      ]
    },
    {
      "cell_type": "code",
      "execution_count": 49,
      "metadata": {
        "id": "UdKl9qMekh6v",
        "outputId": "d8b090dd-0b3e-4f2c-bc20-4d01f5ef535e",
        "colab": {
          "base_uri": "https://localhost:8080/",
          "height": 36
        }
      },
      "outputs": [
        {
          "output_type": "execute_result",
          "data": {
            "text/plain": [
              "'Burundi'"
            ],
            "application/vnd.google.colaboratory.intrinsic+json": {
              "type": "string"
            }
          },
          "metadata": {},
          "execution_count": 49
        }
      ],
      "source": [
        "min(some_countries)"
      ]
    },
    {
      "cell_type": "markdown",
      "metadata": {
        "id": "4_JxoIvSkh6w"
      },
      "source": [
        "Max and min, when presented with a list of integers or floats, return the maximum and minimum value respectively. Can you figure out what they do in the above case?"
      ]
    },
    {
      "cell_type": "markdown",
      "metadata": {
        "id": "NGw5_EWTkh6x"
      },
      "source": [
        "We can also check the index of elements in our list"
      ]
    },
    {
      "cell_type": "code",
      "execution_count": 50,
      "metadata": {
        "id": "HLy3hOoGkh6x",
        "outputId": "2c173773-0dc9-43b9-f264-5bfc75e28991",
        "colab": {
          "base_uri": "https://localhost:8080/"
        }
      },
      "outputs": [
        {
          "output_type": "execute_result",
          "data": {
            "text/plain": [
              "5"
            ]
          },
          "metadata": {},
          "execution_count": 50
        }
      ],
      "source": [
        "some_countries.index('South Africa')"
      ]
    },
    {
      "cell_type": "code",
      "execution_count": 51,
      "metadata": {
        "id": "ALOMYonQkh6y",
        "outputId": "aa8dff22-5a28-4b8c-dcce-b1f657b0d77e",
        "colab": {
          "base_uri": "https://localhost:8080/"
        }
      },
      "outputs": [
        {
          "output_type": "execute_result",
          "data": {
            "text/plain": [
              "3"
            ]
          },
          "metadata": {},
          "execution_count": 51
        }
      ],
      "source": [
        "some_countries.index('Uganda')"
      ]
    },
    {
      "cell_type": "code",
      "execution_count": 51,
      "metadata": {
        "id": "cUAOMcSgkh6y"
      },
      "outputs": [],
      "source": []
    },
    {
      "cell_type": "markdown",
      "metadata": {
        "id": "bfxK-bbQkh6z"
      },
      "source": [
        "Another thing we can do is add elements to our list, using the function append(). This automatically adds the element to the final position."
      ]
    },
    {
      "cell_type": "code",
      "execution_count": 52,
      "metadata": {
        "id": "FVVwL7F8kh6z",
        "outputId": "171e2e6f-52ce-4c4e-946c-5428ebb7cff4",
        "colab": {
          "base_uri": "https://localhost:8080/"
        }
      },
      "outputs": [
        {
          "output_type": "stream",
          "name": "stdout",
          "text": [
            "['Ethiopia', 'Senegal', 'Nigera', 'Uganda', 'Ruanda', 'South Africa', 'Kenya', 'Togo', 'Tunisa', 'Burundi', 'Ghana', 'Democratic Republic of Congo', 'Zibabwe', 'Zambia', 'Nigeria', 'Ethiopia', 'Togo', 'Madagascar', 'South Sudan']\n"
          ]
        }
      ],
      "source": [
        "some_countries.append('South Sudan')\n",
        "print(some_countries)"
      ]
    },
    {
      "cell_type": "markdown",
      "metadata": {
        "id": "6PtcEBEBkh60"
      },
      "source": [
        "Since append only allows you to add to the final position, we can use another function, `insert()` to add to specific positions. insert takes 2 arguments, the index you want an element to be added at, and the element. Therefore, to add 'Eritria' at the 0th index, we run `some_countries.insert(0,'Eritrea)`"
      ]
    },
    {
      "cell_type": "code",
      "execution_count": 53,
      "metadata": {
        "id": "QkotGrR9kh60",
        "outputId": "0ccf4af2-a05f-435b-8dc2-1eaf4013dddb",
        "colab": {
          "base_uri": "https://localhost:8080/"
        }
      },
      "outputs": [
        {
          "output_type": "stream",
          "name": "stdout",
          "text": [
            "['Eritrea', 'Ethiopia', 'Senegal', 'Nigera', 'Uganda', 'Ruanda', 'South Africa', 'Kenya', 'Togo', 'Tunisa', 'Burundi', 'Ghana', 'Democratic Republic of Congo', 'Zibabwe', 'Zambia', 'Nigeria', 'Ethiopia', 'Togo', 'Madagascar', 'South Sudan']\n"
          ]
        }
      ],
      "source": [
        "some_countries.insert(0,'Eritrea')\n",
        "print(some_countries)"
      ]
    },
    {
      "cell_type": "markdown",
      "metadata": {
        "id": "FCZAsEshkh61"
      },
      "source": [
        "Great! Can you add two African countries, currently not on the list?"
      ]
    },
    {
      "cell_type": "code",
      "execution_count": 54,
      "metadata": {
        "id": "1N-pxBNUkh62"
      },
      "outputs": [],
      "source": [
        "# Use pop to add a country\n",
        "#some_countries.pop(1)"
      ]
    },
    {
      "cell_type": "code",
      "execution_count": 55,
      "metadata": {
        "id": "nrvI1zqTkh62"
      },
      "outputs": [],
      "source": [
        "# Use insert to add a country at index 10\n",
        "some_countries.insert(10,'rwanda')"
      ]
    },
    {
      "cell_type": "code",
      "execution_count": 56,
      "metadata": {
        "id": "QpuRoZrckh63",
        "outputId": "fb8bd3bc-0f1d-46b4-d81c-063cec85f32c",
        "colab": {
          "base_uri": "https://localhost:8080/"
        }
      },
      "outputs": [
        {
          "output_type": "execute_result",
          "data": {
            "text/plain": [
              "21"
            ]
          },
          "metadata": {},
          "execution_count": 56
        }
      ],
      "source": [
        "len(some_countries)"
      ]
    },
    {
      "cell_type": "markdown",
      "metadata": {
        "id": "n0V_L5_Xkh63"
      },
      "source": [
        "You can check whether the countries you added have successfully gone into the list using **Membership operators**; `in` and `not in`."
      ]
    },
    {
      "cell_type": "code",
      "execution_count": 57,
      "metadata": {
        "id": "yZBLuNELkh63",
        "outputId": "30571fae-e1f5-4031-8d33-f4eb028a78f6",
        "colab": {
          "base_uri": "https://localhost:8080/"
        }
      },
      "outputs": [
        {
          "output_type": "execute_result",
          "data": {
            "text/plain": [
              "False"
            ]
          },
          "metadata": {},
          "execution_count": 57
        }
      ],
      "source": [
        "'Mozambique' in some_countries"
      ]
    },
    {
      "cell_type": "code",
      "execution_count": 58,
      "metadata": {
        "id": "tcBtgzR7kh64",
        "outputId": "ff54fafe-c6d9-4914-d2c0-372f92a012a4",
        "colab": {
          "base_uri": "https://localhost:8080/"
        }
      },
      "outputs": [
        {
          "output_type": "execute_result",
          "data": {
            "text/plain": [
              "True"
            ]
          },
          "metadata": {},
          "execution_count": 58
        }
      ],
      "source": [
        "'South Africa' in some_countries"
      ]
    },
    {
      "cell_type": "markdown",
      "metadata": {
        "id": "JJ6X-Uitkh65"
      },
      "source": [
        "We can also remove elements! We'll do this using the function pop(). Pop however takes an index as an argument. What this means is that when we run `some_countries.pop(9)`, the 9th index in our list is removed."
      ]
    },
    {
      "cell_type": "code",
      "execution_count": 59,
      "metadata": {
        "id": "7-xQf9GRkh65",
        "outputId": "994962ba-8e3f-41ee-88dd-1371b27d192c",
        "colab": {
          "base_uri": "https://localhost:8080/",
          "height": 36
        }
      },
      "outputs": [
        {
          "output_type": "execute_result",
          "data": {
            "text/plain": [
              "'Togo'"
            ],
            "application/vnd.google.colaboratory.intrinsic+json": {
              "type": "string"
            }
          },
          "metadata": {},
          "execution_count": 59
        }
      ],
      "source": [
        "some_countries.pop(8)"
      ]
    },
    {
      "cell_type": "code",
      "execution_count": 65,
      "metadata": {
        "id": "jmdYItwCkh65",
        "outputId": "35406ffa-9db5-4708-e996-7e02b5b61644",
        "colab": {
          "base_uri": "https://localhost:8080/",
          "height": 36
        }
      },
      "outputs": [
        {
          "output_type": "execute_result",
          "data": {
            "text/plain": [
              "'Ethiopia'"
            ],
            "application/vnd.google.colaboratory.intrinsic+json": {
              "type": "string"
            }
          },
          "metadata": {},
          "execution_count": 65
        }
      ],
      "source": [
        "# Can you figure out what this code does?\n",
        "some_countries.pop(some_countries.index('Ethiopia'))"
      ]
    },
    {
      "cell_type": "markdown",
      "metadata": {
        "id": "iUeU1sYLkh66"
      },
      "source": [
        "Using index and pop, remove Senegal and Togo from the list."
      ]
    },
    {
      "cell_type": "code",
      "execution_count": 64,
      "metadata": {
        "id": "G6mnw3Vykh66",
        "colab": {
          "base_uri": "https://localhost:8080/"
        },
        "outputId": "79edb99c-e2a8-4d03-ab02-09f47de85295"
      },
      "outputs": [
        {
          "output_type": "execute_result",
          "data": {
            "text/plain": [
              "['Eritrea',\n",
              " 'Senegal',\n",
              " 'Nigera',\n",
              " 'Uganda',\n",
              " 'Ruanda',\n",
              " 'South Africa',\n",
              " 'Kenya',\n",
              " 'Tunisa',\n",
              " 'rwanda',\n",
              " 'Burundi',\n",
              " 'Ghana',\n",
              " 'Democratic Republic of Congo',\n",
              " 'Zibabwe',\n",
              " 'Zambia',\n",
              " 'Nigeria',\n",
              " 'Ethiopia',\n",
              " 'Togo',\n",
              " 'Madagascar',\n",
              " 'South Sudan']"
            ]
          },
          "metadata": {},
          "execution_count": 64
        }
      ],
      "source": [
        "some_countries\n"
      ]
    },
    {
      "cell_type": "code",
      "execution_count": 71,
      "metadata": {
        "id": "FTjTTLIxkh66",
        "colab": {
          "base_uri": "https://localhost:8080/",
          "height": 36
        },
        "outputId": "9af7671c-5a76-4094-ff5a-cae4369f03f8"
      },
      "outputs": [
        {
          "output_type": "execute_result",
          "data": {
            "text/plain": [
              "'Senegal'"
            ],
            "application/vnd.google.colaboratory.intrinsic+json": {
              "type": "string"
            }
          },
          "metadata": {},
          "execution_count": 71
        }
      ],
      "source": [
        "some_countries.pop(some_countries.index('Senegal'))"
      ]
    },
    {
      "cell_type": "markdown",
      "metadata": {
        "id": "KeZmNNSLkh66"
      },
      "source": [
        "Now, you may have noticed that our list is not very accurate. Some countries have wrong spelling, such as Nigeria being Nigera, Tunisia being Tunisa, Rwanda being Ruanda, and Zimbabwe being Zibabwe. This is a common occurence in data analysis, due to errors occuring in data collection. Luckily, we can fix this."
      ]
    },
    {
      "cell_type": "code",
      "source": [
        "some_countries"
      ],
      "metadata": {
        "colab": {
          "base_uri": "https://localhost:8080/"
        },
        "id": "xpvUQi3Op5bT",
        "outputId": "78b635ba-7529-42d2-c0d2-ba2ea6c103a7"
      },
      "execution_count": 72,
      "outputs": [
        {
          "output_type": "execute_result",
          "data": {
            "text/plain": [
              "['Eritrea',\n",
              " 'Nigera',\n",
              " 'Uganda',\n",
              " 'Ruanda',\n",
              " 'South Africa',\n",
              " 'Kenya',\n",
              " 'Tunisa',\n",
              " 'rwanda',\n",
              " 'Burundi',\n",
              " 'Ghana',\n",
              " 'Democratic Republic of Congo',\n",
              " 'Zibabwe',\n",
              " 'Zambia',\n",
              " 'Nigeria',\n",
              " 'Madagascar',\n",
              " 'South Sudan']"
            ]
          },
          "metadata": {},
          "execution_count": 72
        }
      ]
    },
    {
      "cell_type": "code",
      "execution_count": 73,
      "metadata": {
        "id": "Sy8Whol-kh67",
        "outputId": "7a8f155a-bb83-48b7-d83e-ff51096b7f2b",
        "colab": {
          "base_uri": "https://localhost:8080/"
        }
      },
      "outputs": [
        {
          "output_type": "execute_result",
          "data": {
            "text/plain": [
              "1"
            ]
          },
          "metadata": {},
          "execution_count": 73
        }
      ],
      "source": [
        "some_countries.index('Nigera')"
      ]
    },
    {
      "cell_type": "markdown",
      "metadata": {
        "id": "xmnR4UW5kh67"
      },
      "source": [
        "We can see that `Nigera` is index 1. Let's change index 1 to `Nigeria`."
      ]
    },
    {
      "cell_type": "code",
      "execution_count": 74,
      "metadata": {
        "id": "YCHS5X9okh67",
        "outputId": "dea20543-2257-41fe-ee92-a8906f195e04",
        "colab": {
          "base_uri": "https://localhost:8080/"
        }
      },
      "outputs": [
        {
          "output_type": "stream",
          "name": "stdout",
          "text": [
            "['Eritrea', 'Nigeria', 'Uganda', 'Ruanda', 'South Africa', 'Kenya', 'Tunisa', 'rwanda', 'Burundi', 'Ghana', 'Democratic Republic of Congo', 'Zibabwe', 'Zambia', 'Nigeria', 'Madagascar', 'South Sudan']\n"
          ]
        }
      ],
      "source": [
        "some_countries[some_countries.index('Nigera')]=\"Nigeria\"\n",
        "print(some_countries)"
      ]
    },
    {
      "cell_type": "markdown",
      "metadata": {
        "id": "efcpiQRVkh68"
      },
      "source": [
        "Great, fixed! Can you correct the other countries?"
      ]
    },
    {
      "cell_type": "code",
      "execution_count": 75,
      "metadata": {
        "id": "qFcVpuvRkh68",
        "colab": {
          "base_uri": "https://localhost:8080/"
        },
        "outputId": "07cd14e2-282e-4cc1-8159-cf999769165f"
      },
      "outputs": [
        {
          "output_type": "stream",
          "name": "stdout",
          "text": [
            "['Eritrea', 'Nigeria', 'Uganda', 'Rwanda', 'South Africa', 'Kenya', 'Tunisa', 'rwanda', 'Burundi', 'Ghana', 'Democratic Republic of Congo', 'Zibabwe', 'Zambia', 'Nigeria', 'Madagascar', 'South Sudan']\n"
          ]
        }
      ],
      "source": [
        "some_countries[some_countries.index('Ruanda')]=\"Rwanda\"\n",
        "print(some_countries)"
      ]
    },
    {
      "cell_type": "code",
      "execution_count": 76,
      "metadata": {
        "id": "SHTTrUfDkh68",
        "colab": {
          "base_uri": "https://localhost:8080/"
        },
        "outputId": "70af785f-90d6-4683-f5f6-65a26729c344"
      },
      "outputs": [
        {
          "output_type": "stream",
          "name": "stdout",
          "text": [
            "['Eritrea', 'Nigeria', 'Uganda', 'Rwanda', 'South Africa', 'Kenya', 'Tunisa', 'rwanda', 'Burundi', 'Ghana', 'Democratic Republic of Congo', \"'Zimbabwe\", 'Zambia', 'Nigeria', 'Madagascar', 'South Sudan']\n"
          ]
        }
      ],
      "source": [
        "some_countries[some_countries.index('Zibabwe')]=\"'Zimbabwe\"\n",
        "print(some_countries)"
      ]
    },
    {
      "cell_type": "code",
      "execution_count": null,
      "metadata": {
        "id": "5hMaqZT_kh69"
      },
      "outputs": [],
      "source": []
    },
    {
      "cell_type": "markdown",
      "metadata": {
        "id": "z4rienvOkh69"
      },
      "source": [
        "This may be daunting in part if you have to do this for every incorrect data. However, we'll build on this to learn more efficient and faster ways to correct our data as we continue."
      ]
    },
    {
      "cell_type": "markdown",
      "metadata": {
        "id": "QUy66PPzkh69"
      },
      "source": [
        "Another thing you may have noticed is that some countries appear twice in our list. These are Nigeria, Zambia, Burundi, and Togo. This is because lists allow duplicates. However, say for our data analysis, we only wanted unique elements. \n",
        "\n",
        "Let's see how we can remove specific elements from our list."
      ]
    },
    {
      "cell_type": "markdown",
      "metadata": {
        "id": "yhN3Jvm6kh6-"
      },
      "source": [
        "First, let's count the occurences of 'Nigeria' in the list using count()"
      ]
    },
    {
      "cell_type": "code",
      "execution_count": 77,
      "metadata": {
        "id": "a3lYAgJ_kh6-",
        "outputId": "f1425c46-e714-4311-ddd7-ad61ecbb054b",
        "colab": {
          "base_uri": "https://localhost:8080/"
        }
      },
      "outputs": [
        {
          "output_type": "execute_result",
          "data": {
            "text/plain": [
              "2"
            ]
          },
          "metadata": {},
          "execution_count": 77
        }
      ],
      "source": [
        "some_countries.count('Nigeria')"
      ]
    },
    {
      "cell_type": "markdown",
      "metadata": {
        "id": "_oh0K_Agkh6-"
      },
      "source": [
        "Let's see the index of `Nigeria`. Since the function index() returns the first occurence of the element, let's use it and pop that index."
      ]
    },
    {
      "cell_type": "code",
      "execution_count": 78,
      "metadata": {
        "id": "7PYGgcLwkh6_",
        "outputId": "524a0fbd-12fc-488e-c2d1-b82dd47d85f7",
        "colab": {
          "base_uri": "https://localhost:8080/",
          "height": 55
        }
      },
      "outputs": [
        {
          "output_type": "stream",
          "name": "stdout",
          "text": [
            "1\n"
          ]
        },
        {
          "output_type": "execute_result",
          "data": {
            "text/plain": [
              "'Nigeria'"
            ],
            "application/vnd.google.colaboratory.intrinsic+json": {
              "type": "string"
            }
          },
          "metadata": {},
          "execution_count": 78
        }
      ],
      "source": [
        "print(some_countries.index('Nigeria'))\n",
        "some_countries.pop(some_countries.index('Nigeria'))"
      ]
    },
    {
      "cell_type": "markdown",
      "metadata": {
        "id": "0z72iuGOkh6_"
      },
      "source": [
        "If this code looks like a lot, take some time to try and understand what's happening. We're popping the index where `Nigeria` appears first. This is index 2 that we have printed out. Essentially, writing `some_countries.pop(2)` is the same as `some_countries.pop(some_countries.index('Nigeria'))`, since they're both 2!"
      ]
    },
    {
      "cell_type": "markdown",
      "metadata": {
        "id": "DaC8t4IPkh7A"
      },
      "source": [
        "Do the same for Togo"
      ]
    },
    {
      "cell_type": "code",
      "execution_count": null,
      "metadata": {
        "id": "pOkv1OY2kh7B"
      },
      "outputs": [],
      "source": []
    },
    {
      "cell_type": "markdown",
      "metadata": {
        "id": "A2Om_Xuvkh7B"
      },
      "source": [
        "We can sort our list using the function sort()"
      ]
    },
    {
      "cell_type": "code",
      "execution_count": 79,
      "metadata": {
        "id": "PFbxZ3bskh7C",
        "outputId": "9b18b60e-a034-45d4-e264-f177f09bb9d8",
        "colab": {
          "base_uri": "https://localhost:8080/"
        }
      },
      "outputs": [
        {
          "output_type": "stream",
          "name": "stdout",
          "text": [
            "[\"'Zimbabwe\", 'Burundi', 'Democratic Republic of Congo', 'Eritrea', 'Ghana', 'Kenya', 'Madagascar', 'Nigeria', 'Rwanda', 'South Africa', 'South Sudan', 'Tunisa', 'Uganda', 'Zambia', 'rwanda']\n"
          ]
        }
      ],
      "source": [
        "some_countries.sort()\n",
        "print(some_countries)"
      ]
    },
    {
      "cell_type": "markdown",
      "metadata": {
        "id": "NxZn9ugdkh7C"
      },
      "source": [
        "#### Concluding"
      ]
    },
    {
      "cell_type": "markdown",
      "metadata": {
        "id": "DPxSREx_kh7D"
      },
      "source": [
        "We've said that lists can contain pretty much anything, let's see some examples."
      ]
    },
    {
      "cell_type": "code",
      "execution_count": 80,
      "metadata": {
        "id": "E8wF_WWKkh7E"
      },
      "outputs": [],
      "source": [
        "list0=[]"
      ]
    },
    {
      "cell_type": "markdown",
      "metadata": {
        "id": "TXH-8oAxkh7G"
      },
      "source": [
        "The above list is empty. We create such lists to store items within them later."
      ]
    },
    {
      "cell_type": "code",
      "execution_count": 81,
      "metadata": {
        "id": "bdKr0NdEkh7G"
      },
      "outputs": [],
      "source": [
        "list1=[4,\"donkeys\",9.97,True,None]"
      ]
    },
    {
      "cell_type": "markdown",
      "metadata": {
        "id": "jPOxbr48kh7G"
      },
      "source": [
        "So we aren't constrained to just having strings or integers in our lists. The list above is just an example. For data, we might want to have a consistent data type."
      ]
    },
    {
      "cell_type": "code",
      "execution_count": 82,
      "metadata": {
        "id": "9Yi3b7Xnkh7H",
        "outputId": "9b1259f4-4d11-4240-e823-e80a03c69326",
        "colab": {
          "base_uri": "https://localhost:8080/"
        }
      },
      "outputs": [
        {
          "output_type": "stream",
          "name": "stdout",
          "text": [
            "['camels', [4, 'donkeys', 9.97, True, None], [\"'Zimbabwe\", 'Burundi', 'Democratic Republic of Congo', 'Eritrea', 'Ghana', 'Kenya', 'Madagascar', 'Nigeria', 'Rwanda', 'South Africa', 'South Sudan', 'Tunisa', 'Uganda', 'Zambia', 'rwanda']]\n"
          ]
        }
      ],
      "source": [
        "# lists can even contain other lists within\n",
        "list2=[\"camels\",list1,some_countries]\n",
        "print(list2)"
      ]
    },
    {
      "cell_type": "markdown",
      "metadata": {
        "id": "8HyYfCJTkh7H"
      },
      "source": [
        "Another data type similar to lists is a `tupple`. The only difference we have here is that elements in a tupple are immutable. This means that, unlike a list, you can't change elements within a tupple. To create a tupple, we use round brackets `(` `)` instead of square brackets`[` `]`"
      ]
    },
    {
      "cell_type": "markdown",
      "metadata": {
        "id": "JaASUQQLkh7I"
      },
      "source": [
        "A good application of using tupples is storing data that is unlikely to change. This includes countries like we've been doing. We can also store personal details such as name, ID, date of birth, place of birth, in data collection, as these are also unlikely to change."
      ]
    },
    {
      "cell_type": "code",
      "execution_count": 83,
      "metadata": {
        "id": "axQMPSxlkh7I"
      },
      "outputs": [],
      "source": [
        "person1=(\"Eva Ngozi\",\"10/21/1989\",2897654,\"Abuja\")"
      ]
    },
    {
      "cell_type": "code",
      "execution_count": 84,
      "metadata": {
        "id": "MFb-EDzikh7I",
        "outputId": "276c502e-ce90-484d-8613-cf74aabfdbbe",
        "colab": {
          "base_uri": "https://localhost:8080/"
        }
      },
      "outputs": [
        {
          "output_type": "stream",
          "name": "stdout",
          "text": [
            "('Eva Ngozi', '10/21/1989', 2897654, 'Abuja')\n"
          ]
        }
      ],
      "source": [
        "print(person1)"
      ]
    },
    {
      "cell_type": "markdown",
      "metadata": {
        "id": "uM7lrbA5kh7J"
      },
      "source": [
        "### Exercise"
      ]
    },
    {
      "cell_type": "markdown",
      "metadata": {
        "id": "cBLKC_Z5kh7J"
      },
      "source": [
        "A method we haven't looked at is `sum`, but it's pretty straight forward. It returns the sum of elements in a list or tupple. Below we have the populations of some African countries. Can you find the `mean` population for these countries using `sum`."
      ]
    },
    {
      "cell_type": "code",
      "execution_count": 85,
      "metadata": {
        "id": "k5v7Io_pkh7K"
      },
      "outputs": [],
      "source": [
        "countries=['Ethiopia','Senegal','Nigera','Uganda','Rwanda','South Africa','Kenya','Togo','Tunisia','Burundi','Ghana','Democratic Republic of Congo','Zimbabwe','Zambia','Madagascar']"
      ]
    },
    {
      "cell_type": "code",
      "execution_count": 86,
      "metadata": {
        "id": "CnPrI5PWkh7K",
        "outputId": "6d7bb8cf-c44b-41d6-f8a5-c35ac8039544",
        "colab": {
          "base_uri": "https://localhost:8080/"
        }
      },
      "outputs": [
        {
          "output_type": "execute_result",
          "data": {
            "text/plain": [
              "15"
            ]
          },
          "metadata": {},
          "execution_count": 86
        }
      ],
      "source": [
        "len(countries)"
      ]
    },
    {
      "cell_type": "code",
      "execution_count": 87,
      "metadata": {
        "id": "Xewaf2pHkh7L"
      },
      "outputs": [],
      "source": [
        "population=[122520463,17914954,219711928,49575968,13803365,61291696,56910721,8793585,12146523,12830849,32793809,96781959,15436764,19750494, 29580236]"
      ]
    },
    {
      "cell_type": "code",
      "execution_count": 93,
      "metadata": {
        "id": "E6U-n1kRkh7L",
        "colab": {
          "base_uri": "https://localhost:8080/"
        },
        "outputId": "dd903bf4-62ff-4df7-a9a9-0f388ca284f4"
      },
      "outputs": [
        {
          "output_type": "execute_result",
          "data": {
            "text/plain": [
              "51322887.6"
            ]
          },
          "metadata": {},
          "execution_count": 93
        }
      ],
      "source": [
        "mean=sum(population)/len(countries)\n",
        "mean"
      ]
    },
    {
      "cell_type": "code",
      "source": [],
      "metadata": {
        "id": "IK9vG4eksgOH"
      },
      "execution_count": null,
      "outputs": []
    }
  ],
  "metadata": {
    "anaconda-cloud": {},
    "celltoolbar": "Éditer les Méta-Données",
    "hide_input": false,
    "kernelspec": {
      "display_name": "Python 3",
      "language": "python",
      "name": "python3"
    },
    "language_info": {
      "codemirror_mode": {
        "name": "ipython",
        "version": 3
      },
      "file_extension": ".py",
      "mimetype": "text/x-python",
      "name": "python",
      "nbconvert_exporter": "python",
      "pygments_lexer": "ipython3",
      "version": "3.10.2"
    },
    "latex_envs": {
      "LaTeX_envs_menu_present": true,
      "autoclose": false,
      "autocomplete": true,
      "bibliofile": "biblio.bib",
      "cite_by": "apalike",
      "current_citInitial": 1,
      "eqLabelWithNumbers": true,
      "eqNumInitial": 1,
      "hotkeys": {
        "equation": "Ctrl-E",
        "itemize": "Ctrl-I"
      },
      "labels_anchors": false,
      "latex_user_defs": false,
      "report_style_numbering": false,
      "user_envs_cfg": false
    },
    "n_questions": 1,
    "nbTranslate": {
      "displayLangs": [
        "*"
      ],
      "hotkey": "alt-t",
      "langInMainMenu": true,
      "sourceLang": "fr",
      "targetLang": "en",
      "useGoogleTranslate": true
    },
    "owner": "DataScientest",
    "vscode": {
      "interpreter": {
        "hash": "a0329d1e859fdaae7091121e22fb799195311d986a530316c2954a05cd641814"
      }
    },
    "colab": {
      "provenance": [],
      "include_colab_link": true
    }
  },
  "nbformat": 4,
  "nbformat_minor": 0
}