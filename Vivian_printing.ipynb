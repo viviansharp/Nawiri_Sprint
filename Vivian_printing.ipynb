{
  "cells": [
    {
      "cell_type": "markdown",
      "metadata": {
        "id": "view-in-github",
        "colab_type": "text"
      },
      "source": [
        "<a href=\"https://colab.research.google.com/github/viviansharp/Nawiri_Sprint/blob/main/Vivian_printing.ipynb\" target=\"_parent\"><img src=\"https://colab.research.google.com/assets/colab-badge.svg\" alt=\"Open In Colab\"/></a>"
      ]
    },
    {
      "cell_type": "markdown",
      "metadata": {
        "id": "vA6xG6lFBxqC"
      },
      "source": [
        "<center><img src=\"https://images.squarespace-cdn.com/content/v1/63ad4ba82d1ef311d74b008d/ab1297c0-3227-4ea4-94a3-10fcf4efd0d2/NAWIRIfoo.png?format=300w\" style=\"height:150px\"></center>\n",
        "<center><h2> Problem Solving and Programming </h2></center>\n",
        "<hr style=\"border-width:2px;border-color:#002f70\">\n",
        "<center><h2> Introduction to Python</h2></center>\n",
        "<center><h3> Printing<h3></center>\n",
        "<hr style=\"border-width:2px;border-color:#002f70\">"
      ]
    },
    {
      "cell_type": "markdown",
      "metadata": {
        "id": "gARgzYWrBxqG"
      },
      "source": [
        "Hi! This is the first notebook in a series to introduce/help you familiarize with python programming. We'll start with the very basics before going into libraries used to work with data.\n",
        "\n",
        "*Think of a notebook as a place that allows us do our coding and run programming commands. It also allows us to add text in order to explain what our code does, which is a very important feature. You can read more about [Jupyter notebooks](https://jupyter.org/) and [Google Colab](https://colab.research.google.com/) in the links. To use this notebook, there are two types of cells: markdown, where instructions and text are written, and code cells, where we'll write and run our code. You'll only be required to write in the code cells, but you can also add markdown cells and  make your own notes.*"
      ]
    },
    {
      "cell_type": "markdown",
      "metadata": {
        "id": "vz0gTDMDBxqH"
      },
      "source": [
        "## Printing"
      ]
    },
    {
      "cell_type": "markdown",
      "metadata": {
        "id": "OYBQfsauBxqI"
      },
      "source": [
        "An essential skill we need to build right at the start is *printing*. This means using code to type sth out. For example, I could use the following command to say hello."
      ]
    },
    {
      "cell_type": "code",
      "execution_count": null,
      "metadata": {
        "id": "gMdpTn_DBxqI",
        "outputId": "bcc95798-8280-4649-d994-8978d5d5ec3a"
      },
      "outputs": [
        {
          "name": "stdout",
          "output_type": "stream",
          "text": [
            "Hello World\n"
          ]
        }
      ],
      "source": [
        "print('Hello World')"
      ]
    },
    {
      "cell_type": "markdown",
      "metadata": {
        "id": "M8CHEm2vBxqK"
      },
      "source": [
        "*Click the play button to run the cell above. Alternatively, you can use Ctrl+Enter or Cmd+Return. The output from the code is displayed below the cell- **Hello World*** \n",
        "\n",
        "Running a cell means telling the computer to execute the code within. Everytime we write code, we have to 'run' it, which tells the computer to execute the commands from the code."
      ]
    },
    {
      "cell_type": "markdown",
      "metadata": {
        "id": "XGYbpcP0BxqK"
      },
      "source": [
        "Let's try printing again, but this time, let's introduce ourselves."
      ]
    },
    {
      "cell_type": "code",
      "execution_count": null,
      "metadata": {
        "id": "6W7nPQx0BxqL",
        "outputId": "7042b041-b4e1-40ac-9db7-6e1a1f51fda4"
      },
      "outputs": [
        {
          "name": "stdout",
          "output_type": "stream",
          "text": [
            "Hi, my name is Andrew!\n"
          ]
        }
      ],
      "source": [
        "print('Hi, my name is Andrew!')"
      ]
    },
    {
      "cell_type": "markdown",
      "metadata": {
        "id": "5AP6AMOLBxqL"
      },
      "source": [
        "Use the cell below to print out your name."
      ]
    },
    {
      "cell_type": "code",
      "execution_count": null,
      "metadata": {
        "id": "la9kVXh7BxqL"
      },
      "outputs": [],
      "source": []
    },
    {
      "cell_type": "markdown",
      "metadata": {
        "id": "-gYjeE6TBxqM"
      },
      "source": [
        "Great! This may seem fairly simple, but it's an essential skill that you'll use a lot as you program, to understand the code and data you're dealing with, and even more frequently, to see where your code is breaking, or where errors are occuring in your code.\n",
        "\n",
        "We can also print multiple lines by calling the print function multiple times."
      ]
    },
    {
      "cell_type": "code",
      "execution_count": null,
      "metadata": {
        "id": "chqRTW3hBxqM",
        "outputId": "1d9e991d-21f2-4c56-a072-50061ff7ca05"
      },
      "outputs": [
        {
          "name": "stdout",
          "output_type": "stream",
          "text": [
            "Hello everyone!\n",
            "My name is ...\n",
            "I'm excited to be learning Python!\n"
          ]
        }
      ],
      "source": [
        "print(\"Hello everyone!\")\n",
        "print(\"My name is ...\")\n",
        "print(\"I'm excited to be learning Python!\")"
      ]
    },
    {
      "cell_type": "code",
      "execution_count": null,
      "metadata": {
        "id": "hKYzh9p-BxqN"
      },
      "outputs": [],
      "source": [
        "# Try printing a few lines in the space below\n",
        "\n"
      ]
    },
    {
      "cell_type": "markdown",
      "metadata": {
        "id": "haVf7qEEBxqN"
      },
      "source": [
        "> You may have noticed some text appearing in code cells, to give instruction, or inform about sth. For example, the code cell above has text `# Try printing a few lines in the space below`. This kind of text is known as a `comment`. It is used primarily to inform on what the code should do, but the python interpreter does not run it. We'll use this functionality a lot in our code, and it is generally good practice to comment on your code, inorder for you to understand it later, or for someone else who might be working on the project. To comment a line of text, just put a `#` sign before the text, and the python interpreter will ignore it."
      ]
    },
    {
      "cell_type": "markdown",
      "metadata": {
        "id": "G00R6-6rBxqN"
      },
      "source": [
        "### Note\n",
        "Before we go into practising what we've learnt, there are some key points and errors to look out for with python and programming. Some cells are left for you to explore more with the errors."
      ]
    },
    {
      "cell_type": "markdown",
      "metadata": {
        "id": "FQq8H9rYBxqN"
      },
      "source": [
        "1. Python is **case-sensitive**. This means that we have to be extra careful not to use caps-lock where python doesn't allow it. For example, let's try using PRINT/Print/prInt instead of print(all small letters). We'll see that we run into errors."
      ]
    },
    {
      "cell_type": "code",
      "execution_count": null,
      "metadata": {
        "id": "3Jk4rFjlBxqO",
        "outputId": "8288521d-af16-4b55-c71f-307bbbb41084"
      },
      "outputs": [
        {
          "ename": "NameError",
          "evalue": "name 'PRINT' is not defined",
          "output_type": "error",
          "traceback": [
            "\u001b[1;31m---------------------------------------------------------------------------\u001b[0m",
            "\u001b[1;31mNameError\u001b[0m                                 Traceback (most recent call last)",
            "\u001b[1;32mUntitled-1.ipynb Cell 14\u001b[0m in \u001b[0;36m<cell line: 1>\u001b[1;34m()\u001b[0m\n\u001b[1;32m----> <a href='vscode-notebook-cell:Untitled-1.ipynb?jupyter-notebook#X21sdW50aXRsZWQ%3D?line=0'>1</a>\u001b[0m PRINT(\u001b[39m\"\u001b[39m\u001b[39mHello World\u001b[39m\u001b[39m\"\u001b[39m)\n",
            "\u001b[1;31mNameError\u001b[0m: name 'PRINT' is not defined"
          ]
        }
      ],
      "source": [
        "# You can use this cell to try different versions of 'PRint' and see the errors python shows\n",
        "PRINT(\"Hello World\")"
      ]
    },
    {
      "cell_type": "markdown",
      "metadata": {
        "id": "ETP1meveBxqO"
      },
      "source": [
        "The error is shown because python does not recognise PRINT in caps, only small case is allowed."
      ]
    },
    {
      "cell_type": "code",
      "execution_count": null,
      "metadata": {
        "id": "LjbMKil0BxqO",
        "outputId": "1b1356cf-28d1-455c-f058-659218350e55"
      },
      "outputs": [
        {
          "name": "stdout",
          "output_type": "stream",
          "text": [
            "Hello World\n"
          ]
        }
      ],
      "source": [
        "# Correct the above error by writing 'print' correctly.\n",
        "print(\"Hello World\")"
      ]
    },
    {
      "cell_type": "markdown",
      "metadata": {
        "id": "45_e-CLuBxqO"
      },
      "source": [
        "2. When printing, we have to encompass the words we want printed in quotation marks. This won't apply in all cases, but we'll see in future notebooks when to exclude quotation marks. Try printing without including the quotation marks and see what happens."
      ]
    },
    {
      "cell_type": "code",
      "execution_count": null,
      "metadata": {
        "id": "aWScRbshBxqP",
        "outputId": "958cb13f-4cdf-4caa-f885-eca0a3a0987b"
      },
      "outputs": [
        {
          "ename": "SyntaxError",
          "evalue": "invalid syntax. Perhaps you forgot a comma? (3320679046.py, line 1)",
          "output_type": "error",
          "traceback": [
            "\u001b[1;36m  Input \u001b[1;32mIn [7]\u001b[1;36m\u001b[0m\n\u001b[1;33m    print(Hey everyone)\u001b[0m\n\u001b[1;37m          ^\u001b[0m\n\u001b[1;31mSyntaxError\u001b[0m\u001b[1;31m:\u001b[0m invalid syntax. Perhaps you forgot a comma?\n"
          ]
        }
      ],
      "source": [
        "print(Hey everyone)"
      ]
    },
    {
      "cell_type": "markdown",
      "metadata": {
        "id": "XdXzx_RUBxqP"
      },
      "source": [
        "We also need to be consistent. For example, don't use single opening quotation marks('), then close with double quotation marks(\"). Like in writing, this will be confusing, and python won't allow it. Both are allowed, but in a single printing scenerio, choose one and stick to it."
      ]
    },
    {
      "cell_type": "code",
      "execution_count": null,
      "metadata": {
        "id": "yKPjFdrCBxqP",
        "outputId": "0953db64-d7f7-40f3-e107-bc59028acf42"
      },
      "outputs": [
        {
          "ename": "SyntaxError",
          "evalue": "unterminated string literal (detected at line 2) (87165201.py, line 2)",
          "output_type": "error",
          "traceback": [
            "\u001b[1;36m  Input \u001b[1;32mIn [8]\u001b[1;36m\u001b[0m\n\u001b[1;33m    print(\"Hello there')\u001b[0m\n\u001b[1;37m          ^\u001b[0m\n\u001b[1;31mSyntaxError\u001b[0m\u001b[1;31m:\u001b[0m unterminated string literal (detected at line 2)\n"
          ]
        }
      ],
      "source": [
        "# Mix double and single quotation marks to see what errors are shown\n",
        "print(\"Hello there')"
      ]
    },
    {
      "cell_type": "code",
      "execution_count": null,
      "metadata": {
        "id": "dGAkCFdUBxqP"
      },
      "outputs": [],
      "source": [
        "# Use consistent double/single quotation marks to correct the error above\n"
      ]
    },
    {
      "cell_type": "markdown",
      "metadata": {
        "id": "3J22zqIWBxqQ"
      },
      "source": [
        "## Exercise"
      ]
    },
    {
      "cell_type": "markdown",
      "metadata": {
        "id": "6gi9-M2LBxqQ"
      },
      "source": [
        "Use the following cells to print out some interesting facts about yourself. You can print your name, locality, interests, your favorite color, and so on, but print at least 3 lines using the cell below."
      ]
    },
    {
      "cell_type": "code",
      "execution_count": null,
      "metadata": {
        "id": "XZASQEIvBxqQ"
      },
      "outputs": [],
      "source": []
    },
    {
      "cell_type": "code",
      "execution_count": null,
      "metadata": {
        "outputId": "97550b68-0afa-4f3f-d0ef-8b11c6d8312b",
        "id": "l_KbOjR9K0qe",
        "colab": {
          "base_uri": "https://localhost:8080/"
        }
      },
      "outputs": [
        {
          "output_type": "stream",
          "name": "stdout",
          "text": [
            "Hello everyone!\n",
            "My name is vivian\n",
            "I'm excited to be learning Python!\n"
          ]
        }
      ],
      "source": [
        "print(\"Hello everyone!\")\n",
        "print(\"My name is vivian\")\n",
        "print(\"I'm excited to be learning Python!\")"
      ]
    }
  ],
  "metadata": {
    "kernelspec": {
      "display_name": "Python 3",
      "language": "python",
      "name": "python3"
    },
    "language_info": {
      "codemirror_mode": {
        "name": "ipython",
        "version": 3
      },
      "file_extension": ".py",
      "mimetype": "text/x-python",
      "name": "python",
      "nbconvert_exporter": "python",
      "pygments_lexer": "ipython3",
      "version": "3.10.2"
    },
    "orig_nbformat": 4,
    "vscode": {
      "interpreter": {
        "hash": "a0329d1e859fdaae7091121e22fb799195311d986a530316c2954a05cd641814"
      }
    },
    "colab": {
      "provenance": [],
      "include_colab_link": true
    }
  },
  "nbformat": 4,
  "nbformat_minor": 0
}