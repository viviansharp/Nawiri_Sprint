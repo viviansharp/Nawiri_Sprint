{
  "cells": [
    {
      "cell_type": "markdown",
      "metadata": {
        "id": "view-in-github",
        "colab_type": "text"
      },
      "source": [
        "<a href=\"https://colab.research.google.com/github/viviansharp/Nawiri_Sprint/blob/main/For_loops.ipynb\" target=\"_parent\"><img src=\"https://colab.research.google.com/assets/colab-badge.svg\" alt=\"Open In Colab\"/></a>"
      ]
    },
    {
      "cell_type": "markdown",
      "metadata": {
        "id": "qRYNzkwUVSP6"
      },
      "source": [
        "<center><img src=\"https://images.squarespace-cdn.com/content/v1/63ad4ba82d1ef311d74b008d/ab1297c0-3227-4ea4-94a3-10fcf4efd0d2/NAWIRIfoo.png?format=300w\" style=\"height:150px\"></center>\n",
        "<center><h2> Problem Solving and Programming </h2></center>\n",
        "<hr style=\"border-width:2px;border-color:#002f70\">\n",
        "<center><h2> Working with Data</h2></center>\n",
        "<center><h3> For Loops<h3></center>\n",
        "<hr style=\"border-width:2px;border-color:#002f70\">"
      ]
    },
    {
      "cell_type": "code",
      "execution_count": 1,
      "metadata": {
        "id": "W9wluueEVSP_"
      },
      "outputs": [],
      "source": [
        "countries=['Ethiopia','Senegal','Nigeria','Uganda','Rwanda','South Africa','Kenya','Togo','Tunisia','Burundi','Ghana','Democratic Republic of Congo','Zimbabwe','Zambia','Madagascar']"
      ]
    },
    {
      "cell_type": "markdown",
      "metadata": {
        "id": "u_D-2MjyVSQA"
      },
      "source": [
        "If you wanted to print every country in the list on a separate line, without an effiecient way, it could be hectic and repetitive"
      ]
    },
    {
      "cell_type": "code",
      "execution_count": 2,
      "metadata": {
        "id": "RAfudAa9VSQB",
        "outputId": "97f6af7d-8e3e-481e-9212-04b5bf9263b2",
        "colab": {
          "base_uri": "https://localhost:8080/"
        }
      },
      "outputs": [
        {
          "output_type": "stream",
          "name": "stdout",
          "text": [
            "Ethiopia\n",
            "Senegal\n",
            "Nigeria\n",
            "Uganda\n",
            "Rwanda\n",
            "South Africa\n",
            "Kenya\n",
            "Togo\n"
          ]
        }
      ],
      "source": [
        "print(countries[0])\n",
        "print(countries[1])\n",
        "print(countries[2])\n",
        "print(countries[3])\n",
        "print(countries[4])\n",
        "print(countries[5])\n",
        "print(countries[6])\n",
        "print(countries[7])\n",
        "#..."
      ]
    },
    {
      "cell_type": "markdown",
      "metadata": {
        "id": "qbErzWUNVSQC"
      },
      "source": [
        "This is where loops come in. In this notebook, we'll be looking at `for loops` which will help iterate through lists."
      ]
    },
    {
      "cell_type": "code",
      "execution_count": 4,
      "metadata": {
        "id": "7eID3keZVSQC",
        "outputId": "362e5852-93a8-40d5-e196-e2963068f455",
        "colab": {
          "base_uri": "https://localhost:8080/"
        }
      },
      "outputs": [
        {
          "output_type": "stream",
          "name": "stdout",
          "text": [
            "Ethiopia\n",
            "Senegal\n",
            "Nigeria\n",
            "Uganda\n",
            "Rwanda\n",
            "South Africa\n",
            "Kenya\n",
            "Togo\n",
            "Tunisia\n",
            "Burundi\n",
            "Ghana\n",
            "Democratic Republic of Congo\n",
            "Zimbabwe\n",
            "Zambia\n",
            "Madagascar\n"
          ]
        }
      ],
      "source": [
        "for x in countries:\n",
        "    print(x)"
      ]
    },
    {
      "cell_type": "markdown",
      "metadata": {
        "id": "DmtfOdZXVSQD"
      },
      "source": [
        "In just 2 lines of code! The above code may seem confusing, but what it's saying is that for every element in the list `countries`, print that element. \n",
        "\n",
        "In this case, we use `for country in countries`, but we can use anything in place of `country`, even `for x in countries` would work fine. So long as the code below follows the same order, `print(x)`.\n",
        "\n",
        "Note that we have to indent after the for loop. Basically what is happening is that for the each time in the for loop, the indented statement runs.\n",
        "\n",
        "Also, note the colon that precedes every indent"
      ]
    },
    {
      "cell_type": "code",
      "execution_count": null,
      "metadata": {
        "id": "xOUjzo8dVSQD",
        "outputId": "083c26c1-3904-4247-bb2b-a861a0f2033e"
      },
      "outputs": [
        {
          "name": "stdout",
          "output_type": "stream",
          "text": [
            "Ethiopia\n",
            "Senegal\n",
            "Nigeria\n",
            "Uganda\n",
            "Rwanda\n",
            "South Africa\n",
            "Kenya\n",
            "Togo\n",
            "Tunisia\n",
            "Burundi\n",
            "Ghana\n",
            "Democratic Republic of Congo\n",
            "Zimbabwe\n",
            "Zambia\n",
            "Madagascar\n"
          ]
        }
      ],
      "source": [
        "# This is the same\n",
        "for x in countries:\n",
        "    print(x)"
      ]
    },
    {
      "cell_type": "code",
      "execution_count": 5,
      "metadata": {
        "id": "TGfoMoHKVSQE"
      },
      "outputs": [],
      "source": [
        "population=[122520463,17914954,219711928,49575968,13803365,61291696,56910721,8793585,12146523,12830849,32793809,96781959,15436764,19750494, 29580236]"
      ]
    },
    {
      "cell_type": "markdown",
      "metadata": {
        "id": "x1XtqMT1VSQE"
      },
      "source": [
        "Try printing out every population using a `for loop` from the list above."
      ]
    },
    {
      "cell_type": "code",
      "execution_count": 6,
      "metadata": {
        "id": "CCUNsAq-VSQE",
        "colab": {
          "base_uri": "https://localhost:8080/"
        },
        "outputId": "f5a28634-95b2-4bd3-a315-70fdce0df5e0"
      },
      "outputs": [
        {
          "output_type": "stream",
          "name": "stdout",
          "text": [
            "122520463\n",
            "17914954\n",
            "219711928\n",
            "49575968\n",
            "13803365\n",
            "61291696\n",
            "56910721\n",
            "8793585\n",
            "12146523\n",
            "12830849\n",
            "32793809\n",
            "96781959\n",
            "15436764\n",
            "19750494\n",
            "29580236\n"
          ]
        }
      ],
      "source": [
        "for y in population:\n",
        "  print(y)"
      ]
    },
    {
      "cell_type": "markdown",
      "metadata": {
        "id": "X5b49tcGVSQF"
      },
      "source": [
        "The numbers on their own are not informative. However, the populations are actually arranged in such a way that they align with each country in the list of countries. Let's print this out using only one for loop."
      ]
    },
    {
      "cell_type": "markdown",
      "metadata": {
        "id": "jQkaiEqDVSQF"
      },
      "source": [
        "Try and figure this out before looking at the answer in the cell below."
      ]
    },
    {
      "cell_type": "code",
      "execution_count": null,
      "metadata": {
        "id": "I8RqvyNyVSQG"
      },
      "outputs": [],
      "source": [
        "# Hint: It's only two lines of code, but will print country on one side, and\n",
        "# population on the other\n",
        "\n"
      ]
    },
    {
      "cell_type": "code",
      "execution_count": 8,
      "metadata": {
        "id": "lnOMMu16VSQG",
        "outputId": "5fb2e528-510a-46a4-fb1d-357e154990ba",
        "colab": {
          "base_uri": "https://localhost:8080/"
        }
      },
      "outputs": [
        {
          "output_type": "stream",
          "name": "stdout",
          "text": [
            "Ethiopia 122520463\n",
            "Senegal 17914954\n",
            "Nigeria 219711928\n",
            "Uganda 49575968\n",
            "Rwanda 13803365\n",
            "South Africa 61291696\n",
            "Kenya 56910721\n",
            "Togo 8793585\n",
            "Tunisia 12146523\n",
            "Burundi 12830849\n",
            "Ghana 32793809\n",
            "Democratic Republic of Congo 96781959\n",
            "Zimbabwe 15436764\n",
            "Zambia 19750494\n",
            "Madagascar 29580236\n"
          ]
        }
      ],
      "source": [
        "for pop in population:\n",
        "    print(countries[population.index(pop)],pop)"
      ]
    },
    {
      "cell_type": "markdown",
      "metadata": {
        "id": "PZHBHdwgVSQG"
      },
      "source": [
        "One thing to note is how unreadable these numbers are. It's hard to distinguish the millions from tens of millions. We'll fix this issue in a future notebook in a very efficient way. However, we've done a pretty good job so far!"
      ]
    },
    {
      "cell_type": "markdown",
      "metadata": {
        "id": "_MPPdYvXVSQG"
      },
      "source": [
        "Let's look at the `range` function in a for loop."
      ]
    },
    {
      "cell_type": "markdown",
      "metadata": {
        "id": "w3My1wsAVSQH"
      },
      "source": [
        "Imagine a scenerio where you wanted every number from 1-100, stored in a list. We could use `range` for this."
      ]
    },
    {
      "cell_type": "code",
      "execution_count": 9,
      "metadata": {
        "id": "W0sgDdzGVSQH",
        "outputId": "4724728c-a4a1-470b-e4ff-34ffe541b77e",
        "colab": {
          "base_uri": "https://localhost:8080/"
        }
      },
      "outputs": [
        {
          "output_type": "stream",
          "name": "stdout",
          "text": [
            "[1, 2, 3, 4, 5, 6, 7, 8, 9, 10, 11, 12, 13, 14, 15, 16, 17, 18, 19, 20, 21, 22, 23, 24, 25, 26, 27, 28, 29, 30, 31, 32, 33, 34, 35, 36, 37, 38, 39, 40, 41, 42, 43, 44, 45, 46, 47, 48, 49, 50, 51, 52, 53, 54, 55, 56, 57, 58, 59, 60, 61, 62, 63, 64, 65, 66, 67, 68, 69, 70, 71, 72, 73, 74, 75, 76, 77, 78, 79, 80, 81, 82, 83, 84, 85, 86, 87, 88, 89, 90, 91, 92, 93, 94, 95, 96, 97, 98, 99, 100]\n"
          ]
        }
      ],
      "source": [
        "l=[]\n",
        "for i in range(1,101,1):\n",
        "    l.append(i)\n",
        "print(l)"
      ]
    },
    {
      "cell_type": "markdown",
      "metadata": {
        "id": "tU9uIKQ_VSQI"
      },
      "source": [
        "Let's try to understand what just happened. The `range` function works in the same way as `slicing`. The first number is the `start` point, the second is the `stop`, and the third is the `step`. However, `start` and `step` are optional arguments. If we only provide the `stop`, the default `step` is 1, and start is 0. \n",
        "\n",
        "In this case, range returns all numbers from 1-100, which we then append to our intiially list `l`. "
      ]
    },
    {
      "cell_type": "markdown",
      "metadata": {
        "id": "ErF5d1cBVSQI"
      },
      "source": [
        "Let's see more examples"
      ]
    },
    {
      "cell_type": "code",
      "execution_count": 10,
      "metadata": {
        "id": "UphLgu_zVSQI",
        "outputId": "afda34f6-116e-4f6d-baa7-7cd89ee0e36e",
        "colab": {
          "base_uri": "https://localhost:8080/"
        }
      },
      "outputs": [
        {
          "output_type": "stream",
          "name": "stdout",
          "text": [
            "[0, 1, 2, 3, 4, 5, 6, 7, 8, 9, 10, 11, 12, 13, 14, 15, 16, 17, 18, 19, 20, 21, 22, 23, 24, 25, 26, 27, 28, 29, 30, 31, 32, 33, 34, 35, 36, 37, 38, 39, 40, 41, 42, 43, 44, 45, 46, 47, 48, 49, 50, 51, 52, 53, 54, 55, 56, 57, 58, 59, 60, 61, 62, 63, 64, 65, 66, 67, 68, 69, 70, 71, 72, 73, 74, 75, 76, 77, 78, 79, 80, 81, 82, 83, 84, 85, 86, 87, 88, 89, 90, 91, 92, 93, 94, 95, 96, 97, 98, 99]\n"
          ]
        }
      ],
      "source": [
        "l=[]\n",
        "for i in range(100):\n",
        "    l.append(i)\n",
        "print(l)"
      ]
    },
    {
      "cell_type": "code",
      "execution_count": 11,
      "metadata": {
        "id": "SOOwDHh2VSQJ",
        "outputId": "8226b52e-6a7f-4fd3-ac1a-50d7803aaf81",
        "colab": {
          "base_uri": "https://localhost:8080/"
        }
      },
      "outputs": [
        {
          "output_type": "stream",
          "name": "stdout",
          "text": [
            "Ethiopia\n",
            "Senegal\n",
            "Nigeria\n",
            "Uganda\n",
            "Rwanda\n",
            "South Africa\n",
            "Kenya\n",
            "Togo\n",
            "Tunisia\n",
            "Burundi\n",
            "Ghana\n",
            "Democratic Republic of Congo\n",
            "Zimbabwe\n",
            "Zambia\n",
            "Madagascar\n"
          ]
        }
      ],
      "source": [
        "for i in range(len(countries)):\n",
        "    print(countries[i])"
      ]
    },
    {
      "cell_type": "markdown",
      "metadata": {
        "id": "qua7oP-OVSQJ"
      },
      "source": [
        "`range` is very helpful when you're dealing with multiple lists"
      ]
    },
    {
      "cell_type": "markdown",
      "metadata": {
        "id": "mhHDQZuQVSQJ"
      },
      "source": [
        "Using range, print out the countries beside their respective populations"
      ]
    },
    {
      "cell_type": "code",
      "execution_count": null,
      "metadata": {
        "id": "3RMjj_XHVSQK"
      },
      "outputs": [],
      "source": []
    },
    {
      "cell_type": "code",
      "execution_count": 12,
      "metadata": {
        "id": "4UrDn8lsVSQK",
        "colab": {
          "base_uri": "https://localhost:8080/"
        },
        "outputId": "837e1aed-eeb9-4f2f-abc7-95887d57d7f9"
      },
      "outputs": [
        {
          "output_type": "stream",
          "name": "stdout",
          "text": [
            "Ethiopia 122520463\n",
            "Senegal 17914954\n",
            "Nigeria 219711928\n",
            "Uganda 49575968\n",
            "Rwanda 13803365\n",
            "South Africa 61291696\n",
            "Kenya 56910721\n",
            "Togo 8793585\n",
            "Tunisia 12146523\n",
            "Burundi 12830849\n",
            "Ghana 32793809\n",
            "Democratic Republic of Congo 96781959\n",
            "Zimbabwe 15436764\n",
            "Zambia 19750494\n",
            "Madagascar 29580236\n"
          ]
        }
      ],
      "source": [
        "for i in range(len(countries)):\n",
        "    print(countries[i],population[i])"
      ]
    },
    {
      "cell_type": "code",
      "source": [],
      "metadata": {
        "id": "QMaG8zHrBk7D"
      },
      "execution_count": null,
      "outputs": []
    },
    {
      "cell_type": "markdown",
      "metadata": {
        "id": "Et6ghdt8VSQK"
      },
      "source": [
        "### Exercise"
      ]
    },
    {
      "cell_type": "markdown",
      "metadata": {
        "id": "cJpoGsFVVSQK"
      },
      "source": [
        "Using only one `for loop`, print the population of each country in millions. You might want to use the [round() function](https://stackoverflow.com/questions/46481351/how-to-round-numbers-to-the-nearest-1000). The output should look like this:\n",
        "```\n",
        "Ethiopia:  123 million people\n",
        "Senegal:  18 million people\n",
        "...\n",
        "Zambia:  20 million people\n",
        "Madagascar:  30 million people\n",
        "```"
      ]
    },
    {
      "cell_type": "code",
      "source": [
        "\n",
        "\n",
        "for i in range(len(countries)):\n",
        "    roundup = [round(num,-6) for num in population]\n",
        "    print(countries[i],roundup[i]) \n"
      ],
      "metadata": {
        "colab": {
          "base_uri": "https://localhost:8080/"
        },
        "id": "xbW3VIX1Boi9",
        "outputId": "612149db-5613-4731-befd-174f3c5073bd"
      },
      "execution_count": 24,
      "outputs": [
        {
          "output_type": "stream",
          "name": "stdout",
          "text": [
            "Ethiopia 123000000\n",
            "Senegal 18000000\n",
            "Nigeria 220000000\n",
            "Uganda 50000000\n",
            "Rwanda 14000000\n",
            "South Africa 61000000\n",
            "Kenya 57000000\n",
            "Togo 9000000\n",
            "Tunisia 12000000\n",
            "Burundi 13000000\n",
            "Ghana 33000000\n",
            "Democratic Republic of Congo 97000000\n",
            "Zimbabwe 15000000\n",
            "Zambia 20000000\n",
            "Madagascar 30000000\n"
          ]
        }
      ]
    },
    {
      "cell_type": "code",
      "source": [],
      "metadata": {
        "id": "cV4rgffCCIGG"
      },
      "execution_count": 25,
      "outputs": []
    }
  ],
  "metadata": {
    "anaconda-cloud": {},
    "celltoolbar": "Éditer les Méta-Données",
    "hide_input": false,
    "kernelspec": {
      "display_name": "Python 3",
      "language": "python",
      "name": "python3"
    },
    "language_info": {
      "codemirror_mode": {
        "name": "ipython",
        "version": 3
      },
      "file_extension": ".py",
      "mimetype": "text/x-python",
      "name": "python",
      "nbconvert_exporter": "python",
      "pygments_lexer": "ipython3",
      "version": "3.10.2"
    },
    "latex_envs": {
      "LaTeX_envs_menu_present": true,
      "autoclose": false,
      "autocomplete": true,
      "bibliofile": "biblio.bib",
      "cite_by": "apalike",
      "current_citInitial": 1,
      "eqLabelWithNumbers": true,
      "eqNumInitial": 1,
      "hotkeys": {
        "equation": "Ctrl-E",
        "itemize": "Ctrl-I"
      },
      "labels_anchors": false,
      "latex_user_defs": false,
      "report_style_numbering": false,
      "user_envs_cfg": false
    },
    "n_questions": 1,
    "nbTranslate": {
      "displayLangs": [
        "*"
      ],
      "hotkey": "alt-t",
      "langInMainMenu": true,
      "sourceLang": "fr",
      "targetLang": "en",
      "useGoogleTranslate": true
    },
    "owner": "DataScientest",
    "vscode": {
      "interpreter": {
        "hash": "a0329d1e859fdaae7091121e22fb799195311d986a530316c2954a05cd641814"
      }
    },
    "colab": {
      "provenance": [],
      "include_colab_link": true
    }
  },
  "nbformat": 4,
  "nbformat_minor": 0
}