{
  "cells": [
    {
      "cell_type": "markdown",
      "metadata": {
        "id": "view-in-github",
        "colab_type": "text"
      },
      "source": [
        "<a href=\"https://colab.research.google.com/github/viviansharp/Nawiri_Sprint/blob/main/List_comprehensions.ipynb\" target=\"_parent\"><img src=\"https://colab.research.google.com/assets/colab-badge.svg\" alt=\"Open In Colab\"/></a>"
      ]
    },
    {
      "cell_type": "markdown",
      "metadata": {
        "id": "atugyaMOgaQb"
      },
      "source": [
        "<center><img src=\"https://images.squarespace-cdn.com/content/v1/63ad4ba82d1ef311d74b008d/ab1297c0-3227-4ea4-94a3-10fcf4efd0d2/NAWIRIfoo.png?format=300w\" style=\"height:150px\"></center>\n",
        "<center><h2> Problem Solving and Programming </h2></center>\n",
        "<hr style=\"border-width:2px;border-color:#002f70\">\n",
        "<center><h2> Working with Data</h2></center>\n",
        "<center><h3> List comprehensions<h3></center>\n",
        "<hr style=\"border-width:2px;border-color:#002f70\">"
      ]
    },
    {
      "cell_type": "markdown",
      "metadata": {
        "id": "Cv_0A2PIgaQ6"
      },
      "source": [
        "We've reached a very solid point in our programming, and congratulations for this! For this notebook, we'll be going over a very cool concept in python called `List comprehensions`."
      ]
    },
    {
      "cell_type": "markdown",
      "metadata": {
        "id": "ycdLOKMbgaRB"
      },
      "source": [
        "Consider a situation where we want to get all numbers from 0 to 100 in a list using a for loop"
      ]
    },
    {
      "cell_type": "code",
      "execution_count": null,
      "metadata": {
        "id": "sM0L_XjagaRE",
        "outputId": "3e226ca8-8feb-45c1-dcf3-a905a52e0568"
      },
      "outputs": [
        {
          "name": "stdout",
          "output_type": "stream",
          "text": [
            "[0, 1, 2, 3, 4, 5, 6, 7, 8, 9, 10, 11, 12, 13, 14, 15, 16, 17, 18, 19, 20, 21, 22, 23, 24, 25, 26, 27, 28, 29, 30, 31, 32, 33, 34, 35, 36, 37, 38, 39, 40, 41, 42, 43, 44, 45, 46, 47, 48, 49, 50, 51, 52, 53, 54, 55, 56, 57, 58, 59, 60, 61, 62, 63, 64, 65, 66, 67, 68, 69, 70, 71, 72, 73, 74, 75, 76, 77, 78, 79, 80, 81, 82, 83, 84, 85, 86, 87, 88, 89, 90, 91, 92, 93, 94, 95, 96, 97, 98, 99, 100]\n"
          ]
        }
      ],
      "source": [
        "l=[]\n",
        "for i in range(0,101):\n",
        "    l.append(i)\n",
        "print(l)"
      ]
    },
    {
      "cell_type": "markdown",
      "metadata": {
        "id": "QAVwtp_UgaRK"
      },
      "source": [
        "Now, this can be broken down to 3 steps. Create an empty list. Get a range. For every number in that range, add that number to the list. If you've seen the pattern we've had with doing things, we always want to make things as short and efficient as possible. What if we could do all these 3 steps, just in one line of code. This is what *list comprehensions* allow us to do. Let's see this in an example."
      ]
    },
    {
      "cell_type": "code",
      "execution_count": null,
      "metadata": {
        "id": "id5MQo_igaRL",
        "outputId": "e8dfb43f-2dd6-45f8-fdab-0f01d78bac4d"
      },
      "outputs": [
        {
          "name": "stdout",
          "output_type": "stream",
          "text": [
            "[0, 1, 2, 3, 4, 5, 6, 7, 8, 9, 10, 11, 12, 13, 14, 15, 16, 17, 18, 19, 20, 21, 22, 23, 24, 25, 26, 27, 28, 29, 30, 31, 32, 33, 34, 35, 36, 37, 38, 39, 40, 41, 42, 43, 44, 45, 46, 47, 48, 49, 50, 51, 52, 53, 54, 55, 56, 57, 58, 59, 60, 61, 62, 63, 64, 65, 66, 67, 68, 69, 70, 71, 72, 73, 74, 75, 76, 77, 78, 79, 80, 81, 82, 83, 84, 85, 86, 87, 88, 89, 90, 91, 92, 93, 94, 95, 96, 97, 98, 99, 100]\n"
          ]
        }
      ],
      "source": [
        "l=[i for i in range(0,101)]\n",
        "print(l)"
      ]
    },
    {
      "cell_type": "markdown",
      "metadata": {
        "id": "q6cbaIhwgaRM"
      },
      "source": [
        "Isn't this so cool! Same output, but very straight to the point! Let's break it down a bit."
      ]
    },
    {
      "cell_type": "markdown",
      "metadata": {
        "id": "8IkIkDUtgaRS"
      },
      "source": [
        "I like to think of list comprehesions as the same three steps, only in one line. \n",
        "1. Consider Step 1: **Create an empty list**. In the first less concise case, we do this by writing `l=[]`. This is exactly the same for the list comprehension. We write `l=[]`. The difference comes in the next steps. \n",
        "2. Step 2: **Define a for loop.** In the first less concise way, we write a *for loop* **below** our empty list. However in list comprehensions, we write it **inside** the empty list.:\n",
        "```\n",
        "l=[]\n",
        "for i in range(0,101):\n",
        "```\n",
        "vs \n",
        "```\n",
        "l=[for i in range(0,101)]\n",
        "```\n",
        "Note we don't have the colon in the list comprehension. \n",
        "\n",
        "3. Step 3: **Operations/Statement inside the for loop.** Whereas we would normally write this **after** the for loop, in list comprehensions, these come **before** our for loop. The operation in this case is `append(i)`. In list comprehensions, we don't need the word append, writing `i` is enough.\n",
        "```\n",
        "l=[]\n",
        "for i in range(0,101):\n",
        "    l.append(i)\n",
        "```\n",
        "vs\n",
        "```\n",
        "l=[i for i in range(0,101)]\n",
        "```\n",
        "And that's it!"
      ]
    },
    {
      "cell_type": "markdown",
      "metadata": {
        "id": "Z00FtU7PgaRV"
      },
      "source": [
        "A cool thing about list comprehensions is how short they can be. You'll often use for loops, and these can even become `nested for loops`(*where we have for loops within others*) containing `if statements`. Without list comprehensions, you could easily be writing 10 lines of code, over and over again. But this shortens it all down to 1 line!"
      ]
    },
    {
      "cell_type": "markdown",
      "metadata": {
        "id": "E5bhRvuCgaRX"
      },
      "source": [
        "The syntax for a list comprehesion is:\n",
        "\n",
        "`newlist = [expression for element in iterable]`"
      ]
    },
    {
      "cell_type": "markdown",
      "metadata": {
        "id": "vK52qrnpgaRY"
      },
      "source": [
        "Let's take a look at a slightly more complex example\n",
        "\n",
        "Consider the populations data again"
      ]
    },
    {
      "cell_type": "code",
      "execution_count": 1,
      "metadata": {
        "id": "v0XFNCm9gaRa"
      },
      "outputs": [],
      "source": [
        "population=[122520463,17914954,219711928,49575968,13803365,61291696,56910721,8793585,12146523,12830849,32793809,96781959,15436764,19750494, 29580236]"
      ]
    },
    {
      "cell_type": "markdown",
      "metadata": {
        "id": "QVAOaXh7gaRb"
      },
      "source": [
        "We only want to get the populations above 70 million in one list. How do we do this using a list comprehension?"
      ]
    },
    {
      "cell_type": "code",
      "execution_count": null,
      "metadata": {
        "id": "pLzkGoFdgaRc"
      },
      "outputs": [],
      "source": [
        "l=[pop for pop in population if pop > 69999999]"
      ]
    },
    {
      "cell_type": "markdown",
      "metadata": {
        "id": "PXKo1XungaRc"
      },
      "source": [
        "The code without comprehensions is:"
      ]
    },
    {
      "cell_type": "code",
      "execution_count": null,
      "metadata": {
        "id": "MFC3ChUpgaRd"
      },
      "outputs": [],
      "source": [
        "l=[]\n",
        "for pop in population:\n",
        "    if pop>69999999:\n",
        "        l.append(pop)"
      ]
    },
    {
      "cell_type": "markdown",
      "metadata": {
        "id": "KDxGIRzvgaRi"
      },
      "source": [
        "This is what we've shortened into 1 line of code! Isn't this so neat."
      ]
    },
    {
      "cell_type": "markdown",
      "metadata": {
        "id": "yYO1LCxkgaRj"
      },
      "source": [
        "The syntax in this case becomes:\n",
        "\n",
        "`newlist = [expression for element in iterable if condition]`"
      ]
    },
    {
      "cell_type": "markdown",
      "metadata": {
        "id": "f7qR_oqTgaRk"
      },
      "source": [
        "Try the examples below"
      ]
    },
    {
      "cell_type": "markdown",
      "metadata": {
        "id": "MvQ4LZc9gaRk"
      },
      "source": [
        "Consider this list of numbers:"
      ]
    },
    {
      "cell_type": "code",
      "execution_count": 6,
      "metadata": {
        "id": "cF-I9uGugaRl",
        "colab": {
          "base_uri": "https://localhost:8080/"
        },
        "outputId": "36b1ce94-024c-4afc-cf41-7c5e501cb071"
      },
      "outputs": [
        {
          "output_type": "execute_result",
          "data": {
            "text/plain": [
              "[934, 537, 841, 873, 715, 978]"
            ]
          },
          "metadata": {},
          "execution_count": 6
        }
      ],
      "source": [
        "values = [934, 277, 537, 409, 432, 325, 140, 841, 873, 329, 715, 978]\n",
        "# Using the above values list, generate a new list where \n",
        "# - each item is a tuple of value in the above list and its square root.\n",
        "# - the tuple is generated only for values above 500\n",
        "\n",
        "v=[ example for example in values if example > 500 ]\n",
        "v\n",
        "\n"
      ]
    },
    {
      "cell_type": "markdown",
      "metadata": {
        "id": "aVMWpKTkgaRl"
      },
      "source": [
        "Now, python not only allows list comprehesions, but also dictionary comprehensions. Consider a scenerio where you wanted a dictionary containing the keys as all even numbers from 0-100, and the values being the squares of those numbers. "
      ]
    },
    {
      "cell_type": "code",
      "execution_count": 7,
      "metadata": {
        "id": "FbyMULCIgaRm",
        "outputId": "1db2ec72-2a6d-4d7b-8929-fefda27ed14d",
        "colab": {
          "base_uri": "https://localhost:8080/"
        }
      },
      "outputs": [
        {
          "output_type": "stream",
          "name": "stdout",
          "text": [
            "{0: 0, 2: 4, 4: 16, 6: 36, 8: 64, 10: 100, 12: 144, 14: 196, 16: 256, 18: 324, 20: 400, 22: 484, 24: 576, 26: 676, 28: 784, 30: 900, 32: 1024, 34: 1156, 36: 1296, 38: 1444, 40: 1600, 42: 1764, 44: 1936, 46: 2116, 48: 2304, 50: 2500, 52: 2704, 54: 2916, 56: 3136, 58: 3364, 60: 3600, 62: 3844, 64: 4096, 66: 4356, 68: 4624, 70: 4900, 72: 5184, 74: 5476, 76: 5776, 78: 6084, 80: 6400, 82: 6724, 84: 7056, 86: 7396, 88: 7744, 90: 8100, 92: 8464, 94: 8836, 96: 9216, 98: 9604, 100: 10000}\n"
          ]
        }
      ],
      "source": [
        "d={}\n",
        "for i in range(0,101,2):\n",
        "    d[i]=i**2\n",
        "print(d)"
      ]
    },
    {
      "cell_type": "markdown",
      "metadata": {
        "id": "zU4mnU7ogaRn"
      },
      "source": [
        "Following the syntax we've had for list comprehesions, create a dictionary comprehension of the above. Remember that since this is a dictionary, we'll use curly brackets."
      ]
    },
    {
      "cell_type": "code",
      "execution_count": 17,
      "metadata": {
        "id": "tPyGysRbgaRo"
      },
      "outputs": [],
      "source": [
        "d = {i : i for i in range(0,101,2)}"
      ]
    },
    {
      "cell_type": "code",
      "source": [
        "d"
      ],
      "metadata": {
        "colab": {
          "base_uri": "https://localhost:8080/"
        },
        "id": "N-d75cYl512M",
        "outputId": "9e0d16f9-c6f6-460b-f237-e2947623890f"
      },
      "execution_count": 18,
      "outputs": [
        {
          "output_type": "execute_result",
          "data": {
            "text/plain": [
              "{0: 0,\n",
              " 2: 2,\n",
              " 4: 4,\n",
              " 6: 6,\n",
              " 8: 8,\n",
              " 10: 10,\n",
              " 12: 12,\n",
              " 14: 14,\n",
              " 16: 16,\n",
              " 18: 18,\n",
              " 20: 20,\n",
              " 22: 22,\n",
              " 24: 24,\n",
              " 26: 26,\n",
              " 28: 28,\n",
              " 30: 30,\n",
              " 32: 32,\n",
              " 34: 34,\n",
              " 36: 36,\n",
              " 38: 38,\n",
              " 40: 40,\n",
              " 42: 42,\n",
              " 44: 44,\n",
              " 46: 46,\n",
              " 48: 48,\n",
              " 50: 50,\n",
              " 52: 52,\n",
              " 54: 54,\n",
              " 56: 56,\n",
              " 58: 58,\n",
              " 60: 60,\n",
              " 62: 62,\n",
              " 64: 64,\n",
              " 66: 66,\n",
              " 68: 68,\n",
              " 70: 70,\n",
              " 72: 72,\n",
              " 74: 74,\n",
              " 76: 76,\n",
              " 78: 78,\n",
              " 80: 80,\n",
              " 82: 82,\n",
              " 84: 84,\n",
              " 86: 86,\n",
              " 88: 88,\n",
              " 90: 90,\n",
              " 92: 92,\n",
              " 94: 94,\n",
              " 96: 96,\n",
              " 98: 98,\n",
              " 100: 100}"
            ]
          },
          "metadata": {},
          "execution_count": 18
        }
      ]
    },
    {
      "cell_type": "code",
      "source": [],
      "metadata": {
        "id": "Us9gp2wH7Bby"
      },
      "execution_count": null,
      "outputs": []
    }
  ],
  "metadata": {
    "anaconda-cloud": {},
    "celltoolbar": "Éditer les Méta-Données",
    "hide_input": false,
    "kernelspec": {
      "display_name": "Python 3",
      "language": "python",
      "name": "python3"
    },
    "language_info": {
      "codemirror_mode": {
        "name": "ipython",
        "version": 3
      },
      "file_extension": ".py",
      "mimetype": "text/x-python",
      "name": "python",
      "nbconvert_exporter": "python",
      "pygments_lexer": "ipython3",
      "version": "3.10.2"
    },
    "latex_envs": {
      "LaTeX_envs_menu_present": true,
      "autoclose": false,
      "autocomplete": true,
      "bibliofile": "biblio.bib",
      "cite_by": "apalike",
      "current_citInitial": 1,
      "eqLabelWithNumbers": true,
      "eqNumInitial": 1,
      "hotkeys": {
        "equation": "Ctrl-E",
        "itemize": "Ctrl-I"
      },
      "labels_anchors": false,
      "latex_user_defs": false,
      "report_style_numbering": false,
      "user_envs_cfg": false
    },
    "n_questions": 1,
    "nbTranslate": {
      "displayLangs": [
        "*"
      ],
      "hotkey": "alt-t",
      "langInMainMenu": true,
      "sourceLang": "fr",
      "targetLang": "en",
      "useGoogleTranslate": true
    },
    "owner": "DataScientest",
    "vscode": {
      "interpreter": {
        "hash": "a0329d1e859fdaae7091121e22fb799195311d986a530316c2954a05cd641814"
      }
    },
    "colab": {
      "provenance": [],
      "include_colab_link": true
    }
  },
  "nbformat": 4,
  "nbformat_minor": 0
}